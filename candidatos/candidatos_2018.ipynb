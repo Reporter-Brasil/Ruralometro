{
 "cells": [
  {
   "cell_type": "code",
   "execution_count": 1,
   "metadata": {},
   "outputs": [],
   "source": [
    "# -*- coding: utf-8\n",
    "# Repórter Brasil (http://ruralometro.reporterbrasil.org.br/)\n",
    "# Reinaldo Chaves (@paidatocandeira)\n",
    "# Programa para criar base de candidatos 2018, para pegar o cargo que concorrem os deputados eleitos em 2014"
   ]
  },
  {
   "cell_type": "code",
   "execution_count": null,
   "metadata": {},
   "outputs": [],
   "source": []
  },
  {
   "cell_type": "code",
   "execution_count": null,
   "metadata": {},
   "outputs": [],
   "source": [
    "import pandas as pd\n",
    "from pathlib import Path\n",
    "import requests\n",
    "import unidecode"
   ]
  },
  {
   "cell_type": "markdown",
   "metadata": {},
   "source": [
    "Funcao para ler arquivos em diretorio - 2018"
   ]
  },
  {
   "cell_type": "code",
   "execution_count": 22,
   "metadata": {},
   "outputs": [],
   "source": [
    "def _reader_2018(fname):\n",
    "    return pd.read_csv(fname, sep=';', encoding='latin_1', converters={'NR_CPF_CANDIDATO': lambda x: str(x), \n",
    "                                                                       'SQ_CANDIDATO': lambda x: str(x),\n",
    "                                                                       'NR_CANDIDATO': lambda x: str(x)\n",
    "                                                                      })"
   ]
  },
  {
   "cell_type": "code",
   "execution_count": null,
   "metadata": {},
   "outputs": [],
   "source": []
  },
  {
   "cell_type": "markdown",
   "metadata": {},
   "source": [
    "Candidatos 2018"
   ]
  },
  {
   "cell_type": "code",
   "execution_count": 23,
   "metadata": {},
   "outputs": [],
   "source": [
    "folder = Path(\"candidatos_2018\")\n",
    "candidatos_2018 = pd.concat([\n",
    "    _reader_2018(csv)\n",
    "    for csv in folder.glob(\"*.csv\")\n",
    "])"
   ]
  },
  {
   "cell_type": "code",
   "execution_count": 24,
   "metadata": {},
   "outputs": [],
   "source": [
    "# Apaga as colunas que não serão usadas\n",
    "del candidatos_2018['DT_GERACAO']\n",
    "del candidatos_2018['HH_GERACAO']\n",
    "del candidatos_2018['ANO_ELEICAO']\n",
    "del candidatos_2018['CD_TIPO_ELEICAO']\n",
    "del candidatos_2018['NM_TIPO_ELEICAO']\n",
    "del candidatos_2018['NR_TURNO']\n",
    "del candidatos_2018['CD_ELEICAO']\n",
    "del candidatos_2018['DS_ELEICAO']\n",
    "del candidatos_2018['DT_ELEICAO']\n",
    "del candidatos_2018['TP_ABRANGENCIA']\n",
    "del candidatos_2018['SG_UE']\n",
    "del candidatos_2018['NM_UE']\n",
    "del candidatos_2018['CD_CARGO']\n",
    "del candidatos_2018['CD_SITUACAO_CANDIDATURA']\n",
    "del candidatos_2018['CD_DETALHE_SITUACAO_CAND']\n",
    "del candidatos_2018['DS_DETALHE_SITUACAO_CAND']\n",
    "del candidatos_2018['TP_AGREMIACAO']\n",
    "del candidatos_2018['NR_PARTIDO']\n",
    "del candidatos_2018['NM_PARTIDO']\n",
    "del candidatos_2018['SQ_COLIGACAO']\n",
    "del candidatos_2018['NM_COLIGACAO']\n",
    "del candidatos_2018['DS_COMPOSICAO_COLIGACAO']\n",
    "del candidatos_2018['CD_NACIONALIDADE']\n",
    "del candidatos_2018['DS_NACIONALIDADE']\n",
    "del candidatos_2018['SG_UF_NASCIMENTO']\n",
    "del candidatos_2018['CD_MUNICIPIO_NASCIMENTO']\n",
    "del candidatos_2018['NM_MUNICIPIO_NASCIMENTO']\n",
    "del candidatos_2018['NR_IDADE_DATA_POSSE']\n",
    "del candidatos_2018['NR_TITULO_ELEITORAL_CANDIDATO']\n",
    "del candidatos_2018['CD_GENERO']\n",
    "del candidatos_2018['DS_GENERO']\n",
    "del candidatos_2018['CD_GRAU_INSTRUCAO']\n",
    "del candidatos_2018['DS_GRAU_INSTRUCAO']\n",
    "del candidatos_2018['CD_ESTADO_CIVIL']\n",
    "del candidatos_2018['DS_ESTADO_CIVIL']\n",
    "del candidatos_2018['CD_COR_RACA']\n",
    "del candidatos_2018['DS_COR_RACA']\n",
    "del candidatos_2018['CD_OCUPACAO']\n",
    "del candidatos_2018['NR_DESPESA_MAX_CAMPANHA']\n",
    "del candidatos_2018['CD_SIT_TOT_TURNO']\n",
    "del candidatos_2018['DS_SIT_TOT_TURNO']\n",
    "del candidatos_2018['NR_PROTOCOLO_CANDIDATURA']\n",
    "del candidatos_2018['NR_PROCESSO']\n",
    "del candidatos_2018['NM_SOCIAL_CANDIDATO']\n",
    "del candidatos_2018['DS_SITUACAO_CANDIDATURA'] # opcional\n",
    "del candidatos_2018['ST_REELEICAO'] # opcional\n",
    "del candidatos_2018['ST_DECLARAR_BENS'] # opcional"
   ]
  },
  {
   "cell_type": "code",
   "execution_count": 25,
   "metadata": {},
   "outputs": [],
   "source": [
    "candidatos_2018.columns = ['uf',\n",
    "                           'cargo', \n",
    "                           'sequencial', \n",
    "                           'numero_urna', \n",
    "                           'nome_completo',\n",
    "                           'nome_urna',\n",
    "                           'cpf',\n",
    "                           'e_mail', \n",
    "                           'partido_eleicao', \n",
    "                           'data_nascimento',\n",
    "                           'ocupacao']"
   ]
  },
  {
   "cell_type": "code",
   "execution_count": 26,
   "metadata": {},
   "outputs": [
    {
     "name": "stdout",
     "output_type": "stream",
     "text": [
      "<class 'pandas.core.frame.DataFrame'>\n",
      "Int64Index: 27887 entries, 0 to 414\n",
      "Data columns (total 11 columns):\n",
      "uf                 27887 non-null object\n",
      "cargo              27887 non-null object\n",
      "sequencial         27887 non-null object\n",
      "numero_urna        27887 non-null object\n",
      "nome_completo      27887 non-null object\n",
      "nome_urna          27887 non-null object\n",
      "cpf                27887 non-null object\n",
      "e_mail             27887 non-null object\n",
      "partido_eleicao    27887 non-null object\n",
      "data_nascimento    27887 non-null object\n",
      "ocupacao           27887 non-null object\n",
      "dtypes: object(11)\n",
      "memory usage: 2.6+ MB\n"
     ]
    }
   ],
   "source": [
    "candidatos_2018.info()"
   ]
  },
  {
   "cell_type": "code",
   "execution_count": 18,
   "metadata": {},
   "outputs": [
    {
     "data": {
      "text/html": [
       "<div>\n",
       "<style scoped>\n",
       "    .dataframe tbody tr th:only-of-type {\n",
       "        vertical-align: middle;\n",
       "    }\n",
       "\n",
       "    .dataframe tbody tr th {\n",
       "        vertical-align: top;\n",
       "    }\n",
       "\n",
       "    .dataframe thead th {\n",
       "        text-align: right;\n",
       "    }\n",
       "</style>\n",
       "<table border=\"1\" class=\"dataframe\">\n",
       "  <thead>\n",
       "    <tr style=\"text-align: right;\">\n",
       "      <th></th>\n",
       "      <th>index</th>\n",
       "      <th>uf</th>\n",
       "      <th>cargo</th>\n",
       "      <th>sequencial</th>\n",
       "      <th>numero_urna</th>\n",
       "      <th>nome_completo</th>\n",
       "      <th>nome_urna</th>\n",
       "      <th>cpf</th>\n",
       "      <th>e_mail</th>\n",
       "      <th>partido_eleicao</th>\n",
       "      <th>data_nascimento</th>\n",
       "      <th>ocupacao</th>\n",
       "    </tr>\n",
       "  </thead>\n",
       "  <tbody>\n",
       "    <tr>\n",
       "      <th>0</th>\n",
       "      <td>0</td>\n",
       "      <td>AC</td>\n",
       "      <td>DEPUTADO ESTADUAL</td>\n",
       "      <td>10000601020</td>\n",
       "      <td>14088</td>\n",
       "      <td>ANA ISLA ARRUDA FREITAS</td>\n",
       "      <td>ANA FREITAS</td>\n",
       "      <td>93353405291</td>\n",
       "      <td>ANAFREITAS.AIF@GMAIL.COM</td>\n",
       "      <td>PTB</td>\n",
       "      <td>12/08/1987</td>\n",
       "      <td>DONA DE CASA</td>\n",
       "    </tr>\n",
       "    <tr>\n",
       "      <th>1</th>\n",
       "      <td>1</td>\n",
       "      <td>AC</td>\n",
       "      <td>DEPUTADO ESTADUAL</td>\n",
       "      <td>10000608366</td>\n",
       "      <td>13012</td>\n",
       "      <td>JONAS DE SOUZA LIMA</td>\n",
       "      <td>JONAS LIMA</td>\n",
       "      <td>13838873220</td>\n",
       "      <td>JONASLIMA12@GMAIL.COM</td>\n",
       "      <td>PT</td>\n",
       "      <td>03/02/1962</td>\n",
       "      <td>DEPUTADO</td>\n",
       "    </tr>\n",
       "    <tr>\n",
       "      <th>2</th>\n",
       "      <td>2</td>\n",
       "      <td>AC</td>\n",
       "      <td>DEPUTADO ESTADUAL</td>\n",
       "      <td>10000610671</td>\n",
       "      <td>11789</td>\n",
       "      <td>HAYDA FERREIRA GUERRA</td>\n",
       "      <td>PASTORA HAYDA FERREIRA</td>\n",
       "      <td>00359474209</td>\n",
       "      <td>ANGELMFERREIRA@GMAIL.COM</td>\n",
       "      <td>PP</td>\n",
       "      <td>04/10/1962</td>\n",
       "      <td>OUTROS</td>\n",
       "    </tr>\n",
       "    <tr>\n",
       "      <th>3</th>\n",
       "      <td>3</td>\n",
       "      <td>AC</td>\n",
       "      <td>DEPUTADO ESTADUAL</td>\n",
       "      <td>10000602298</td>\n",
       "      <td>12100</td>\n",
       "      <td>MARIA LUZEMIRA AGUIAR CARVALHO</td>\n",
       "      <td>MIRIA CARVALHO</td>\n",
       "      <td>13874888215</td>\n",
       "      <td>PDTACRE12@GMAIL.COM</td>\n",
       "      <td>PDT</td>\n",
       "      <td>04/06/1962</td>\n",
       "      <td>OUTROS</td>\n",
       "    </tr>\n",
       "    <tr>\n",
       "      <th>4</th>\n",
       "      <td>4</td>\n",
       "      <td>AC</td>\n",
       "      <td>DEPUTADO ESTADUAL</td>\n",
       "      <td>10000607181</td>\n",
       "      <td>28333</td>\n",
       "      <td>ROGER SANTOS DA SILVA</td>\n",
       "      <td>ROGER SANTOS</td>\n",
       "      <td>67517889249</td>\n",
       "      <td>ROGERS@HOTMAIL.COM</td>\n",
       "      <td>PRTB</td>\n",
       "      <td>27/05/1979</td>\n",
       "      <td>AGRICULTOR</td>\n",
       "    </tr>\n",
       "  </tbody>\n",
       "</table>\n",
       "</div>"
      ],
      "text/plain": [
       "   index  uf              cargo   sequencial numero_urna  \\\n",
       "0      0  AC  DEPUTADO ESTADUAL  10000601020       14088   \n",
       "1      1  AC  DEPUTADO ESTADUAL  10000608366       13012   \n",
       "2      2  AC  DEPUTADO ESTADUAL  10000610671       11789   \n",
       "3      3  AC  DEPUTADO ESTADUAL  10000602298       12100   \n",
       "4      4  AC  DEPUTADO ESTADUAL  10000607181       28333   \n",
       "\n",
       "                    nome_completo               nome_urna          cpf  \\\n",
       "0         ANA ISLA ARRUDA FREITAS             ANA FREITAS  93353405291   \n",
       "1             JONAS DE SOUZA LIMA              JONAS LIMA  13838873220   \n",
       "2           HAYDA FERREIRA GUERRA  PASTORA HAYDA FERREIRA  00359474209   \n",
       "3  MARIA LUZEMIRA AGUIAR CARVALHO          MIRIA CARVALHO  13874888215   \n",
       "4           ROGER SANTOS DA SILVA           ROGER SANTOS   67517889249   \n",
       "\n",
       "                     e_mail partido_eleicao data_nascimento      ocupacao  \n",
       "0  ANAFREITAS.AIF@GMAIL.COM             PTB      12/08/1987  DONA DE CASA  \n",
       "1     JONASLIMA12@GMAIL.COM              PT      03/02/1962      DEPUTADO  \n",
       "2  ANGELMFERREIRA@GMAIL.COM              PP      04/10/1962        OUTROS  \n",
       "3       PDTACRE12@GMAIL.COM             PDT      04/06/1962        OUTROS  \n",
       "4        ROGERS@HOTMAIL.COM            PRTB      27/05/1979    AGRICULTOR  "
      ]
     },
     "execution_count": 18,
     "metadata": {},
     "output_type": "execute_result"
    }
   ],
   "source": [
    "candidatos_2018.reset_index().head()"
   ]
  },
  {
   "cell_type": "code",
   "execution_count": 19,
   "metadata": {},
   "outputs": [],
   "source": [
    "candidatos_2018.drop('sequencial', axis=1, inplace = True)\n",
    "candidatos_2018.drop('numero_urna', axis=1, inplace = True)\n",
    "candidatos_2018.drop('nome_completo', axis=1, inplace = True)\n",
    "candidatos_2018.drop('e_mail', axis=1, inplace = True)\n",
    "candidatos_2018.drop('partido_eleicao', axis=1, inplace = True)\n",
    "candidatos_2018.drop('data_nascimento', axis=1, inplace = True)\n",
    "candidatos_2018.drop('ocupacao', axis=1, inplace = True)"
   ]
  },
  {
   "cell_type": "code",
   "execution_count": 20,
   "metadata": {},
   "outputs": [],
   "source": [
    "candidatos_2018.columns = ['uf_eleicao_disputa', 'cargo_em_disputa', 'nome_urna', 'cpf']"
   ]
  },
  {
   "cell_type": "code",
   "execution_count": 21,
   "metadata": {},
   "outputs": [],
   "source": [
    "candidatos_2018.to_excel('resultados/candidatos_2018.xlsx',sheet_name='Sheet1')"
   ]
  },
  {
   "cell_type": "code",
   "execution_count": null,
   "metadata": {},
   "outputs": [],
   "source": []
  },
  {
   "cell_type": "markdown",
   "metadata": {},
   "source": [
    "Com código sequencial"
   ]
  },
  {
   "cell_type": "code",
   "execution_count": 27,
   "metadata": {},
   "outputs": [],
   "source": [
    "candidatos_2018.drop('numero_urna', axis=1, inplace = True)\n",
    "candidatos_2018.drop('nome_completo', axis=1, inplace = True)\n",
    "candidatos_2018.drop('e_mail', axis=1, inplace = True)\n",
    "candidatos_2018.drop('partido_eleicao', axis=1, inplace = True)\n",
    "candidatos_2018.drop('data_nascimento', axis=1, inplace = True)\n",
    "candidatos_2018.drop('ocupacao', axis=1, inplace = True)"
   ]
  },
  {
   "cell_type": "code",
   "execution_count": 28,
   "metadata": {},
   "outputs": [],
   "source": [
    "candidatos_2018.columns = ['uf_eleicao_disputa', 'cargo_em_disputa', 'sequencial', 'nome_urna', 'cpf']"
   ]
  },
  {
   "cell_type": "code",
   "execution_count": 29,
   "metadata": {},
   "outputs": [],
   "source": [
    "candidatos_2018.to_excel('resultados/candidatos_2018_sequencial.xlsx',sheet_name='Sheet1')"
   ]
  },
  {
   "cell_type": "code",
   "execution_count": null,
   "metadata": {},
   "outputs": [],
   "source": []
  }
 ],
 "metadata": {
  "kernelspec": {
   "display_name": "Python 3",
   "language": "python",
   "name": "python3"
  },
  "language_info": {
   "codemirror_mode": {
    "name": "ipython",
    "version": 3
   },
   "file_extension": ".py",
   "mimetype": "text/x-python",
   "name": "python",
   "nbconvert_exporter": "python",
   "pygments_lexer": "ipython3",
   "version": "3.6.2"
  }
 },
 "nbformat": 4,
 "nbformat_minor": 2
}
