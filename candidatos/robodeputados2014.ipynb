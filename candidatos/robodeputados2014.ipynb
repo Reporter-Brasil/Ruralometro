{
 "cells": [
  {
   "cell_type": "code",
   "execution_count": 1,
   "metadata": {},
   "outputs": [],
   "source": [
    "# -*- coding: utf-8\n",
    "# Repórter Brasil (http://ruralometro.reporterbrasil.org.br/)\n",
    "# Reinaldo Chaves (@paidatocandeira)\n",
    "# Programa para criar base de deputados 2014, com CPF e id da API da Câmara"
   ]
  },
  {
   "cell_type": "code",
   "execution_count": null,
   "metadata": {},
   "outputs": [],
   "source": []
  },
  {
   "cell_type": "code",
   "execution_count": null,
   "metadata": {},
   "outputs": [],
   "source": [
    "import pandas as pd\n",
    "from pathlib import Path\n",
    "import requests\n",
    "import unidecode"
   ]
  },
  {
   "cell_type": "code",
   "execution_count": null,
   "metadata": {},
   "outputs": [],
   "source": []
  },
  {
   "cell_type": "markdown",
   "metadata": {},
   "source": [
    "Funcao para ler arquivos em diretorio - 2014"
   ]
  },
  {
   "cell_type": "code",
   "execution_count": 2,
   "metadata": {},
   "outputs": [],
   "source": [
    "def _reader_2014(fname):\n",
    "    return pd.read_csv(fname, sep=';', header=None, encoding='latin_1', converters={13: lambda x: str(x), 11: lambda x: str(x)})"
   ]
  },
  {
   "cell_type": "code",
   "execution_count": null,
   "metadata": {},
   "outputs": [],
   "source": []
  },
  {
   "cell_type": "markdown",
   "metadata": {},
   "source": [
    "Função para retirar acentuação"
   ]
  },
  {
   "cell_type": "code",
   "execution_count": 2,
   "metadata": {},
   "outputs": [],
   "source": [
    "def f(str):\n",
    "    return (unidecode.unidecode(str))"
   ]
  },
  {
   "cell_type": "code",
   "execution_count": null,
   "metadata": {},
   "outputs": [],
   "source": []
  },
  {
   "cell_type": "markdown",
   "metadata": {},
   "source": [
    "Carrega os candidatos de 2014"
   ]
  },
  {
   "cell_type": "markdown",
   "metadata": {},
   "source": [
    "Os arquivos oficiais de candidatos são do TSE (http://agencia.tse.jus.br/estatistica/sead/odsele/consulta_cand/consulta_cand_2014.zip)"
   ]
  },
  {
   "cell_type": "markdown",
   "metadata": {},
   "source": [
    "Os arquivos TXT foram armazenados numa pasta chamada candidatos_2014. O programa vai todos os arquivos e juntá-los em um"
   ]
  },
  {
   "cell_type": "code",
   "execution_count": 4,
   "metadata": {},
   "outputs": [],
   "source": [
    "folder = Path(\"candidatos_2014\")\n",
    "candidatos_2014 = pd.concat([\n",
    "    _reader_2014(txt)\n",
    "    for txt in folder.glob(\"*.txt\")\n",
    "])"
   ]
  },
  {
   "cell_type": "code",
   "execution_count": 5,
   "metadata": {},
   "outputs": [],
   "source": [
    "# Apaga as colunas que não serão usadas\n",
    "del candidatos_2014[0]\n",
    "del candidatos_2014[1]\n",
    "del candidatos_2014[2]\n",
    "del candidatos_2014[3]\n",
    "del candidatos_2014[4]\n",
    "del candidatos_2014[6]\n",
    "del candidatos_2014[7]\n",
    "del candidatos_2014[8]\n",
    "del candidatos_2014[12]\n",
    "del candidatos_2014[15]\n",
    "del candidatos_2014[16]\n",
    "del candidatos_2014[17]\n",
    "del candidatos_2014[19]\n",
    "del candidatos_2014[20]\n",
    "del candidatos_2014[21]\n",
    "del candidatos_2014[22]\n",
    "del candidatos_2014[23]\n",
    "del candidatos_2014[24]\n",
    "del candidatos_2014[25]\n",
    "del candidatos_2014[26]\n",
    "del candidatos_2014[27]\n",
    "del candidatos_2014[28]\n",
    "del candidatos_2014[29]\n",
    "del candidatos_2014[30]\n",
    "del candidatos_2014[31]\n",
    "del candidatos_2014[32]\n",
    "del candidatos_2014[33]\n",
    "del candidatos_2014[34]\n",
    "del candidatos_2014[35]\n",
    "del candidatos_2014[36]\n",
    "del candidatos_2014[37]\n",
    "del candidatos_2014[38]\n",
    "del candidatos_2014[39]\n",
    "del candidatos_2014[40]\n",
    "del candidatos_2014[41]\n",
    "del candidatos_2014[42]\n",
    "del candidatos_2014[43]\n",
    "del candidatos_2014[45]"
   ]
  },
  {
   "cell_type": "markdown",
   "metadata": {},
   "source": [
    "Dá nomes para as colunas"
   ]
  },
  {
   "cell_type": "code",
   "execution_count": 6,
   "metadata": {},
   "outputs": [],
   "source": [
    "candidatos_2014.columns = ['uf', 'cargo', 'nome_completo', 'sequencial', 'cpf', 'nome_urna', 'partido_eleicao', 'situacao']"
   ]
  },
  {
   "cell_type": "code",
   "execution_count": 7,
   "metadata": {},
   "outputs": [],
   "source": [
    "candidatos_2014[\"nome_completo\"] = candidatos_2014[\"nome_completo\"].apply(f)"
   ]
  },
  {
   "cell_type": "code",
   "execution_count": 18,
   "metadata": {},
   "outputs": [],
   "source": [
    "candidatos_2014.to_csv('resultados/candidatos_2014.csv', index=False)"
   ]
  },
  {
   "cell_type": "code",
   "execution_count": 8,
   "metadata": {},
   "outputs": [
    {
     "name": "stdout",
     "output_type": "stream",
     "text": [
      "<class 'pandas.core.frame.DataFrame'>\n",
      "Int64Index: 26245 entries, 0 to 1063\n",
      "Data columns (total 8 columns):\n",
      "uf                 26245 non-null object\n",
      "cargo              26245 non-null object\n",
      "nome_completo      26245 non-null object\n",
      "sequencial         26245 non-null object\n",
      "cpf                26245 non-null object\n",
      "nome_urna          26245 non-null object\n",
      "partido_eleicao    26245 non-null object\n",
      "situacao           26245 non-null object\n",
      "dtypes: object(8)\n",
      "memory usage: 1.8+ MB\n"
     ]
    }
   ],
   "source": [
    "candidatos_2014.info()"
   ]
  },
  {
   "cell_type": "code",
   "execution_count": 21,
   "metadata": {},
   "outputs": [
    {
     "data": {
      "text/html": [
       "<div>\n",
       "<style scoped>\n",
       "    .dataframe tbody tr th:only-of-type {\n",
       "        vertical-align: middle;\n",
       "    }\n",
       "\n",
       "    .dataframe tbody tr th {\n",
       "        vertical-align: top;\n",
       "    }\n",
       "\n",
       "    .dataframe thead th {\n",
       "        text-align: right;\n",
       "    }\n",
       "</style>\n",
       "<table border=\"1\" class=\"dataframe\">\n",
       "  <thead>\n",
       "    <tr style=\"text-align: right;\">\n",
       "      <th></th>\n",
       "      <th>uf</th>\n",
       "      <th>cargo</th>\n",
       "      <th>nome_completo</th>\n",
       "      <th>sequencial</th>\n",
       "      <th>cpf</th>\n",
       "      <th>nome_urna</th>\n",
       "      <th>partido_eleicao</th>\n",
       "      <th>situacao</th>\n",
       "    </tr>\n",
       "  </thead>\n",
       "  <tbody>\n",
       "    <tr>\n",
       "      <th>1058</th>\n",
       "      <td>RJ</td>\n",
       "      <td>DEPUTADO FEDERAL</td>\n",
       "      <td>CELSO ALENCAR RAMOS JACOB</td>\n",
       "      <td>190000001433</td>\n",
       "      <td>38108216753</td>\n",
       "      <td>CELSO JACOB</td>\n",
       "      <td>PMDB</td>\n",
       "      <td>SUPLENTE</td>\n",
       "    </tr>\n",
       "  </tbody>\n",
       "</table>\n",
       "</div>"
      ],
      "text/plain": [
       "      uf             cargo              nome_completo    sequencial  \\\n",
       "1058  RJ  DEPUTADO FEDERAL  CELSO ALENCAR RAMOS JACOB  190000001433   \n",
       "\n",
       "              cpf    nome_urna partido_eleicao  situacao  \n",
       "1058  38108216753  CELSO JACOB            PMDB  SUPLENTE  "
      ]
     },
     "execution_count": 21,
     "metadata": {},
     "output_type": "execute_result"
    }
   ],
   "source": [
    "nome = candidatos_2014[(candidatos_2014['nome_completo'] == 'CELSO ALENCAR RAMOS JACOB') ]\n",
    "nome"
   ]
  },
  {
   "cell_type": "markdown",
   "metadata": {},
   "source": [
    "Separa apenas deputados eleitos em 2014"
   ]
  },
  {
   "cell_type": "markdown",
   "metadata": {},
   "source": [
    "Revogação da liminar que atribuiu efeito suspensivo ao Recurso Extraordinário 847135, proferida na Ação Cautelar 3778, conforme mensagem do STF - o Tribunal procedeu à nova retotalização do resultado das Eleições de 2014. Foram computados como nulos os 16379 votos recebidos por Geraldo Hilario Torres. Com isso, Franklin passa à condição de 1º suplente e Adelmo Leão passa à condição de eleito."
   ]
  },
  {
   "cell_type": "markdown",
   "metadata": {},
   "source": [
    "E os deputados que morreram: <br>\n",
    "João Castelo (PSDB) ->  assumiu Luana Costa (PSB) <br>\n",
    "Rômulo Gouveia (PSD) -> assumiu Marcondes Gadelha (PSC)"
   ]
  },
  {
   "cell_type": "code",
   "execution_count": 20,
   "metadata": {},
   "outputs": [],
   "source": [
    "eleitos = candidatos_2014[(candidatos_2014['situacao'] == 'ELEITO POR QP') | \n",
    "                          (candidatos_2014['situacao'] == 'ELEITO POR MÉDIA') | \n",
    "                          (candidatos_2014['situacao'] == 'ELEITO') |\n",
    "                          (candidatos_2014['nome_completo'] == 'ADELMO CARNEIRO LEAO') |\n",
    "                          (candidatos_2014['nome_completo'] == 'LUANA MARIA DA SILVA COSTA')|\n",
    "                          (candidatos_2014['nome_completo'] == 'MARCONDES IRAN BENEVIDES GADELHA')\n",
    "                         ]\n",
    "eleitos_d = eleitos[(eleitos['cargo'] == 'DEPUTADO FEDERAL') & \n",
    "                    (eleitos['nome_completo'] != 'FRANKLIN ROBERTO DE LIMA SOUZA') & \n",
    "                     (eleitos['nome_completo'] != 'JOAO CASTELO RIBEIRO GONCALVES') & \n",
    "                     (eleitos['nome_completo'] != 'ROMULO JOSE DE GOUVEIA') \n",
    "                   ]"
   ]
  },
  {
   "cell_type": "markdown",
   "metadata": {},
   "source": [
    "Alternativa - todos como foram eleitos em 2014"
   ]
  },
  {
   "cell_type": "code",
   "execution_count": null,
   "metadata": {},
   "outputs": [],
   "source": [
    "eleitos_d = candidatos_2014[(candidatos_2014['situacao'] == 'ELEITO POR QP') | \n",
    "                          (candidatos_2014['situacao'] == 'ELEITO POR MÉDIA') | \n",
    "                          (candidatos_2014['situacao'] == 'ELEITO') \n",
    "                         ]"
   ]
  },
  {
   "cell_type": "code",
   "execution_count": null,
   "metadata": {},
   "outputs": [],
   "source": []
  },
  {
   "cell_type": "code",
   "execution_count": 21,
   "metadata": {},
   "outputs": [
    {
     "name": "stdout",
     "output_type": "stream",
     "text": [
      "<class 'pandas.core.frame.DataFrame'>\n",
      "Int64Index: 513 entries, 144 to 1028\n",
      "Data columns (total 8 columns):\n",
      "uf                 513 non-null object\n",
      "cargo              513 non-null object\n",
      "nome_completo      513 non-null object\n",
      "sequencial         513 non-null object\n",
      "cpf                513 non-null object\n",
      "nome_urna          513 non-null object\n",
      "partido_eleicao    513 non-null object\n",
      "situacao           513 non-null object\n",
      "dtypes: object(8)\n",
      "memory usage: 36.1+ KB\n"
     ]
    }
   ],
   "source": [
    "eleitos_d.info()"
   ]
  },
  {
   "cell_type": "code",
   "execution_count": 22,
   "metadata": {},
   "outputs": [],
   "source": [
    "eleitos_d.to_excel('resultados/eleitos_2014_tse.xlsx',sheet_name='Sheet1')"
   ]
  },
  {
   "cell_type": "code",
   "execution_count": null,
   "metadata": {},
   "outputs": [],
   "source": []
  },
  {
   "cell_type": "markdown",
   "metadata": {},
   "source": [
    "## Cria dataframe com deputado id, da API da Câmara"
   ]
  },
  {
   "cell_type": "markdown",
   "metadata": {},
   "source": [
    "Documentação: dadosabertos.camara.leg.br/swagger/api.html"
   ]
  },
  {
   "cell_type": "code",
   "execution_count": 23,
   "metadata": {},
   "outputs": [],
   "source": [
    "url = 'https://dadosabertos.camara.leg.br/api/v2/deputados'"
   ]
  },
  {
   "cell_type": "code",
   "execution_count": 24,
   "metadata": {},
   "outputs": [],
   "source": [
    "deputados = []\n",
    "for pagina in [1, 2, 3, 4, 5, 6, 7, 8]:\n",
    "    parametros = {'formato': 'json', 'itens': 100, 'pagina': pagina}\n",
    "    resposta = requests.get(url, parametros)\n",
    "    for deputado in resposta.json()['dados']:\n",
    "        dicionario = {\"deputado\": deputado['nome'], \"link_api\": deputado['uri']}\n",
    "        deputados.append(dicionario)"
   ]
  },
  {
   "cell_type": "code",
   "execution_count": 25,
   "metadata": {},
   "outputs": [],
   "source": [
    "df_deputados_api = pd.DataFrame(deputados)"
   ]
  },
  {
   "cell_type": "code",
   "execution_count": 26,
   "metadata": {},
   "outputs": [
    {
     "name": "stdout",
     "output_type": "stream",
     "text": [
      "<class 'pandas.core.frame.DataFrame'>\n",
      "RangeIndex: 513 entries, 0 to 512\n",
      "Data columns (total 2 columns):\n",
      "deputado    513 non-null object\n",
      "link_api    513 non-null object\n",
      "dtypes: object(2)\n",
      "memory usage: 8.1+ KB\n"
     ]
    }
   ],
   "source": [
    "df_deputados_api.info()"
   ]
  },
  {
   "cell_type": "code",
   "execution_count": null,
   "metadata": {},
   "outputs": [],
   "source": []
  },
  {
   "cell_type": "code",
   "execution_count": 27,
   "metadata": {},
   "outputs": [],
   "source": [
    "deputados_dados = []\n",
    "\n",
    "for num, row in df_deputados_api.iterrows():\n",
    "    url = (row['link_api'])\n",
    "    deputado = (row['deputado'])\n",
    "    #print('deputado: ' + deputado)\n",
    "    parametros = {'formato': 'json', 'itens': 100}\n",
    "    resposta = requests.get(url, parametros)\n",
    "    dicionario = {\"deputado_id\": str(resposta.json()['dados']['id']),\n",
    "                      \"nome_completo\": resposta.json()['dados']['nomeCivil'],\n",
    "                      \"uri\": url, \n",
    "                      \"partido\": resposta.json()['dados']['ultimoStatus']['siglaPartido'],\n",
    "                      \"legislatura\": resposta.json()['dados']['ultimoStatus']['idLegislatura'],\n",
    "                      \"situacao\": resposta.json()['dados']['ultimoStatus']['situacao'],\n",
    "                      \"condicao\": resposta.json()['dados']['ultimoStatus']['condicaoEleitoral']}\n",
    "    deputados_dados.append(dicionario)"
   ]
  },
  {
   "cell_type": "code",
   "execution_count": 28,
   "metadata": {},
   "outputs": [],
   "source": [
    "deputados_dados_api = pd.DataFrame(deputados_dados)"
   ]
  },
  {
   "cell_type": "code",
   "execution_count": 29,
   "metadata": {},
   "outputs": [],
   "source": [
    "deputados_dados_api[\"nome_completo\"] = deputados_dados_api[\"nome_completo\"].apply(f)"
   ]
  },
  {
   "cell_type": "code",
   "execution_count": 30,
   "metadata": {},
   "outputs": [
    {
     "name": "stdout",
     "output_type": "stream",
     "text": [
      "<class 'pandas.core.frame.DataFrame'>\n",
      "RangeIndex: 513 entries, 0 to 512\n",
      "Data columns (total 7 columns):\n",
      "condicao         513 non-null object\n",
      "deputado_id      513 non-null object\n",
      "legislatura      513 non-null int64\n",
      "nome_completo    513 non-null object\n",
      "partido          513 non-null object\n",
      "situacao         513 non-null object\n",
      "uri              513 non-null object\n",
      "dtypes: int64(1), object(6)\n",
      "memory usage: 28.1+ KB\n"
     ]
    }
   ],
   "source": [
    "deputados_dados_api.info()"
   ]
  },
  {
   "cell_type": "code",
   "execution_count": 34,
   "metadata": {},
   "outputs": [
    {
     "data": {
      "text/html": [
       "<div>\n",
       "<style scoped>\n",
       "    .dataframe tbody tr th:only-of-type {\n",
       "        vertical-align: middle;\n",
       "    }\n",
       "\n",
       "    .dataframe tbody tr th {\n",
       "        vertical-align: top;\n",
       "    }\n",
       "\n",
       "    .dataframe thead th {\n",
       "        text-align: right;\n",
       "    }\n",
       "</style>\n",
       "<table border=\"1\" class=\"dataframe\">\n",
       "  <thead>\n",
       "    <tr style=\"text-align: right;\">\n",
       "      <th></th>\n",
       "      <th>condicao</th>\n",
       "      <th>deputado_id</th>\n",
       "      <th>legislatura</th>\n",
       "      <th>nome_completo</th>\n",
       "      <th>partido</th>\n",
       "      <th>situacao</th>\n",
       "      <th>uri</th>\n",
       "    </tr>\n",
       "  </thead>\n",
       "  <tbody>\n",
       "    <tr>\n",
       "      <th>326</th>\n",
       "      <td>Efetivado</td>\n",
       "      <td>74470</td>\n",
       "      <td>55</td>\n",
       "      <td>MARCONDES IRAN BENEVIDES GADELHA</td>\n",
       "      <td>PSC</td>\n",
       "      <td>Exercício</td>\n",
       "      <td>https://dadosabertos.camara.leg.br/api/v2/depu...</td>\n",
       "    </tr>\n",
       "  </tbody>\n",
       "</table>\n",
       "</div>"
      ],
      "text/plain": [
       "      condicao deputado_id  legislatura                     nome_completo  \\\n",
       "326  Efetivado       74470           55  MARCONDES IRAN BENEVIDES GADELHA   \n",
       "\n",
       "    partido   situacao                                                uri  \n",
       "326     PSC  Exercício  https://dadosabertos.camara.leg.br/api/v2/depu...  "
      ]
     },
     "execution_count": 34,
     "metadata": {},
     "output_type": "execute_result"
    }
   ],
   "source": [
    "nome = deputados_dados_api[(deputados_dados_api['nome_completo'] == 'MARCONDES IRAN BENEVIDES GADELHA')]\n",
    "nome"
   ]
  },
  {
   "cell_type": "code",
   "execution_count": null,
   "metadata": {},
   "outputs": [],
   "source": []
  },
  {
   "cell_type": "code",
   "execution_count": null,
   "metadata": {},
   "outputs": [],
   "source": []
  },
  {
   "cell_type": "markdown",
   "metadata": {},
   "source": [
    "Comparação com os nomes completos das bases"
   ]
  },
  {
   "cell_type": "code",
   "execution_count": 31,
   "metadata": {},
   "outputs": [],
   "source": [
    "df_eleitos = pd.merge(eleitos_d, deputados_dados_api, left_on='nome_completo', right_on='nome_completo')"
   ]
  },
  {
   "cell_type": "code",
   "execution_count": 32,
   "metadata": {},
   "outputs": [
    {
     "name": "stdout",
     "output_type": "stream",
     "text": [
      "<class 'pandas.core.frame.DataFrame'>\n",
      "Int64Index: 472 entries, 0 to 471\n",
      "Data columns (total 14 columns):\n",
      "uf                 472 non-null object\n",
      "cargo              472 non-null object\n",
      "nome_completo      472 non-null object\n",
      "sequencial         472 non-null object\n",
      "cpf                472 non-null object\n",
      "nome_urna          472 non-null object\n",
      "partido_eleicao    472 non-null object\n",
      "situacao_x         472 non-null object\n",
      "condicao           472 non-null object\n",
      "deputado_id        472 non-null object\n",
      "legislatura        472 non-null int64\n",
      "partido            472 non-null object\n",
      "situacao_y         472 non-null object\n",
      "uri                472 non-null object\n",
      "dtypes: int64(1), object(13)\n",
      "memory usage: 55.3+ KB\n"
     ]
    }
   ],
   "source": [
    "df_eleitos.info()"
   ]
  },
  {
   "cell_type": "code",
   "execution_count": 28,
   "metadata": {},
   "outputs": [],
   "source": [
    "df_eleitos.to_csv('resultados/dep_eleitos_2014_parcial1.csv', index=False)"
   ]
  },
  {
   "cell_type": "code",
   "execution_count": 29,
   "metadata": {},
   "outputs": [],
   "source": [
    "df_eleitos.to_excel('resultados/dep_eleitos_2014_parcial1.xlsx',sheet_name='Sheet1')"
   ]
  },
  {
   "cell_type": "code",
   "execution_count": null,
   "metadata": {},
   "outputs": [],
   "source": []
  },
  {
   "cell_type": "markdown",
   "metadata": {},
   "source": [
    "Comparação mostra 43 nomes diferentes - podem ser nomes diferentes deputados que já deixaram o cargo"
   ]
  },
  {
   "cell_type": "markdown",
   "metadata": {},
   "source": [
    "outer: usa união de chaves de ambos os quadros, semelhante a uma junção externa completa do SQL; classificar chaves lexicograficamente\n",
    "indicator: Se True, adiciona uma coluna para saída DataFrame chamado \"_merge\" com informações sobre a origem de cada linha. Se uma seqüência de caracteres, a coluna com informações sobre a fonte de cada linha será adicionada para saída DataFrame, e a coluna será denominada valor da string. A coluna de informação é de tipo Categorical e assume um valor de \"left_only\" para observações cuja chave de mesclagem só aparece no DataFrame 'esquerdo', \"right_only\" para observações cuja chave de mesclagem aparece apenas no DataFrame 'direito' e \"ambos\" se o A chave de mesclagem da observação é encontrada em ambos."
   ]
  },
  {
   "cell_type": "code",
   "execution_count": null,
   "metadata": {},
   "outputs": [],
   "source": []
  },
  {
   "cell_type": "code",
   "execution_count": 23,
   "metadata": {},
   "outputs": [],
   "source": [
    "nomes_naoeleitos = pd.merge(eleitos_d, \n",
    "                        deputados_dados_api, \n",
    "                        left_on='nome_completo', \n",
    "                        right_on='nome_completo',\n",
    "                        how='outer',\n",
    "                        indicator=True)"
   ]
  },
  {
   "cell_type": "markdown",
   "metadata": {},
   "source": [
    "Agrupa apenas pelo lado esquerdo - a lista do TSE"
   ]
  },
  {
   "cell_type": "code",
   "execution_count": 24,
   "metadata": {},
   "outputs": [],
   "source": [
    "ldf = nomes_naoeleitos.query(\"_merge == 'left_only'\").drop('_merge',axis=1)"
   ]
  },
  {
   "cell_type": "code",
   "execution_count": 25,
   "metadata": {},
   "outputs": [
    {
     "name": "stdout",
     "output_type": "stream",
     "text": [
      "<class 'pandas.core.frame.DataFrame'>\n",
      "Int64Index: 43 entries, 22 to 508\n",
      "Data columns (total 14 columns):\n",
      "uf                 43 non-null object\n",
      "cargo              43 non-null object\n",
      "nome_completo      43 non-null object\n",
      "sequencial         43 non-null object\n",
      "cpf                43 non-null object\n",
      "nome_urna          43 non-null object\n",
      "partido_eleicao    43 non-null object\n",
      "situacao_x         43 non-null object\n",
      "condicao           0 non-null object\n",
      "deputado_id        0 non-null object\n",
      "legislatura        0 non-null float64\n",
      "partido            0 non-null object\n",
      "situacao_y         0 non-null object\n",
      "uri                0 non-null object\n",
      "dtypes: float64(1), object(13)\n",
      "memory usage: 5.0+ KB\n"
     ]
    }
   ],
   "source": [
    "ldf.info()"
   ]
  },
  {
   "cell_type": "code",
   "execution_count": 34,
   "metadata": {},
   "outputs": [],
   "source": [
    "ldf.to_csv('resultados/dep_eleitos_2014_parcial2.csv', index=False)\n",
    "ldf.to_excel('resultados/dep_eleitos_2014_parcial2.xlsx',sheet_name='Sheet1')"
   ]
  },
  {
   "cell_type": "markdown",
   "metadata": {},
   "source": [
    "Nesse ponto fiz uma checagem manual dos 43 nomes, adicionado a coluna chave que acessa a API de cada deputado"
   ]
  },
  {
   "cell_type": "code",
   "execution_count": null,
   "metadata": {},
   "outputs": [],
   "source": []
  },
  {
   "cell_type": "code",
   "execution_count": 26,
   "metadata": {},
   "outputs": [],
   "source": [
    "deputados_restantes = pd.read_excel('resultados/dep_eleitos_2014_parcial2.xlsx',sheet_name='Sheet1')"
   ]
  },
  {
   "cell_type": "code",
   "execution_count": 27,
   "metadata": {},
   "outputs": [
    {
     "name": "stdout",
     "output_type": "stream",
     "text": [
      "<class 'pandas.core.frame.DataFrame'>\n",
      "Int64Index: 43 entries, 22 to 508\n",
      "Data columns (total 15 columns):\n",
      "uf                 43 non-null object\n",
      "cargo              43 non-null object\n",
      "nome_completo      43 non-null object\n",
      "sequencial         43 non-null int64\n",
      "cpf                43 non-null int64\n",
      "nome_urna          43 non-null object\n",
      "partido_eleicao    43 non-null object\n",
      "situacao_x         43 non-null object\n",
      "condicao           0 non-null float64\n",
      "deputado_id        0 non-null float64\n",
      "legislatura        0 non-null float64\n",
      "partido            0 non-null float64\n",
      "situacao_y         0 non-null float64\n",
      "uri                0 non-null float64\n",
      "chave              43 non-null int64\n",
      "dtypes: float64(6), int64(3), object(6)\n",
      "memory usage: 5.4+ KB\n"
     ]
    }
   ],
   "source": [
    "deputados_restantes.info()"
   ]
  },
  {
   "cell_type": "code",
   "execution_count": 36,
   "metadata": {},
   "outputs": [],
   "source": []
  },
  {
   "cell_type": "code",
   "execution_count": 28,
   "metadata": {},
   "outputs": [
    {
     "name": "stdout",
     "output_type": "stream",
     "text": [
      "deputado: DILCEU SPERAFICO\n",
      "deputado: MARCELO BELINATI\n",
      "deputado: RONALDO FONSECA\n",
      "deputado: ANDERSON FERREIRA\n",
      "deputado: JARBAS\n",
      "deputado: DR JOÃO\n",
      "deputado: FERNANDO JORDÃO\n",
      "deputado: FABIANO HORTA\n",
      "deputado: WASHINGTON REIS\n",
      "deputado: EDUARDO CUNHA\n",
      "deputado: ANDRE FUFUCA\n",
      "deputado: ZÉ CARLOS\n",
      "deputado: ZÉ REINALDO\n",
      "deputado: ELIZIANE GAMA\n",
      "deputado: JOÃO CASTELO\n",
      "deputado: MARCOS ROTTA\n",
      "deputado: ATILA LINS\n",
      "deputado: MORONI\n",
      "deputado: ARNON BEZERRA\n",
      "deputado: NELSON MARCHEZAN JUNIOR\n",
      "deputado: BUSATO\n",
      "deputado: MARUN\n",
      "deputado: MARCIO MONTEIRO\n",
      "deputado: ODELMO LEÃO\n",
      "deputado: BRUNNY\n",
      "deputado: PASTOR FRANKLIN LIMA\n",
      "deputado: RÔMULO GOUVEIA\n",
      "deputado: MANOEL JUNIOR\n",
      "deputado: MOEMA GRAMACHO\n",
      "deputado: PAULO MALUF\n",
      "deputado: BRUNO COVAS\n",
      "deputado: RENATA ABREU\n",
      "deputado: EDINHO ARAUJO\n",
      "deputado: DUARTE NOGUEIRA\n",
      "deputado: ROBERTO GÓES\n",
      "deputado: JOZI ROCHA\n",
      "deputado: CESAR SOUZA\n",
      "deputado: JORGE BOEIRA\n",
      "deputado: MAX FILHO\n",
      "deputado: GIVALDO CARIMBÃO\n",
      "deputado: JHC\n",
      "deputado: ALEXANDRE BALDY\n",
      "deputado: JOVAIR ARANTES\n"
     ]
    }
   ],
   "source": [
    "restantes = []\n",
    "\n",
    "for num, row in deputados_restantes.iterrows():\n",
    "    chave = str((row['chave']))\n",
    "    url = 'https://dadosabertos.camara.leg.br/api/v2/deputados/' + chave\n",
    "    deputado = (row['nome_urna'])\n",
    "    print('deputado: ' + deputado)\n",
    "    parametros = {'formato': 'json', 'itens': 100}\n",
    "    resposta = requests.get(url, parametros)\n",
    "    dicionario = {\"deputado_id\": str(resposta.json()['dados']['id']),\n",
    "                      \"nome_completo\": resposta.json()['dados']['nomeCivil'],\n",
    "                      \"uri\": url, \n",
    "                      \"partido\": resposta.json()['dados']['ultimoStatus']['siglaPartido'],\n",
    "                      \"legislatura\": resposta.json()['dados']['ultimoStatus']['idLegislatura'],\n",
    "                      \"situacao\": resposta.json()['dados']['ultimoStatus']['situacao'],\n",
    "                      \"condicao\": resposta.json()['dados']['ultimoStatus']['condicaoEleitoral']}\n",
    "    restantes.append(dicionario)"
   ]
  },
  {
   "cell_type": "code",
   "execution_count": 29,
   "metadata": {},
   "outputs": [],
   "source": [
    "restantes_api = pd.DataFrame(restantes)"
   ]
  },
  {
   "cell_type": "code",
   "execution_count": 30,
   "metadata": {},
   "outputs": [
    {
     "name": "stdout",
     "output_type": "stream",
     "text": [
      "<class 'pandas.core.frame.DataFrame'>\n",
      "RangeIndex: 43 entries, 0 to 42\n",
      "Data columns (total 7 columns):\n",
      "condicao         43 non-null object\n",
      "deputado_id      43 non-null object\n",
      "legislatura      43 non-null int64\n",
      "nome_completo    43 non-null object\n",
      "partido          43 non-null object\n",
      "situacao         43 non-null object\n",
      "uri              43 non-null object\n",
      "dtypes: int64(1), object(6)\n",
      "memory usage: 2.4+ KB\n"
     ]
    }
   ],
   "source": [
    "restantes_api.info()"
   ]
  },
  {
   "cell_type": "code",
   "execution_count": 45,
   "metadata": {},
   "outputs": [],
   "source": [
    "restantes_api.to_csv('resultados/dep_eleitos_2014_parcial3.csv', index=False)\n",
    "restantes_api.to_excel('resultados/dep_eleitos_2014_parcial3.xlsx',sheet_name='Sheet1')"
   ]
  },
  {
   "cell_type": "code",
   "execution_count": null,
   "metadata": {},
   "outputs": [],
   "source": []
  },
  {
   "cell_type": "markdown",
   "metadata": {},
   "source": [
    "## Une os arquivos para chegar nos 513 deputados"
   ]
  },
  {
   "cell_type": "code",
   "execution_count": 33,
   "metadata": {},
   "outputs": [],
   "source": [
    "#deputados_eleitos_2014 = pd.read_excel('resultados/dep_eleitos_2014_unidos.xlsx',sheet_name='Sheet1', converters={'sequencial': lambda x: str(x), 'cpf': lambda x: str(x),  'deputado_id': lambda x: str(x)})"
   ]
  },
  {
   "cell_type": "code",
   "execution_count": 10,
   "metadata": {},
   "outputs": [],
   "source": [
    "deputados_eleitos_2014 = pd.read_excel('resultados/dep_eleitos_2014_unidos_versaoanterior.xlsx',sheet_name='Sheet1', converters={'sequencial': lambda x: str(x), 'cpf': lambda x: str(x),  'deputado_id': lambda x: str(x)})"
   ]
  },
  {
   "cell_type": "code",
   "execution_count": 11,
   "metadata": {},
   "outputs": [
    {
     "name": "stdout",
     "output_type": "stream",
     "text": [
      "<class 'pandas.core.frame.DataFrame'>\n",
      "Float64Index: 513 entries, 301.0 to 284.0\n",
      "Data columns (total 14 columns):\n",
      "uf                  513 non-null object\n",
      "cargo               470 non-null object\n",
      "nome_completo       513 non-null object\n",
      "sequencial          513 non-null object\n",
      "cpf                 513 non-null object\n",
      "nome_urna           513 non-null object\n",
      "partido_eleicao     513 non-null object\n",
      "situacao_urna       513 non-null object\n",
      "condicao            513 non-null object\n",
      "deputado_id         513 non-null object\n",
      "legislatura         513 non-null int64\n",
      "partido_atual       513 non-null object\n",
      "situacao_mandato    513 non-null object\n",
      "uri                 513 non-null object\n",
      "dtypes: int64(1), object(13)\n",
      "memory usage: 60.1+ KB\n"
     ]
    }
   ],
   "source": [
    "deputados_eleitos_2014.info()"
   ]
  },
  {
   "cell_type": "code",
   "execution_count": 12,
   "metadata": {},
   "outputs": [
    {
     "data": {
      "text/html": [
       "<div>\n",
       "<style scoped>\n",
       "    .dataframe tbody tr th:only-of-type {\n",
       "        vertical-align: middle;\n",
       "    }\n",
       "\n",
       "    .dataframe tbody tr th {\n",
       "        vertical-align: top;\n",
       "    }\n",
       "\n",
       "    .dataframe thead th {\n",
       "        text-align: right;\n",
       "    }\n",
       "</style>\n",
       "<table border=\"1\" class=\"dataframe\">\n",
       "  <thead>\n",
       "    <tr style=\"text-align: right;\">\n",
       "      <th></th>\n",
       "      <th>index</th>\n",
       "      <th>uf</th>\n",
       "      <th>cargo</th>\n",
       "      <th>nome_completo</th>\n",
       "      <th>sequencial</th>\n",
       "      <th>cpf</th>\n",
       "      <th>nome_urna</th>\n",
       "      <th>partido_eleicao</th>\n",
       "      <th>situacao_urna</th>\n",
       "      <th>condicao</th>\n",
       "      <th>deputado_id</th>\n",
       "      <th>legislatura</th>\n",
       "      <th>partido_atual</th>\n",
       "      <th>situacao_mandato</th>\n",
       "      <th>uri</th>\n",
       "    </tr>\n",
       "  </thead>\n",
       "  <tbody>\n",
       "    <tr>\n",
       "      <th>0</th>\n",
       "      <td>301.0</td>\n",
       "      <td>RR</td>\n",
       "      <td>DEPUTADO FEDERAL</td>\n",
       "      <td>ABEL SALVADOR MESQUITA JUNIOR</td>\n",
       "      <td>230000000452</td>\n",
       "      <td>18286585291</td>\n",
       "      <td>ABEL GALINHA</td>\n",
       "      <td>PDT</td>\n",
       "      <td>ELEITO POR QP</td>\n",
       "      <td>Titular</td>\n",
       "      <td>178957</td>\n",
       "      <td>55</td>\n",
       "      <td>DEM</td>\n",
       "      <td>Exercício</td>\n",
       "      <td>https://dadosabertos.camara.leg.br/api/v2/depu...</td>\n",
       "    </tr>\n",
       "    <tr>\n",
       "      <th>1</th>\n",
       "      <td>79.0</td>\n",
       "      <td>PE</td>\n",
       "      <td>DEPUTADO FEDERAL</td>\n",
       "      <td>ADALBERTO CAVALCANTI RODRIGUES</td>\n",
       "      <td>170000000679</td>\n",
       "      <td>12534773453</td>\n",
       "      <td>ADALBERTO CAVALCANTI</td>\n",
       "      <td>PTB</td>\n",
       "      <td>ELEITO POR QP</td>\n",
       "      <td>Titular</td>\n",
       "      <td>178914</td>\n",
       "      <td>55</td>\n",
       "      <td>AVANTE</td>\n",
       "      <td>Exercício</td>\n",
       "      <td>https://dadosabertos.camara.leg.br/api/v2/depu...</td>\n",
       "    </tr>\n",
       "    <tr>\n",
       "      <th>2</th>\n",
       "      <td>318.0</td>\n",
       "      <td>BA</td>\n",
       "      <td>DEPUTADO FEDERAL</td>\n",
       "      <td>ADALBERTO SOUZA GALVAO</td>\n",
       "      <td>50000000202</td>\n",
       "      <td>21879869500</td>\n",
       "      <td>BEBETO</td>\n",
       "      <td>PSB</td>\n",
       "      <td>ELEITO POR QP</td>\n",
       "      <td>Titular</td>\n",
       "      <td>178834</td>\n",
       "      <td>55</td>\n",
       "      <td>PSB</td>\n",
       "      <td>Exercício</td>\n",
       "      <td>https://dadosabertos.camara.leg.br/api/v2/depu...</td>\n",
       "    </tr>\n",
       "    <tr>\n",
       "      <th>3</th>\n",
       "      <td>217.0</td>\n",
       "      <td>SE</td>\n",
       "      <td>DEPUTADO FEDERAL</td>\n",
       "      <td>ADELSON BARRETO DOS SANTOS</td>\n",
       "      <td>260000000090</td>\n",
       "      <td>23625678500</td>\n",
       "      <td>ADELSON BARRETO</td>\n",
       "      <td>PTB</td>\n",
       "      <td>ELEITO POR QP</td>\n",
       "      <td>Titular</td>\n",
       "      <td>178968</td>\n",
       "      <td>55</td>\n",
       "      <td>PR</td>\n",
       "      <td>Exercício</td>\n",
       "      <td>https://dadosabertos.camara.leg.br/api/v2/depu...</td>\n",
       "    </tr>\n",
       "    <tr>\n",
       "      <th>4</th>\n",
       "      <td>174.0</td>\n",
       "      <td>MT</td>\n",
       "      <td>DEPUTADO FEDERAL</td>\n",
       "      <td>ADILTON DOMINGOS SACHETTI</td>\n",
       "      <td>110000000541</td>\n",
       "      <td>45360707968</td>\n",
       "      <td>ADILTON SACHETTI</td>\n",
       "      <td>PSB</td>\n",
       "      <td>ELEITO POR QP</td>\n",
       "      <td>Titular</td>\n",
       "      <td>178903</td>\n",
       "      <td>55</td>\n",
       "      <td>PRB</td>\n",
       "      <td>Exercício</td>\n",
       "      <td>https://dadosabertos.camara.leg.br/api/v2/depu...</td>\n",
       "    </tr>\n",
       "  </tbody>\n",
       "</table>\n",
       "</div>"
      ],
      "text/plain": [
       "   index  uf             cargo                   nome_completo    sequencial  \\\n",
       "0  301.0  RR  DEPUTADO FEDERAL   ABEL SALVADOR MESQUITA JUNIOR  230000000452   \n",
       "1   79.0  PE  DEPUTADO FEDERAL  ADALBERTO CAVALCANTI RODRIGUES  170000000679   \n",
       "2  318.0  BA  DEPUTADO FEDERAL          ADALBERTO SOUZA GALVAO   50000000202   \n",
       "3  217.0  SE  DEPUTADO FEDERAL      ADELSON BARRETO DOS SANTOS  260000000090   \n",
       "4  174.0  MT  DEPUTADO FEDERAL       ADILTON DOMINGOS SACHETTI  110000000541   \n",
       "\n",
       "           cpf             nome_urna partido_eleicao  situacao_urna condicao  \\\n",
       "0  18286585291          ABEL GALINHA             PDT  ELEITO POR QP  Titular   \n",
       "1  12534773453  ADALBERTO CAVALCANTI             PTB  ELEITO POR QP  Titular   \n",
       "2  21879869500                BEBETO             PSB  ELEITO POR QP  Titular   \n",
       "3  23625678500       ADELSON BARRETO             PTB  ELEITO POR QP  Titular   \n",
       "4  45360707968      ADILTON SACHETTI             PSB  ELEITO POR QP  Titular   \n",
       "\n",
       "  deputado_id  legislatura partido_atual situacao_mandato  \\\n",
       "0      178957           55           DEM        Exercício   \n",
       "1      178914           55        AVANTE        Exercício   \n",
       "2      178834           55           PSB        Exercício   \n",
       "3      178968           55            PR        Exercício   \n",
       "4      178903           55           PRB        Exercício   \n",
       "\n",
       "                                                 uri  \n",
       "0  https://dadosabertos.camara.leg.br/api/v2/depu...  \n",
       "1  https://dadosabertos.camara.leg.br/api/v2/depu...  \n",
       "2  https://dadosabertos.camara.leg.br/api/v2/depu...  \n",
       "3  https://dadosabertos.camara.leg.br/api/v2/depu...  \n",
       "4  https://dadosabertos.camara.leg.br/api/v2/depu...  "
      ]
     },
     "execution_count": 12,
     "metadata": {},
     "output_type": "execute_result"
    }
   ],
   "source": [
    "deputados_eleitos_2014.reset_index().head()"
   ]
  },
  {
   "cell_type": "code",
   "execution_count": 13,
   "metadata": {},
   "outputs": [],
   "source": [
    "deputados_eleitos_2014.to_csv('resultados/dep_eleitos_2014_unidos.csv', index=False)"
   ]
  },
  {
   "cell_type": "code",
   "execution_count": null,
   "metadata": {},
   "outputs": [],
   "source": []
  },
  {
   "cell_type": "markdown",
   "metadata": {},
   "source": [
    "# Anota os deputados pertencentes à bancada ruralista"
   ]
  },
  {
   "cell_type": "code",
   "execution_count": 35,
   "metadata": {},
   "outputs": [],
   "source": [
    "deputados_eleitos_2014 = pd.read_csv('resultados/dep_eleitos_2014_unidos.csv',sep=',',encoding = 'utf-8', converters={'sequencial': lambda x: str(x), \n",
    "                                     'cpf': lambda x: str(x), \n",
    "                                     'deputado_id': lambda x: str(x)})"
   ]
  },
  {
   "cell_type": "code",
   "execution_count": 36,
   "metadata": {},
   "outputs": [],
   "source": [
    "deputados_eleitos_2014[\"nome_urna\"] = deputados_eleitos_2014[\"nome_urna\"].apply(f)"
   ]
  },
  {
   "cell_type": "code",
   "execution_count": 37,
   "metadata": {},
   "outputs": [],
   "source": [
    "bancada = pd.read_csv(\"resultados/bancadaruralista_deputados.csv\",sep=',',encoding = 'utf-8')"
   ]
  },
  {
   "cell_type": "code",
   "execution_count": null,
   "metadata": {},
   "outputs": [],
   "source": []
  },
  {
   "cell_type": "markdown",
   "metadata": {},
   "source": [
    "Verica nomes para checagem manual"
   ]
  },
  {
   "cell_type": "code",
   "execution_count": 38,
   "metadata": {},
   "outputs": [],
   "source": [
    "nomes_naoencontrados = pd.merge(deputados_eleitos_2014, \n",
    "                        bancada, \n",
    "                        left_on='nome_urna', \n",
    "                        right_on='nome_bancada_ruralista',\n",
    "                        how='outer',\n",
    "                        indicator=True)"
   ]
  },
  {
   "cell_type": "code",
   "execution_count": 39,
   "metadata": {},
   "outputs": [],
   "source": [
    "rdf = nomes_naoencontrados.query(\"_merge == 'right_only'\").drop('_merge',axis=1)"
   ]
  },
  {
   "cell_type": "code",
   "execution_count": 40,
   "metadata": {},
   "outputs": [
    {
     "data": {
      "text/plain": [
       "513           ANDRE AMARAL\n",
       "514            CELSO JACOB\n",
       "515             EDINHO BEZ\n",
       "516        ELIZEU DIONIZIO\n",
       "517       GUILHERME COELHO\n",
       "518          MAURO PEREIRA\n",
       "519        NELSON PADOVANI\n",
       "520    NIVALDO ALBUQUERQUE\n",
       "521     REINHOLD STEPHANES\n",
       "522         RENATO ANDRADE\n",
       "523       SILAS BRASILEIRO\n",
       "524         XUXU DAL MOLIN\n",
       "525           YEDA CRUSIUS\n",
       "Name: nome_bancada_ruralista, dtype: object"
      ]
     },
     "execution_count": 40,
     "metadata": {},
     "output_type": "execute_result"
    }
   ],
   "source": [
    "rdf.nome_bancada_ruralista"
   ]
  },
  {
   "cell_type": "code",
   "execution_count": 28,
   "metadata": {},
   "outputs": [],
   "source": [
    "rdf.to_csv('resultados/checar_bancada.csv', index=False)"
   ]
  },
  {
   "cell_type": "markdown",
   "metadata": {},
   "source": [
    "Suplentes em 2014: <br>\n",
    "ANDRE AMARAL <br>\n",
    "CELSO JACOB <br>\n",
    "EDINHO BEZ <br>\n",
    "ELIZEU DIONIZIO <br>\n",
    "GUILHERME COELHO <br>\n",
    "MAURO PEREIRA <br>\n",
    "NELSON PADOVANI <br>\n",
    "NIVALDO ALBUQUERQUE <br>\n",
    "REINHOLD STEPHANES <br>\n",
    "RENATO ANDRADE <br>\n",
    "SILAS BRASILEIRO <br>\n",
    "XUXU DAL MOLIN <br>\n",
    "YEDA CRUSIUS"
   ]
  },
  {
   "cell_type": "code",
   "execution_count": null,
   "metadata": {},
   "outputs": [],
   "source": []
  },
  {
   "cell_type": "code",
   "execution_count": 50,
   "metadata": {},
   "outputs": [],
   "source": [
    "encontrados1 = pd.merge(deputados_eleitos_2014, \n",
    "                        bancada, \n",
    "                        left_on='nome_urna', \n",
    "                        right_on='nome_bancada_ruralista')"
   ]
  },
  {
   "cell_type": "code",
   "execution_count": 51,
   "metadata": {},
   "outputs": [
    {
     "name": "stdout",
     "output_type": "stream",
     "text": [
      "<class 'pandas.core.frame.DataFrame'>\n",
      "Int64Index: 215 entries, 0 to 214\n",
      "Data columns (total 15 columns):\n",
      "uf                        215 non-null object\n",
      "cargo                     200 non-null object\n",
      "nome_completo             215 non-null object\n",
      "sequencial                215 non-null object\n",
      "cpf                       215 non-null object\n",
      "nome_urna                 215 non-null object\n",
      "partido_eleicao           215 non-null object\n",
      "situacao_urna             215 non-null object\n",
      "condicao                  215 non-null object\n",
      "deputado_id               215 non-null object\n",
      "legislatura               215 non-null int64\n",
      "partido_atual             215 non-null object\n",
      "situacao_mandato          215 non-null object\n",
      "uri                       215 non-null object\n",
      "nome_bancada_ruralista    215 non-null object\n",
      "dtypes: int64(1), object(14)\n",
      "memory usage: 26.9+ KB\n"
     ]
    }
   ],
   "source": [
    "encontrados1.info()"
   ]
  },
  {
   "cell_type": "code",
   "execution_count": 52,
   "metadata": {},
   "outputs": [],
   "source": [
    "encontrados1.to_excel('resultados/eleitos_final_parte1.xlsx',sheet_name='Sheet1')"
   ]
  },
  {
   "cell_type": "code",
   "execution_count": 46,
   "metadata": {},
   "outputs": [],
   "source": [
    "nomes_naoencontrados = pd.merge(deputados_eleitos_2014, \n",
    "                        bancada, \n",
    "                        left_on='nome_urna', \n",
    "                        right_on='nome_bancada_ruralista',\n",
    "                        how='outer',\n",
    "                        indicator=True)\n",
    "ldf = nomes_naoencontrados.query(\"_merge == 'left_only'\").drop('_merge',axis=1)"
   ]
  },
  {
   "cell_type": "code",
   "execution_count": 47,
   "metadata": {},
   "outputs": [
    {
     "name": "stdout",
     "output_type": "stream",
     "text": [
      "<class 'pandas.core.frame.DataFrame'>\n",
      "Int64Index: 298 entries, 1 to 511\n",
      "Data columns (total 15 columns):\n",
      "uf                        298 non-null object\n",
      "cargo                     270 non-null object\n",
      "nome_completo             298 non-null object\n",
      "sequencial                298 non-null object\n",
      "cpf                       298 non-null object\n",
      "nome_urna                 298 non-null object\n",
      "partido_eleicao           298 non-null object\n",
      "situacao_urna             298 non-null object\n",
      "condicao                  298 non-null object\n",
      "deputado_id               298 non-null object\n",
      "legislatura               298 non-null float64\n",
      "partido_atual             298 non-null object\n",
      "situacao_mandato          298 non-null object\n",
      "uri                       298 non-null object\n",
      "nome_bancada_ruralista    0 non-null object\n",
      "dtypes: float64(1), object(14)\n",
      "memory usage: 37.2+ KB\n"
     ]
    }
   ],
   "source": [
    "ldf.info()"
   ]
  },
  {
   "cell_type": "code",
   "execution_count": 49,
   "metadata": {},
   "outputs": [],
   "source": [
    "ldf.to_excel('resultados/eleitos_final_parte2.xlsx',sheet_name='Sheet1')"
   ]
  },
  {
   "cell_type": "code",
   "execution_count": null,
   "metadata": {},
   "outputs": [],
   "source": []
  },
  {
   "cell_type": "code",
   "execution_count": 2,
   "metadata": {},
   "outputs": [],
   "source": [
    "deputados_eleitos_2014 = pd.read_excel('resultados/eleitos_final_2014.xlsx',sheet_name='Sheet1', converters={'sequencial': lambda x: str(x), 'cpf': lambda x: str(x),  'deputado_id': lambda x: str(x)})"
   ]
  },
  {
   "cell_type": "code",
   "execution_count": 54,
   "metadata": {},
   "outputs": [
    {
     "name": "stdout",
     "output_type": "stream",
     "text": [
      "<class 'pandas.core.frame.DataFrame'>\n",
      "RangeIndex: 513 entries, 0 to 512\n",
      "Data columns (total 15 columns):\n",
      "uf                   513 non-null object\n",
      "cargo                470 non-null object\n",
      "nome_completo        513 non-null object\n",
      "sequencial           513 non-null object\n",
      "cpf                  513 non-null object\n",
      "nome_urna            513 non-null object\n",
      "partido_eleicao      513 non-null object\n",
      "situacao_urna        513 non-null object\n",
      "condicao             513 non-null object\n",
      "deputado_id          513 non-null object\n",
      "legislatura          513 non-null int64\n",
      "partido_atual        513 non-null object\n",
      "situacao_mandato     513 non-null object\n",
      "uri                  513 non-null object\n",
      "bancada_ruralista    513 non-null object\n",
      "dtypes: int64(1), object(14)\n",
      "memory usage: 60.2+ KB\n"
     ]
    }
   ],
   "source": [
    "deputados_eleitos_2014.info()"
   ]
  },
  {
   "cell_type": "code",
   "execution_count": null,
   "metadata": {},
   "outputs": [],
   "source": []
  },
  {
   "cell_type": "markdown",
   "metadata": {},
   "source": [
    "# Adiciona o total de doações recebidas"
   ]
  },
  {
   "cell_type": "code",
   "execution_count": 4,
   "metadata": {},
   "outputs": [],
   "source": [
    "total = pd.read_csv(\"resultados/total_doacoes_2014.csv\",sep=',', encoding = 'utf-8', converters={'cpf_candidato': lambda x: str(x)}, decimal = ',')"
   ]
  },
  {
   "cell_type": "code",
   "execution_count": 5,
   "metadata": {},
   "outputs": [],
   "source": [
    "deputados_eleitos_2014 = pd.merge(deputados_eleitos_2014, total, left_on='cpf', right_on='cpf_candidato')"
   ]
  },
  {
   "cell_type": "code",
   "execution_count": 6,
   "metadata": {},
   "outputs": [
    {
     "name": "stdout",
     "output_type": "stream",
     "text": [
      "<class 'pandas.core.frame.DataFrame'>\n",
      "Int64Index: 513 entries, 0 to 512\n",
      "Data columns (total 17 columns):\n",
      "uf                   513 non-null object\n",
      "cargo                470 non-null object\n",
      "nome_completo        513 non-null object\n",
      "sequencial           513 non-null object\n",
      "cpf                  513 non-null object\n",
      "nome_urna            513 non-null object\n",
      "partido_eleicao      513 non-null object\n",
      "situacao_urna        513 non-null object\n",
      "condicao             513 non-null object\n",
      "deputado_id          513 non-null object\n",
      "legislatura          513 non-null int64\n",
      "partido_atual        513 non-null object\n",
      "situacao_mandato     513 non-null object\n",
      "uri                  513 non-null object\n",
      "bancada_ruralista    513 non-null object\n",
      "cpf_candidato        513 non-null object\n",
      "total_valor_doado    513 non-null float64\n",
      "dtypes: float64(1), int64(1), object(15)\n",
      "memory usage: 72.1+ KB\n"
     ]
    }
   ],
   "source": [
    "deputados_eleitos_2014.info()"
   ]
  },
  {
   "cell_type": "code",
   "execution_count": null,
   "metadata": {},
   "outputs": [],
   "source": []
  },
  {
   "cell_type": "code",
   "execution_count": 7,
   "metadata": {},
   "outputs": [],
   "source": [
    "deputados_eleitos_2014.to_csv('resultados/dep_eleitos_2014_final.csv', index=False)"
   ]
  },
  {
   "cell_type": "code",
   "execution_count": 8,
   "metadata": {},
   "outputs": [
    {
     "data": {
      "text/html": [
       "<div>\n",
       "<style scoped>\n",
       "    .dataframe tbody tr th:only-of-type {\n",
       "        vertical-align: middle;\n",
       "    }\n",
       "\n",
       "    .dataframe tbody tr th {\n",
       "        vertical-align: top;\n",
       "    }\n",
       "\n",
       "    .dataframe thead th {\n",
       "        text-align: right;\n",
       "    }\n",
       "</style>\n",
       "<table border=\"1\" class=\"dataframe\">\n",
       "  <thead>\n",
       "    <tr style=\"text-align: right;\">\n",
       "      <th></th>\n",
       "      <th>index</th>\n",
       "      <th>uf</th>\n",
       "      <th>cargo</th>\n",
       "      <th>nome_completo</th>\n",
       "      <th>sequencial</th>\n",
       "      <th>cpf</th>\n",
       "      <th>nome_urna</th>\n",
       "      <th>partido_eleicao</th>\n",
       "      <th>situacao_urna</th>\n",
       "      <th>condicao</th>\n",
       "      <th>deputado_id</th>\n",
       "      <th>legislatura</th>\n",
       "      <th>partido_atual</th>\n",
       "      <th>situacao_mandato</th>\n",
       "      <th>uri</th>\n",
       "      <th>bancada_ruralista</th>\n",
       "      <th>cpf_candidato</th>\n",
       "      <th>total_valor_doado</th>\n",
       "    </tr>\n",
       "  </thead>\n",
       "  <tbody>\n",
       "    <tr>\n",
       "      <th>0</th>\n",
       "      <td>0</td>\n",
       "      <td>RR</td>\n",
       "      <td>DEPUTADO FEDERAL</td>\n",
       "      <td>ABEL SALVADOR MESQUITA JUNIOR</td>\n",
       "      <td>230000000452</td>\n",
       "      <td>18286585291</td>\n",
       "      <td>ABEL GALINHA</td>\n",
       "      <td>PDT</td>\n",
       "      <td>ELEITO POR QP</td>\n",
       "      <td>Titular</td>\n",
       "      <td>178957</td>\n",
       "      <td>55</td>\n",
       "      <td>DEM</td>\n",
       "      <td>Exercício</td>\n",
       "      <td>https://dadosabertos.camara.leg.br/api/v2/depu...</td>\n",
       "      <td>sim</td>\n",
       "      <td>18286585291</td>\n",
       "      <td>199396.00</td>\n",
       "    </tr>\n",
       "    <tr>\n",
       "      <th>1</th>\n",
       "      <td>1</td>\n",
       "      <td>MT</td>\n",
       "      <td>DEPUTADO FEDERAL</td>\n",
       "      <td>ADILTON DOMINGOS SACHETTI</td>\n",
       "      <td>110000000541</td>\n",
       "      <td>45360707968</td>\n",
       "      <td>ADILTON SACHETTI</td>\n",
       "      <td>PSB</td>\n",
       "      <td>ELEITO POR QP</td>\n",
       "      <td>Titular</td>\n",
       "      <td>178903</td>\n",
       "      <td>55</td>\n",
       "      <td>PRB</td>\n",
       "      <td>Exercício</td>\n",
       "      <td>https://dadosabertos.camara.leg.br/api/v2/depu...</td>\n",
       "      <td>sim</td>\n",
       "      <td>45360707968</td>\n",
       "      <td>3860361.98</td>\n",
       "    </tr>\n",
       "    <tr>\n",
       "      <th>2</th>\n",
       "      <td>2</td>\n",
       "      <td>SP</td>\n",
       "      <td>DEPUTADO FEDERAL</td>\n",
       "      <td>ADRIANO ELI CORREA</td>\n",
       "      <td>250000001388</td>\n",
       "      <td>17610241830</td>\n",
       "      <td>ELI CORREA FILHO</td>\n",
       "      <td>DEM</td>\n",
       "      <td>ELEITO POR QP</td>\n",
       "      <td>Titular</td>\n",
       "      <td>160532</td>\n",
       "      <td>55</td>\n",
       "      <td>DEM</td>\n",
       "      <td>Exercício</td>\n",
       "      <td>https://dadosabertos.camara.leg.br/api/v2/depu...</td>\n",
       "      <td>sim</td>\n",
       "      <td>17610241830</td>\n",
       "      <td>1107579.77</td>\n",
       "    </tr>\n",
       "    <tr>\n",
       "      <th>3</th>\n",
       "      <td>3</td>\n",
       "      <td>MG</td>\n",
       "      <td>DEPUTADO FEDERAL</td>\n",
       "      <td>AELTON JOSE DE FREITAS</td>\n",
       "      <td>130000000672</td>\n",
       "      <td>36179140634</td>\n",
       "      <td>AELTON FREITAS</td>\n",
       "      <td>PR</td>\n",
       "      <td>ELEITO POR QP</td>\n",
       "      <td>Titular</td>\n",
       "      <td>141372</td>\n",
       "      <td>55</td>\n",
       "      <td>PR</td>\n",
       "      <td>Exercício</td>\n",
       "      <td>https://dadosabertos.camara.leg.br/api/v2/depu...</td>\n",
       "      <td>sim</td>\n",
       "      <td>36179140634</td>\n",
       "      <td>1817657.03</td>\n",
       "    </tr>\n",
       "    <tr>\n",
       "      <th>4</th>\n",
       "      <td>4</td>\n",
       "      <td>RS</td>\n",
       "      <td>DEPUTADO FEDERAL</td>\n",
       "      <td>AFONSO ANTUNES DA MOTTA</td>\n",
       "      <td>210000000224</td>\n",
       "      <td>10777296004</td>\n",
       "      <td>AFONSO MOTTA</td>\n",
       "      <td>PDT</td>\n",
       "      <td>ELEITO POR MÉDIA</td>\n",
       "      <td>Titular</td>\n",
       "      <td>178835</td>\n",
       "      <td>55</td>\n",
       "      <td>PDT</td>\n",
       "      <td>Exercício</td>\n",
       "      <td>https://dadosabertos.camara.leg.br/api/v2/depu...</td>\n",
       "      <td>sim</td>\n",
       "      <td>10777296004</td>\n",
       "      <td>1354345.25</td>\n",
       "    </tr>\n",
       "  </tbody>\n",
       "</table>\n",
       "</div>"
      ],
      "text/plain": [
       "   index  uf             cargo                  nome_completo    sequencial  \\\n",
       "0      0  RR  DEPUTADO FEDERAL  ABEL SALVADOR MESQUITA JUNIOR  230000000452   \n",
       "1      1  MT  DEPUTADO FEDERAL      ADILTON DOMINGOS SACHETTI  110000000541   \n",
       "2      2  SP  DEPUTADO FEDERAL             ADRIANO ELI CORREA  250000001388   \n",
       "3      3  MG  DEPUTADO FEDERAL         AELTON JOSE DE FREITAS  130000000672   \n",
       "4      4  RS  DEPUTADO FEDERAL        AFONSO ANTUNES DA MOTTA  210000000224   \n",
       "\n",
       "           cpf         nome_urna partido_eleicao     situacao_urna condicao  \\\n",
       "0  18286585291      ABEL GALINHA             PDT     ELEITO POR QP  Titular   \n",
       "1  45360707968  ADILTON SACHETTI             PSB     ELEITO POR QP  Titular   \n",
       "2  17610241830  ELI CORREA FILHO             DEM     ELEITO POR QP  Titular   \n",
       "3  36179140634    AELTON FREITAS              PR     ELEITO POR QP  Titular   \n",
       "4  10777296004      AFONSO MOTTA             PDT  ELEITO POR MÉDIA  Titular   \n",
       "\n",
       "  deputado_id  legislatura partido_atual situacao_mandato  \\\n",
       "0      178957           55           DEM        Exercício   \n",
       "1      178903           55           PRB        Exercício   \n",
       "2      160532           55           DEM        Exercício   \n",
       "3      141372           55            PR        Exercício   \n",
       "4      178835           55           PDT        Exercício   \n",
       "\n",
       "                                                 uri bancada_ruralista  \\\n",
       "0  https://dadosabertos.camara.leg.br/api/v2/depu...               sim   \n",
       "1  https://dadosabertos.camara.leg.br/api/v2/depu...               sim   \n",
       "2  https://dadosabertos.camara.leg.br/api/v2/depu...               sim   \n",
       "3  https://dadosabertos.camara.leg.br/api/v2/depu...               sim   \n",
       "4  https://dadosabertos.camara.leg.br/api/v2/depu...               sim   \n",
       "\n",
       "  cpf_candidato  total_valor_doado  \n",
       "0   18286585291          199396.00  \n",
       "1   45360707968         3860361.98  \n",
       "2   17610241830         1107579.77  \n",
       "3   36179140634         1817657.03  \n",
       "4   10777296004         1354345.25  "
      ]
     },
     "execution_count": 8,
     "metadata": {},
     "output_type": "execute_result"
    }
   ],
   "source": [
    "deputados_eleitos_2014.reset_index().head()"
   ]
  },
  {
   "cell_type": "markdown",
   "metadata": {},
   "source": [
    "Faz um merge dos dados de TE com a lista acima para pegar todas as linhas que têm os documentos"
   ]
  },
  {
   "cell_type": "code",
   "execution_count": null,
   "metadata": {},
   "outputs": [],
   "source": []
  },
  {
   "cell_type": "code",
   "execution_count": 9,
   "metadata": {},
   "outputs": [],
   "source": [
    "deputados_eleitos_2014.to_excel('resultados/eleitos_final_2014.xlsx',sheet_name='Sheet1')"
   ]
  },
  {
   "cell_type": "code",
   "execution_count": 2,
   "metadata": {},
   "outputs": [],
   "source": [
    "deputados_eleitos_2014 = pd.read_excel('resultados/eleitos_final_2014.xlsx',sheet_name='Sheet1', converters={'politico_cpf': lambda x: str(x)}, decimal = ',')"
   ]
  },
  {
   "cell_type": "code",
   "execution_count": 3,
   "metadata": {},
   "outputs": [
    {
     "name": "stdout",
     "output_type": "stream",
     "text": [
      "<class 'pandas.core.frame.DataFrame'>\n",
      "RangeIndex: 513 entries, 0 to 512\n",
      "Data columns (total 10 columns):\n",
      "politico_estado                     513 non-null object\n",
      "politico_nome                       513 non-null object\n",
      "politico_cpf                        513 non-null object\n",
      "politico_nome_urna                  513 non-null object\n",
      "politico_partido_eleicao            513 non-null object\n",
      "politico_partido_atual              513 non-null object\n",
      "politico_bancada_ruralista          513 non-null object\n",
      "politico_total_recebido             513 non-null float64\n",
      "politico_cargo_bancada_ruralista    14 non-null object\n",
      "politico_candidato_cargo            0 non-null float64\n",
      "dtypes: float64(2), object(8)\n",
      "memory usage: 40.2+ KB\n"
     ]
    }
   ],
   "source": [
    "deputados_eleitos_2014.info()"
   ]
  },
  {
   "cell_type": "code",
   "execution_count": null,
   "metadata": {},
   "outputs": [],
   "source": []
  },
  {
   "cell_type": "markdown",
   "metadata": {},
   "source": [
    "Acessa os candidatos 2018"
   ]
  },
  {
   "cell_type": "code",
   "execution_count": 4,
   "metadata": {},
   "outputs": [],
   "source": [
    "candidatos_2018 = pd.read_excel('resultados/candidatos_2018.xlsx',sheet_name='Sheet1', converters={'sequencial': lambda x: str(x), \n",
    "                                                                                              'cpf': lambda x: str(x),  \n",
    "                                                                                              'numero_urna': lambda x: str(x)})"
   ]
  },
  {
   "cell_type": "code",
   "execution_count": 5,
   "metadata": {},
   "outputs": [
    {
     "name": "stdout",
     "output_type": "stream",
     "text": [
      "<class 'pandas.core.frame.DataFrame'>\n",
      "Int64Index: 27887 entries, 0 to 414\n",
      "Data columns (total 4 columns):\n",
      "uf_eleicao_disputa    27887 non-null object\n",
      "cargo_em_disputa      27887 non-null object\n",
      "nome_urna             27887 non-null object\n",
      "cpf                   27887 non-null object\n",
      "dtypes: object(4)\n",
      "memory usage: 1.1+ MB\n"
     ]
    }
   ],
   "source": [
    "candidatos_2018.info()"
   ]
  },
  {
   "cell_type": "code",
   "execution_count": null,
   "metadata": {},
   "outputs": [],
   "source": []
  },
  {
   "cell_type": "code",
   "execution_count": 6,
   "metadata": {},
   "outputs": [],
   "source": [
    "deputados_eleitos_2014_parcial = pd.merge(deputados_eleitos_2014, candidatos_2018, left_on='politico_cpf', right_on='cpf')"
   ]
  },
  {
   "cell_type": "code",
   "execution_count": null,
   "metadata": {},
   "outputs": [],
   "source": []
  },
  {
   "cell_type": "code",
   "execution_count": 7,
   "metadata": {},
   "outputs": [
    {
     "name": "stdout",
     "output_type": "stream",
     "text": [
      "<class 'pandas.core.frame.DataFrame'>\n",
      "Int64Index: 466 entries, 0 to 465\n",
      "Data columns (total 14 columns):\n",
      "politico_estado                     466 non-null object\n",
      "politico_nome                       466 non-null object\n",
      "politico_cpf                        466 non-null object\n",
      "politico_nome_urna                  466 non-null object\n",
      "politico_partido_eleicao            466 non-null object\n",
      "politico_partido_atual              466 non-null object\n",
      "politico_bancada_ruralista          466 non-null object\n",
      "politico_total_recebido             466 non-null float64\n",
      "politico_cargo_bancada_ruralista    12 non-null object\n",
      "politico_candidato_cargo            0 non-null float64\n",
      "uf_eleicao_disputa                  466 non-null object\n",
      "cargo_em_disputa                    466 non-null object\n",
      "nome_urna                           466 non-null object\n",
      "cpf                                 466 non-null object\n",
      "dtypes: float64(2), object(12)\n",
      "memory usage: 54.6+ KB\n"
     ]
    }
   ],
   "source": [
    "deputados_eleitos_2014_parcial.info()"
   ]
  },
  {
   "cell_type": "code",
   "execution_count": 8,
   "metadata": {},
   "outputs": [],
   "source": [
    "deputados_eleitos_2014_parcial.to_excel('resultados/eleitos_final_2014_com_cargos.xlsx',sheet_name='Sheet1')"
   ]
  },
  {
   "cell_type": "code",
   "execution_count": null,
   "metadata": {},
   "outputs": [],
   "source": []
  },
  {
   "cell_type": "code",
   "execution_count": 63,
   "metadata": {},
   "outputs": [
    {
     "name": "stdout",
     "output_type": "stream",
     "text": [
      "<class 'pandas.core.frame.DataFrame'>\n",
      "Int64Index: 50 entries, 8 to 499\n",
      "Data columns (total 14 columns):\n",
      "politico_estado                     50 non-null object\n",
      "politico_nome                       50 non-null object\n",
      "politico_cpf                        50 non-null object\n",
      "politico_nome_urna                  50 non-null object\n",
      "politico_partido_eleicao            50 non-null object\n",
      "politico_partido_atual              50 non-null object\n",
      "politico_bancada_ruralista          50 non-null object\n",
      "politico_total_recebido             50 non-null float64\n",
      "politico_cargo_bancada_ruralista    2 non-null object\n",
      "politico_candidato_cargo            0 non-null float64\n",
      "uf_eleicao_disputa                  0 non-null object\n",
      "cargo_em_disputa                    0 non-null object\n",
      "nome_urna                           0 non-null object\n",
      "cpf                                 0 non-null object\n",
      "dtypes: float64(2), object(12)\n",
      "memory usage: 5.9+ KB\n"
     ]
    }
   ],
   "source": [
    "nomes_naoencontrados = pd.merge(deputados_eleitos_2014, \n",
    "                        candidatos_2018, \n",
    "                        left_on='politico_cpf', \n",
    "                        right_on='cpf',\n",
    "                        how='outer',\n",
    "                        indicator=True)\n",
    "\n",
    "ldf = nomes_naoencontrados.query(\"_merge == 'left_only'\").drop('_merge',axis=1)\n",
    "\n",
    "ldf.info()"
   ]
  },
  {
   "cell_type": "code",
   "execution_count": 65,
   "metadata": {},
   "outputs": [],
   "source": [
    "ldf.to_excel('resultados/eleitos_final_2014_sem_cargos.xlsx',sheet_name='Sheet1')"
   ]
  },
  {
   "cell_type": "code",
   "execution_count": null,
   "metadata": {},
   "outputs": [],
   "source": []
  }
 ],
 "metadata": {
  "kernelspec": {
   "display_name": "Python 3",
   "language": "python",
   "name": "python3"
  },
  "language_info": {
   "codemirror_mode": {
    "name": "ipython",
    "version": 3
   },
   "file_extension": ".py",
   "mimetype": "text/x-python",
   "name": "python",
   "nbconvert_exporter": "python",
   "pygments_lexer": "ipython3",
   "version": "3.6.2"
  }
 },
 "nbformat": 4,
 "nbformat_minor": 2
}
