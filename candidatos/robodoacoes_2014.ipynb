{
 "cells": [
  {
   "cell_type": "code",
   "execution_count": 1,
   "metadata": {},
   "outputs": [],
   "source": [
    "# -*- coding: utf-8\n",
    "# Repórter Brasil (http://ruralometro.reporterbrasil.org.br/)\n",
    "# Reinaldo Chaves (@paidatocandeira)\n",
    "# Programa para carregar doacoes de deputados em 2014 e totalizar por cada um"
   ]
  },
  {
   "cell_type": "code",
   "execution_count": null,
   "metadata": {},
   "outputs": [],
   "source": []
  },
  {
   "cell_type": "code",
   "execution_count": null,
   "metadata": {},
   "outputs": [],
   "source": [
    "import pandas as pd"
   ]
  },
  {
   "cell_type": "markdown",
   "metadata": {},
   "source": [
    "# Carrega doacoes de deputados em 2014"
   ]
  },
  {
   "cell_type": "markdown",
   "metadata": {},
   "source": [
    "Lê arquivo oficial do TSE (http://agencia.tse.jus.br/estatistica/sead/odsele/prestacao_contas/prestacao_final_2014.zip)"
   ]
  },
  {
   "cell_type": "code",
   "execution_count": 2,
   "metadata": {},
   "outputs": [],
   "source": [
    "cand_doacoes = pd.read_csv(\"doacoes/receitas_candidatos_2014_brasil.txt\",sep=';', header=0, encoding = 'latin_1', converters={'CPF do candidato': lambda x: str(x), 'CPF/CNPJ do doador': lambda x: str(x), 'CPF/CNPJ do doador originário': lambda x: str(x)}, decimal = ',')"
   ]
  },
  {
   "cell_type": "code",
   "execution_count": 3,
   "metadata": {},
   "outputs": [],
   "source": [
    "# Apaga colunas que não serão usadas\n",
    "del cand_doacoes['Cód. Eleição']\n",
    "del cand_doacoes['Desc. Eleição']\n",
    "del cand_doacoes['CNPJ Prestador Conta']\n",
    "del cand_doacoes['Data e hora']\n",
    "del cand_doacoes['Sequencial Candidato']\n",
    "del cand_doacoes['Numero candidato']\n",
    "del cand_doacoes['Numero Recibo Eleitoral']\n",
    "del cand_doacoes['Numero do documento']\n",
    "del cand_doacoes['Nome do doador (Receita Federal)']\n",
    "del cand_doacoes['Sigla UE doador']\n",
    "del cand_doacoes['Número partido doador']\n",
    "del cand_doacoes['Número candidato doador']\n",
    "del cand_doacoes['Cod setor econômico do doador']\n",
    "del cand_doacoes['Setor econômico do doador']\n",
    "del cand_doacoes['Data da receita']\n",
    "del cand_doacoes['Setor econômico do doador originário']\n",
    "del cand_doacoes['Nome do doador originário (Receita Federal)']"
   ]
  },
  {
   "cell_type": "code",
   "execution_count": 4,
   "metadata": {},
   "outputs": [
    {
     "name": "stdout",
     "output_type": "stream",
     "text": [
      "<class 'pandas.core.frame.DataFrame'>\n",
      "RangeIndex: 427489 entries, 0 to 427488\n",
      "Data columns (total 15 columns):\n",
      "UF                               427489 non-null object\n",
      "Sigla  Partido                   427489 non-null object\n",
      "Cargo                            427489 non-null object\n",
      "Nome candidato                   427489 non-null object\n",
      "CPF do candidato                 427489 non-null object\n",
      "CPF/CNPJ do doador               427489 non-null object\n",
      "Nome do doador                   427489 non-null object\n",
      "Valor receita                    427489 non-null float64\n",
      "Tipo receita                     427489 non-null object\n",
      "Fonte recurso                    427489 non-null object\n",
      "Especie recurso                  427489 non-null object\n",
      "Descricao da receita             427489 non-null object\n",
      "CPF/CNPJ do doador originário    427489 non-null object\n",
      "Nome do doador originário        427489 non-null object\n",
      "Tipo doador originário           427489 non-null object\n",
      "dtypes: float64(1), object(14)\n",
      "memory usage: 48.9+ MB\n"
     ]
    }
   ],
   "source": [
    "cand_doacoes.info()"
   ]
  },
  {
   "cell_type": "code",
   "execution_count": 5,
   "metadata": {},
   "outputs": [],
   "source": [
    "cand_doacoes.to_csv('resultados/doacoes_brasil_2014.csv', index=False, decimal = ',')"
   ]
  },
  {
   "cell_type": "code",
   "execution_count": null,
   "metadata": {},
   "outputs": [],
   "source": []
  },
  {
   "cell_type": "code",
   "execution_count": 5,
   "metadata": {},
   "outputs": [],
   "source": [
    "deputados_eleitos_2014 = pd.read_csv('/home/reinaldo/Documentos/Code/RB2/candidatos/repo/resultados/dep_eleitos_2014_final.csv',sep=',',encoding = 'utf-8', converters={'sequencial': lambda x: str(x), \n",
    "                                                                                                                  'cpf': lambda x: str(x),  \n",
    "                                                                                                                  'deputado_id': lambda x: str(x)})"
   ]
  },
  {
   "cell_type": "code",
   "execution_count": 6,
   "metadata": {},
   "outputs": [
    {
     "name": "stdout",
     "output_type": "stream",
     "text": [
      "<class 'pandas.core.frame.DataFrame'>\n",
      "RangeIndex: 513 entries, 0 to 512\n",
      "Data columns (total 15 columns):\n",
      "uf                   513 non-null object\n",
      "cargo                470 non-null object\n",
      "nome_completo        513 non-null object\n",
      "sequencial           513 non-null object\n",
      "cpf                  513 non-null object\n",
      "nome_urna            513 non-null object\n",
      "partido_eleicao      513 non-null object\n",
      "situacao_urna        513 non-null object\n",
      "condicao             513 non-null object\n",
      "deputado_id          513 non-null object\n",
      "legislatura          513 non-null int64\n",
      "partido_atual        513 non-null object\n",
      "situacao_mandato     513 non-null object\n",
      "uri                  513 non-null object\n",
      "bancada_ruralista    513 non-null object\n",
      "dtypes: int64(1), object(14)\n",
      "memory usage: 60.2+ KB\n"
     ]
    }
   ],
   "source": [
    "deputados_eleitos_2014.info()"
   ]
  },
  {
   "cell_type": "code",
   "execution_count": null,
   "metadata": {},
   "outputs": [],
   "source": []
  },
  {
   "cell_type": "code",
   "execution_count": 20,
   "metadata": {},
   "outputs": [],
   "source": [
    "eleitos_d_doadores = pd.merge(cand_doacoes, deputados_eleitos_2014, left_on='CPF do candidato', right_on='cpf')"
   ]
  },
  {
   "cell_type": "code",
   "execution_count": 21,
   "metadata": {},
   "outputs": [
    {
     "name": "stdout",
     "output_type": "stream",
     "text": [
      "<class 'pandas.core.frame.DataFrame'>\n",
      "Int64Index: 47493 entries, 0 to 47492\n",
      "Data columns (total 30 columns):\n",
      "UF                               47493 non-null object\n",
      "Sigla  Partido                   47493 non-null object\n",
      "Cargo                            47493 non-null object\n",
      "Nome candidato                   47493 non-null object\n",
      "CPF do candidato                 47493 non-null object\n",
      "CPF/CNPJ do doador               47493 non-null object\n",
      "Nome do doador                   47493 non-null object\n",
      "Valor receita                    47493 non-null float64\n",
      "Tipo receita                     47493 non-null object\n",
      "Fonte recurso                    47493 non-null object\n",
      "Especie recurso                  47493 non-null object\n",
      "Descricao da receita             47493 non-null object\n",
      "CPF/CNPJ do doador originário    47493 non-null object\n",
      "Nome do doador originário        47493 non-null object\n",
      "Tipo doador originário           47493 non-null object\n",
      "uf                               47493 non-null object\n",
      "cargo                            44684 non-null object\n",
      "nome_completo                    47493 non-null object\n",
      "sequencial                       47493 non-null object\n",
      "cpf                              47493 non-null object\n",
      "nome_urna                        47493 non-null object\n",
      "partido_eleicao                  47493 non-null object\n",
      "situacao_urna                    47493 non-null object\n",
      "condicao                         47493 non-null object\n",
      "deputado_id                      47493 non-null object\n",
      "legislatura                      47493 non-null int64\n",
      "partido_atual                    47493 non-null object\n",
      "situacao_mandato                 47493 non-null object\n",
      "uri                              47493 non-null object\n",
      "bancada_ruralista                47493 non-null object\n",
      "dtypes: float64(1), int64(1), object(28)\n",
      "memory usage: 11.2+ MB\n"
     ]
    }
   ],
   "source": [
    "eleitos_d_doadores.info()"
   ]
  },
  {
   "cell_type": "code",
   "execution_count": 9,
   "metadata": {},
   "outputs": [],
   "source": [
    "eleitos_d_doadores.to_csv('resultados/doacoes_eleitos_2014.csv', index=False, decimal = ',')"
   ]
  },
  {
   "cell_type": "code",
   "execution_count": null,
   "metadata": {},
   "outputs": [],
   "source": []
  },
  {
   "cell_type": "code",
   "execution_count": 22,
   "metadata": {},
   "outputs": [],
   "source": [
    "eleitos_d_doadores.rename(columns={'CPF do candidato':'cpf_candidato'}, inplace=True)\n",
    "eleitos_d_doadores.rename(columns={'Valor receita':'valor_doado'}, inplace=True)"
   ]
  },
  {
   "cell_type": "code",
   "execution_count": null,
   "metadata": {},
   "outputs": [],
   "source": []
  },
  {
   "cell_type": "code",
   "execution_count": 23,
   "metadata": {},
   "outputs": [],
   "source": [
    "total = eleitos_d_doadores.groupby(\"cpf_candidato\").valor_doado.sum().reset_index().sort_values(\"valor_doado\", ascending=False)"
   ]
  },
  {
   "cell_type": "code",
   "execution_count": 24,
   "metadata": {},
   "outputs": [
    {
     "name": "stdout",
     "output_type": "stream",
     "text": [
      "<class 'pandas.core.frame.DataFrame'>\n",
      "Int64Index: 513 entries, 396 to 235\n",
      "Data columns (total 2 columns):\n",
      "cpf_candidato    513 non-null object\n",
      "valor_doado      513 non-null float64\n",
      "dtypes: float64(1), object(1)\n",
      "memory usage: 12.0+ KB\n"
     ]
    }
   ],
   "source": [
    "total.info()"
   ]
  },
  {
   "cell_type": "code",
   "execution_count": 25,
   "metadata": {},
   "outputs": [],
   "source": [
    "total.rename(columns={'valor_doado':'total_valor_doado'}, inplace=True)"
   ]
  },
  {
   "cell_type": "code",
   "execution_count": 26,
   "metadata": {},
   "outputs": [],
   "source": [
    "total.to_csv('resultados/total_doacoes_2014.csv', index=False, decimal = ',')"
   ]
  },
  {
   "cell_type": "code",
   "execution_count": null,
   "metadata": {},
   "outputs": [],
   "source": []
  }
 ],
 "metadata": {
  "kernelspec": {
   "display_name": "Python 3",
   "language": "python",
   "name": "python3"
  },
  "language_info": {
   "codemirror_mode": {
    "name": "ipython",
    "version": 3
   },
   "file_extension": ".py",
   "mimetype": "text/x-python",
   "name": "python",
   "nbconvert_exporter": "python",
   "pygments_lexer": "ipython3",
   "version": "3.6.2"
  }
 },
 "nbformat": 4,
 "nbformat_minor": 2
}
