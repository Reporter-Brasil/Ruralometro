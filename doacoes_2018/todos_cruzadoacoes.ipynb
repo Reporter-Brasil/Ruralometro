{
 "cells": [
  {
   "cell_type": "code",
   "execution_count": 1,
   "metadata": {},
   "outputs": [],
   "source": [
    "# -*- coding: utf-8\n",
    "# Repórter Brasil (http://ruralometro.reporterbrasil.org.br/)\n",
    "# Reinaldo Chaves (@paidatocandeira)\n",
    "# Programa para procurar doadores que estão na lista de embargos do Ibama e do trabalho escravo"
   ]
  },
  {
   "cell_type": "code",
   "execution_count": null,
   "metadata": {},
   "outputs": [],
   "source": []
  },
  {
   "cell_type": "code",
   "execution_count": null,
   "metadata": {},
   "outputs": [],
   "source": [
    "import pandas as pd"
   ]
  },
  {
   "cell_type": "code",
   "execution_count": null,
   "metadata": {},
   "outputs": [],
   "source": []
  },
  {
   "cell_type": "code",
   "execution_count": 2,
   "metadata": {},
   "outputs": [],
   "source": [
    "pd.options.display.float_format = '{:,.2f}'.format"
   ]
  },
  {
   "cell_type": "code",
   "execution_count": null,
   "metadata": {},
   "outputs": [],
   "source": []
  },
  {
   "cell_type": "code",
   "execution_count": 3,
   "metadata": {},
   "outputs": [],
   "source": [
    "cand_doacoes = pd.read_csv(\"doacoes_2018/receitas_candidatos/receitas_candidatos_2018_BRASIL.csv\",sep=';', header=0, encoding = 'latin_1', converters={'SQ_CANDIDATO': lambda x: str(x), \n",
    "'NR_CPF_CANDIDATO': lambda x: str(x), \n",
    "'NR_CPF_CNPJ_DOADOR': lambda x: str(x),\n",
    "'SQ_CANDIDATO_DOADOR': lambda x: str(x),\n",
    "'SQ_RECEITA': lambda x: str(x)\n",
    "                                                                                                                                                      }, decimal = ',')"
   ]
  },
  {
   "cell_type": "code",
   "execution_count": 4,
   "metadata": {},
   "outputs": [],
   "source": [
    "# Apaga colunas que não serão usadas\n",
    "del cand_doacoes['DT_GERACAO']\n",
    "del cand_doacoes['HH_GERACAO']\n",
    "del cand_doacoes['ANO_ELEICAO']\n",
    "del cand_doacoes['CD_TIPO_ELEICAO']\n",
    "del cand_doacoes['NM_TIPO_ELEICAO']\n",
    "del cand_doacoes['CD_ELEICAO']\n",
    "del cand_doacoes['DS_ELEICAO']\n",
    "del cand_doacoes['DT_ELEICAO']\n",
    "del cand_doacoes['ST_TURNO']\n",
    "del cand_doacoes['TP_PRESTACAO_CONTAS']\n",
    "del cand_doacoes['DT_PRESTACAO_CONTAS']\n",
    "del cand_doacoes['SQ_PRESTADOR_CONTAS']\n",
    "del cand_doacoes['SG_UE']\n",
    "del cand_doacoes['NM_UE']\n",
    "del cand_doacoes['NR_CNPJ_PRESTADOR_CONTA']\n",
    "del cand_doacoes['CD_CARGO']\n",
    "del cand_doacoes['NR_PARTIDO']\n",
    "del cand_doacoes['NM_PARTIDO']\n",
    "del cand_doacoes['CD_FONTE_RECEITA']\n",
    "del cand_doacoes['CD_ORIGEM_RECEITA']\n",
    "del cand_doacoes['CD_NATUREZA_RECEITA']\n",
    "del cand_doacoes['CD_ESPECIE_RECEITA']\n",
    "del cand_doacoes['CD_CNAE_DOADOR']\n",
    "del cand_doacoes['DS_CNAE_DOADOR']\n",
    "del cand_doacoes['CD_ESFERA_PARTIDARIA_DOADOR']\n",
    "del cand_doacoes['CD_MUNICIPIO_DOADOR']\n",
    "del cand_doacoes['CD_CARGO_CANDIDATO_DOADOR']\n",
    "del cand_doacoes['NR_PARTIDO_DOADOR']\n",
    "del cand_doacoes['NM_PARTIDO_DOADOR']"
   ]
  },
  {
   "cell_type": "code",
   "execution_count": 5,
   "metadata": {},
   "outputs": [],
   "source": [
    "def limpeza(linha):\n",
    "    documento = str(linha[\"NR_CPF_CNPJ_DOADOR\"].strip())\n",
    "    #print(documento)\n",
    "    if len(documento) > 11:\n",
    "        return documento[:8]\n",
    "    elif len(documento) == 11:\n",
    "        return \"documento_cpf_\"\n",
    "\n",
    "cand_doacoes['cnpj_raiz_cpf'] = cand_doacoes.apply(limpeza, axis = 1)\n",
    "doacoesPF = cand_doacoes[(cand_doacoes['cnpj_raiz_cpf'] == 'documento_cpf_')]\n",
    "doacoesPJ = cand_doacoes[(cand_doacoes['cnpj_raiz_cpf'] != 'documento_cpf_')]"
   ]
  },
  {
   "cell_type": "code",
   "execution_count": 6,
   "metadata": {},
   "outputs": [
    {
     "name": "stdout",
     "output_type": "stream",
     "text": [
      "<class 'pandas.core.frame.DataFrame'>\n",
      "RangeIndex: 145397 entries, 0 to 145396\n",
      "Data columns (total 29 columns):\n",
      "SG_UF                          145397 non-null object\n",
      "DS_CARGO                       145397 non-null object\n",
      "SQ_CANDIDATO                   145397 non-null object\n",
      "NR_CANDIDATO                   145397 non-null int64\n",
      "NM_CANDIDATO                   145397 non-null object\n",
      "NR_CPF_CANDIDATO               145397 non-null object\n",
      "NR_CPF_VICE_CANDIDATO          145397 non-null int64\n",
      "SG_PARTIDO                     145397 non-null object\n",
      "DS_FONTE_RECEITA               145397 non-null object\n",
      "DS_ORIGEM_RECEITA              145397 non-null object\n",
      "DS_NATUREZA_RECEITA            145397 non-null object\n",
      "DS_ESPECIE_RECEITA             145397 non-null object\n",
      "NR_CPF_CNPJ_DOADOR             145397 non-null object\n",
      "NM_DOADOR                      145397 non-null object\n",
      "NM_DOADOR_RFB                  145397 non-null object\n",
      "DS_ESFERA_PARTIDARIA_DOADOR    145397 non-null object\n",
      "SG_UF_DOADOR                   145397 non-null object\n",
      "NM_MUNICIPIO_DOADOR            145397 non-null object\n",
      "SQ_CANDIDATO_DOADOR            145397 non-null object\n",
      "NR_CANDIDATO_DOADOR            145397 non-null int64\n",
      "DS_CARGO_CANDIDATO_DOADOR      145397 non-null object\n",
      "SG_PARTIDO_DOADOR              145397 non-null object\n",
      "NR_RECIBO_DOACAO               145397 non-null object\n",
      "NR_DOCUMENTO_DOACAO            145397 non-null object\n",
      "SQ_RECEITA                     145397 non-null object\n",
      "DT_RECEITA                     145397 non-null object\n",
      "DS_RECEITA                     145397 non-null object\n",
      "VR_RECEITA                     145397 non-null float64\n",
      "cnpj_raiz_cpf                  144440 non-null object\n",
      "dtypes: float64(1), int64(3), object(25)\n",
      "memory usage: 32.2+ MB\n"
     ]
    }
   ],
   "source": [
    "cand_doacoes.info()"
   ]
  },
  {
   "cell_type": "code",
   "execution_count": 7,
   "metadata": {},
   "outputs": [],
   "source": [
    "cand_doacoes.to_excel('resultados/todas_doacoes2018.xlsx',sheet_name='Sheet1')"
   ]
  },
  {
   "cell_type": "code",
   "execution_count": null,
   "metadata": {},
   "outputs": [],
   "source": []
  },
  {
   "cell_type": "markdown",
   "metadata": {},
   "source": [
    "Ibama"
   ]
  },
  {
   "cell_type": "code",
   "execution_count": 3,
   "metadata": {},
   "outputs": [],
   "source": [
    "ibama = pd.read_excel('ibama_14_7_18.xlsx',sheet_name='Planilha1')\n",
    "ibama = ibama[pd.notnull(ibama['CPF_CNPJ'])]\n",
    "def limpeza1(linha):\n",
    "    documento = str(linha[\"CPF_CNPJ\"])\n",
    "    documento = documento.strip()\n",
    "    documento = documento.replace('.', '')\n",
    "    documento = documento.replace('-', '')\n",
    "    documento = documento.replace('/', '')\n",
    "    return str(documento)\n",
    "\n",
    "def limpeza2(linha):\n",
    "    documento = str(linha[\"CPF_CNPJ_limpo\"])\n",
    "    if len(documento) > 11:\n",
    "        return documento[:8]\n",
    "    else:\n",
    "        return \"documento_cpf\"\n",
    "\n",
    "ibama[\"CPF_CNPJ_limpo\"] = ibama.apply(limpeza1, axis=1)\n",
    "ibama['cnpj_raiz'] = ibama.apply(limpeza2, axis=1)\n",
    "ibamaPF = ibama[(ibama['cnpj_raiz'] == 'documento_cpf')]\n",
    "ibamaPJ = ibama[(ibama['cnpj_raiz'] != 'documento_cpf')]"
   ]
  },
  {
   "cell_type": "code",
   "execution_count": null,
   "metadata": {},
   "outputs": [],
   "source": []
  },
  {
   "cell_type": "code",
   "execution_count": 4,
   "metadata": {},
   "outputs": [
    {
     "name": "stdout",
     "output_type": "stream",
     "text": [
      "<class 'pandas.core.frame.DataFrame'>\n",
      "Int64Index: 59252 entries, 0 to 59693\n",
      "Data columns (total 18 columns):\n",
      "N_TAD                         59252 non-null int64\n",
      "SERIE_TAD                     59252 non-null object\n",
      "area_ha                       21036 non-null float64\n",
      "N_AI                          56759 non-null float64\n",
      "Nome_Razao_Social             59252 non-null object\n",
      "CPF_CNPJ                      59252 non-null object\n",
      "Localizacao_Imovel            52876 non-null object\n",
      "UF_Embargo                    59252 non-null object\n",
      "Municipio_Embargo             59252 non-null object\n",
      "cod_IBGE_Municipio_Embargo    59252 non-null int64\n",
      "Municipio                     59252 non-null object\n",
      "Bairro                        57525 non-null object\n",
      "Endereco                      59014 non-null object\n",
      "Julgamento                    59252 non-null object\n",
      "Infracao                      56758 non-null object\n",
      "Data_insercao_Lista           59251 non-null object\n",
      "CPF_CNPJ_limpo                59252 non-null object\n",
      "cnpj_raiz                     59252 non-null object\n",
      "dtypes: float64(2), int64(2), object(14)\n",
      "memory usage: 8.6+ MB\n"
     ]
    }
   ],
   "source": [
    "ibama.info()"
   ]
  },
  {
   "cell_type": "code",
   "execution_count": null,
   "metadata": {},
   "outputs": [],
   "source": []
  },
  {
   "cell_type": "code",
   "execution_count": 6,
   "metadata": {},
   "outputs": [
    {
     "data": {
      "text/html": [
       "<div>\n",
       "<style scoped>\n",
       "    .dataframe tbody tr th:only-of-type {\n",
       "        vertical-align: middle;\n",
       "    }\n",
       "\n",
       "    .dataframe tbody tr th {\n",
       "        vertical-align: top;\n",
       "    }\n",
       "\n",
       "    .dataframe thead th {\n",
       "        text-align: right;\n",
       "    }\n",
       "</style>\n",
       "<table border=\"1\" class=\"dataframe\">\n",
       "  <thead>\n",
       "    <tr style=\"text-align: right;\">\n",
       "      <th></th>\n",
       "      <th>N_TAD</th>\n",
       "      <th>SERIE_TAD</th>\n",
       "      <th>area_ha</th>\n",
       "      <th>N_AI</th>\n",
       "      <th>Nome_Razao_Social</th>\n",
       "      <th>CPF_CNPJ</th>\n",
       "      <th>Localizacao_Imovel</th>\n",
       "      <th>UF_Embargo</th>\n",
       "      <th>Municipio_Embargo</th>\n",
       "      <th>cod_IBGE_Municipio_Embargo</th>\n",
       "      <th>Municipio</th>\n",
       "      <th>Bairro</th>\n",
       "      <th>Endereco</th>\n",
       "      <th>Julgamento</th>\n",
       "      <th>Infracao</th>\n",
       "      <th>Data_insercao_Lista</th>\n",
       "      <th>CPF_CNPJ_limpo</th>\n",
       "      <th>cnpj_raiz</th>\n",
       "    </tr>\n",
       "  </thead>\n",
       "  <tbody>\n",
       "    <tr>\n",
       "      <th>33071</th>\n",
       "      <td>413929</td>\n",
       "      <td>C</td>\n",
       "      <td>nan</td>\n",
       "      <td>265,100.00</td>\n",
       "      <td>José Francisco de Fatima Santos</td>\n",
       "      <td>277.117.066-34</td>\n",
       "      <td>FAZ. SÃO JERONYMO, S/N - ZONA RURAL - COLOMBIA/SP</td>\n",
       "      <td>SP</td>\n",
       "      <td>Colômbia</td>\n",
       "      <td>3512100</td>\n",
       "      <td>Bebedouro/SP</td>\n",
       "      <td>Centro</td>\n",
       "      <td>Avenida Raul Furquim</td>\n",
       "      <td>07/05/2007</td>\n",
       "      <td>Infração da Flora(Não Classificada-Móvel)</td>\n",
       "      <td>30/01/2007</td>\n",
       "      <td>27711706634</td>\n",
       "      <td>documento_cpf</td>\n",
       "    </tr>\n",
       "    <tr>\n",
       "      <th>33072</th>\n",
       "      <td>413926</td>\n",
       "      <td>C</td>\n",
       "      <td>nan</td>\n",
       "      <td>265,097.00</td>\n",
       "      <td>José Francisco de Fatima Santos</td>\n",
       "      <td>277.117.066-34</td>\n",
       "      <td>FAZ. SANTANA, S/N - ZONA RURAL - COLOMBIA/SP</td>\n",
       "      <td>SP</td>\n",
       "      <td>Colômbia</td>\n",
       "      <td>3512100</td>\n",
       "      <td>Bebedouro/SP</td>\n",
       "      <td>Centro</td>\n",
       "      <td>Avenida Raul Furquim</td>\n",
       "      <td>07/05/2007</td>\n",
       "      <td>Infração da Flora(Não Classificada-Móvel)</td>\n",
       "      <td>30/01/2007</td>\n",
       "      <td>27711706634</td>\n",
       "      <td>documento_cpf</td>\n",
       "    </tr>\n",
       "    <tr>\n",
       "      <th>33073</th>\n",
       "      <td>413932</td>\n",
       "      <td>C</td>\n",
       "      <td>9.49</td>\n",
       "      <td>265,103.00</td>\n",
       "      <td>José Francisco de Fatima Santos</td>\n",
       "      <td>277.117.066-34</td>\n",
       "      <td>FAZ. SANTANA, S/N - ZONA RURAL - COLOMBIA/SP</td>\n",
       "      <td>SP</td>\n",
       "      <td>Colômbia</td>\n",
       "      <td>3512100</td>\n",
       "      <td>Bebedouro/SP</td>\n",
       "      <td>Centro</td>\n",
       "      <td>Avenida Raul Furquim</td>\n",
       "      <td>21/05/2007</td>\n",
       "      <td>Infração da Flora(Não Classificada-Móvel)</td>\n",
       "      <td>21/03/2007</td>\n",
       "      <td>27711706634</td>\n",
       "      <td>documento_cpf</td>\n",
       "    </tr>\n",
       "    <tr>\n",
       "      <th>33074</th>\n",
       "      <td>413930</td>\n",
       "      <td>C</td>\n",
       "      <td>0.10</td>\n",
       "      <td>265,101.00</td>\n",
       "      <td>José Francisco de Fatima Santos</td>\n",
       "      <td>277.117.066-34</td>\n",
       "      <td>FAZ. SÃO JERÕNIMO, S/N - Z. RURAL</td>\n",
       "      <td>SP</td>\n",
       "      <td>Colômbia</td>\n",
       "      <td>3512100</td>\n",
       "      <td>Bebedouro/SP</td>\n",
       "      <td>Centro</td>\n",
       "      <td>Avenida Raul Furquim</td>\n",
       "      <td>27/12/2007</td>\n",
       "      <td>Infração da Flora(Não Classificada-Móvel)</td>\n",
       "      <td>06/11/2007</td>\n",
       "      <td>27711706634</td>\n",
       "      <td>documento_cpf</td>\n",
       "    </tr>\n",
       "  </tbody>\n",
       "</table>\n",
       "</div>"
      ],
      "text/plain": [
       "        N_TAD SERIE_TAD  area_ha       N_AI                Nome_Razao_Social  \\\n",
       "33071  413929         C      nan 265,100.00  José Francisco de Fatima Santos   \n",
       "33072  413926         C      nan 265,097.00  José Francisco de Fatima Santos   \n",
       "33073  413932         C     9.49 265,103.00  José Francisco de Fatima Santos   \n",
       "33074  413930         C     0.10 265,101.00  José Francisco de Fatima Santos   \n",
       "\n",
       "             CPF_CNPJ                                 Localizacao_Imovel  \\\n",
       "33071  277.117.066-34  FAZ. SÃO JERONYMO, S/N - ZONA RURAL - COLOMBIA/SP   \n",
       "33072  277.117.066-34       FAZ. SANTANA, S/N - ZONA RURAL - COLOMBIA/SP   \n",
       "33073  277.117.066-34       FAZ. SANTANA, S/N - ZONA RURAL - COLOMBIA/SP   \n",
       "33074  277.117.066-34                  FAZ. SÃO JERÕNIMO, S/N - Z. RURAL   \n",
       "\n",
       "      UF_Embargo Municipio_Embargo  cod_IBGE_Municipio_Embargo     Municipio  \\\n",
       "33071         SP          Colômbia                     3512100  Bebedouro/SP   \n",
       "33072         SP          Colômbia                     3512100  Bebedouro/SP   \n",
       "33073         SP          Colômbia                     3512100  Bebedouro/SP   \n",
       "33074         SP          Colômbia                     3512100  Bebedouro/SP   \n",
       "\n",
       "       Bairro              Endereco  Julgamento  \\\n",
       "33071  Centro  Avenida Raul Furquim  07/05/2007   \n",
       "33072  Centro  Avenida Raul Furquim  07/05/2007   \n",
       "33073  Centro  Avenida Raul Furquim  21/05/2007   \n",
       "33074  Centro  Avenida Raul Furquim  27/12/2007   \n",
       "\n",
       "                                        Infracao Data_insercao_Lista  \\\n",
       "33071  Infração da Flora(Não Classificada-Móvel)          30/01/2007   \n",
       "33072  Infração da Flora(Não Classificada-Móvel)          30/01/2007   \n",
       "33073  Infração da Flora(Não Classificada-Móvel)          21/03/2007   \n",
       "33074  Infração da Flora(Não Classificada-Móvel)          06/11/2007   \n",
       "\n",
       "      CPF_CNPJ_limpo      cnpj_raiz  \n",
       "33071    27711706634  documento_cpf  \n",
       "33072    27711706634  documento_cpf  \n",
       "33073    27711706634  documento_cpf  \n",
       "33074    27711706634  documento_cpf  "
      ]
     },
     "execution_count": 6,
     "metadata": {},
     "output_type": "execute_result"
    }
   ],
   "source": [
    "nome = ibama[(ibama['CPF_CNPJ_limpo'] == '27711706634')]\n",
    "nome"
   ]
  },
  {
   "cell_type": "code",
   "execution_count": 7,
   "metadata": {},
   "outputs": [],
   "source": [
    "nome.to_excel('resultados/caso_pimentel.xlsx',sheet_name='Sheet1')"
   ]
  },
  {
   "cell_type": "code",
   "execution_count": null,
   "metadata": {},
   "outputs": [],
   "source": []
  },
  {
   "cell_type": "code",
   "execution_count": null,
   "metadata": {},
   "outputs": [],
   "source": []
  },
  {
   "cell_type": "markdown",
   "metadata": {},
   "source": [
    "PJ"
   ]
  },
  {
   "cell_type": "code",
   "execution_count": 8,
   "metadata": {},
   "outputs": [],
   "source": [
    "ibama_doadores_diretos = pd.merge(doacoesPJ, ibamaPJ.drop_duplicates('cnpj_raiz'), left_on='cnpj_raiz_cpf', right_on='cnpj_raiz')"
   ]
  },
  {
   "cell_type": "code",
   "execution_count": 9,
   "metadata": {},
   "outputs": [
    {
     "name": "stdout",
     "output_type": "stream",
     "text": [
      "<class 'pandas.core.frame.DataFrame'>\n",
      "Index: 0 entries\n",
      "Data columns (total 47 columns):\n",
      "SG_UF                          0 non-null object\n",
      "DS_CARGO                       0 non-null object\n",
      "SQ_CANDIDATO                   0 non-null object\n",
      "NR_CANDIDATO                   0 non-null int64\n",
      "NM_CANDIDATO                   0 non-null object\n",
      "NR_CPF_CANDIDATO               0 non-null object\n",
      "NR_CPF_VICE_CANDIDATO          0 non-null int64\n",
      "SG_PARTIDO                     0 non-null object\n",
      "DS_FONTE_RECEITA               0 non-null object\n",
      "DS_ORIGEM_RECEITA              0 non-null object\n",
      "DS_NATUREZA_RECEITA            0 non-null object\n",
      "DS_ESPECIE_RECEITA             0 non-null object\n",
      "NR_CPF_CNPJ_DOADOR             0 non-null object\n",
      "NM_DOADOR                      0 non-null object\n",
      "NM_DOADOR_RFB                  0 non-null object\n",
      "DS_ESFERA_PARTIDARIA_DOADOR    0 non-null object\n",
      "SG_UF_DOADOR                   0 non-null object\n",
      "NM_MUNICIPIO_DOADOR            0 non-null object\n",
      "SQ_CANDIDATO_DOADOR            0 non-null object\n",
      "NR_CANDIDATO_DOADOR            0 non-null int64\n",
      "DS_CARGO_CANDIDATO_DOADOR      0 non-null object\n",
      "SG_PARTIDO_DOADOR              0 non-null object\n",
      "NR_RECIBO_DOACAO               0 non-null object\n",
      "NR_DOCUMENTO_DOACAO            0 non-null object\n",
      "SQ_RECEITA                     0 non-null object\n",
      "DT_RECEITA                     0 non-null object\n",
      "DS_RECEITA                     0 non-null object\n",
      "VR_RECEITA                     0 non-null float64\n",
      "cnpj_raiz_cpf                  0 non-null object\n",
      "N_TAD                          0 non-null int64\n",
      "SERIE_TAD                      0 non-null object\n",
      "area_ha                        0 non-null float64\n",
      "N_AI                           0 non-null float64\n",
      "Nome_Razao_Social              0 non-null object\n",
      "CPF_CNPJ                       0 non-null object\n",
      "Localizacao_Imovel             0 non-null object\n",
      "UF_Embargo                     0 non-null object\n",
      "Municipio_Embargo              0 non-null object\n",
      "cod_IBGE_Municipio_Embargo     0 non-null int64\n",
      "Municipio                      0 non-null object\n",
      "Bairro                         0 non-null object\n",
      "Endereco                       0 non-null object\n",
      "Julgamento                     0 non-null object\n",
      "Infracao                       0 non-null object\n",
      "Data_insercao_Lista            0 non-null object\n",
      "CPF_CNPJ_limpo                 0 non-null object\n",
      "cnpj_raiz                      0 non-null object\n",
      "dtypes: float64(3), int64(5), object(39)\n",
      "memory usage: 0.0+ bytes\n"
     ]
    }
   ],
   "source": [
    "ibama_doadores_diretos.info()"
   ]
  },
  {
   "cell_type": "code",
   "execution_count": null,
   "metadata": {},
   "outputs": [],
   "source": []
  },
  {
   "cell_type": "markdown",
   "metadata": {},
   "source": [
    "PF"
   ]
  },
  {
   "cell_type": "code",
   "execution_count": 10,
   "metadata": {},
   "outputs": [],
   "source": [
    "ibama_doadores_diretos_cpf = pd.merge(doacoesPF, ibamaPF.drop_duplicates('CPF_CNPJ_limpo'), \n",
    "                                      left_on='NR_CPF_CNPJ_DOADOR', right_on='CPF_CNPJ_limpo')"
   ]
  },
  {
   "cell_type": "code",
   "execution_count": 11,
   "metadata": {},
   "outputs": [
    {
     "name": "stdout",
     "output_type": "stream",
     "text": [
      "<class 'pandas.core.frame.DataFrame'>\n",
      "Int64Index: 274 entries, 0 to 273\n",
      "Data columns (total 47 columns):\n",
      "SG_UF                          274 non-null object\n",
      "DS_CARGO                       274 non-null object\n",
      "SQ_CANDIDATO                   274 non-null object\n",
      "NR_CANDIDATO                   274 non-null int64\n",
      "NM_CANDIDATO                   274 non-null object\n",
      "NR_CPF_CANDIDATO               274 non-null object\n",
      "NR_CPF_VICE_CANDIDATO          274 non-null int64\n",
      "SG_PARTIDO                     274 non-null object\n",
      "DS_FONTE_RECEITA               274 non-null object\n",
      "DS_ORIGEM_RECEITA              274 non-null object\n",
      "DS_NATUREZA_RECEITA            274 non-null object\n",
      "DS_ESPECIE_RECEITA             274 non-null object\n",
      "NR_CPF_CNPJ_DOADOR             274 non-null object\n",
      "NM_DOADOR                      274 non-null object\n",
      "NM_DOADOR_RFB                  274 non-null object\n",
      "DS_ESFERA_PARTIDARIA_DOADOR    274 non-null object\n",
      "SG_UF_DOADOR                   274 non-null object\n",
      "NM_MUNICIPIO_DOADOR            274 non-null object\n",
      "SQ_CANDIDATO_DOADOR            274 non-null object\n",
      "NR_CANDIDATO_DOADOR            274 non-null int64\n",
      "DS_CARGO_CANDIDATO_DOADOR      274 non-null object\n",
      "SG_PARTIDO_DOADOR              274 non-null object\n",
      "NR_RECIBO_DOACAO               274 non-null object\n",
      "NR_DOCUMENTO_DOACAO            274 non-null object\n",
      "SQ_RECEITA                     274 non-null object\n",
      "DT_RECEITA                     274 non-null object\n",
      "DS_RECEITA                     274 non-null object\n",
      "VR_RECEITA                     274 non-null float64\n",
      "cnpj_raiz_cpf                  274 non-null object\n",
      "N_TAD                          274 non-null int64\n",
      "SERIE_TAD                      274 non-null object\n",
      "area_ha                        132 non-null float64\n",
      "N_AI                           259 non-null float64\n",
      "Nome_Razao_Social              274 non-null object\n",
      "CPF_CNPJ                       274 non-null object\n",
      "Localizacao_Imovel             232 non-null object\n",
      "UF_Embargo                     274 non-null object\n",
      "Municipio_Embargo              274 non-null object\n",
      "cod_IBGE_Municipio_Embargo     274 non-null int64\n",
      "Municipio                      274 non-null object\n",
      "Bairro                         271 non-null object\n",
      "Endereco                       274 non-null object\n",
      "Julgamento                     274 non-null object\n",
      "Infracao                       259 non-null object\n",
      "Data_insercao_Lista            274 non-null object\n",
      "CPF_CNPJ_limpo                 274 non-null object\n",
      "cnpj_raiz                      274 non-null object\n",
      "dtypes: float64(3), int64(5), object(39)\n",
      "memory usage: 102.8+ KB\n"
     ]
    }
   ],
   "source": [
    "ibama_doadores_diretos_cpf.info()"
   ]
  },
  {
   "cell_type": "code",
   "execution_count": 12,
   "metadata": {},
   "outputs": [],
   "source": [
    "ibama_doadores_diretos_cpf.to_excel('resultados/ibama_todos_doacoes2018.xlsx',sheet_name='Sheet1')"
   ]
  },
  {
   "cell_type": "code",
   "execution_count": null,
   "metadata": {},
   "outputs": [],
   "source": []
  },
  {
   "cell_type": "code",
   "execution_count": 13,
   "metadata": {},
   "outputs": [
    {
     "data": {
      "text/plain": [
       "'$11,176,352.61'"
      ]
     },
     "execution_count": 13,
     "metadata": {},
     "output_type": "execute_result"
    }
   ],
   "source": [
    "\"${:,.2f}\".format(ibama_doadores_diretos_cpf.VR_RECEITA.sum())"
   ]
  },
  {
   "cell_type": "code",
   "execution_count": null,
   "metadata": {},
   "outputs": [],
   "source": []
  },
  {
   "cell_type": "markdown",
   "metadata": {},
   "source": [
    "26 de setembro"
   ]
  },
  {
   "cell_type": "code",
   "execution_count": 15,
   "metadata": {},
   "outputs": [],
   "source": [
    "doacoes_ibama = pd.read_excel('resultados/ibama_todos_doacoes2018_26set.xlsx',sheet_name='Sheet1')"
   ]
  },
  {
   "cell_type": "code",
   "execution_count": 16,
   "metadata": {},
   "outputs": [
    {
     "name": "stdout",
     "output_type": "stream",
     "text": [
      "<class 'pandas.core.frame.DataFrame'>\n",
      "RangeIndex: 236 entries, 0 to 235\n",
      "Data columns (total 47 columns):\n",
      "SG_UF                          236 non-null object\n",
      "DS_CARGO                       236 non-null object\n",
      "SQ_CANDIDATO                   236 non-null int64\n",
      "NR_CANDIDATO                   236 non-null int64\n",
      "NM_CANDIDATO                   236 non-null object\n",
      "NR_CPF_CANDIDATO               236 non-null int64\n",
      "NR_CPF_VICE_CANDIDATO          236 non-null int64\n",
      "SG_PARTIDO                     236 non-null object\n",
      "DS_FONTE_RECEITA               236 non-null object\n",
      "DS_ORIGEM_RECEITA              236 non-null object\n",
      "DS_NATUREZA_RECEITA            236 non-null object\n",
      "DS_ESPECIE_RECEITA             236 non-null object\n",
      "NR_CPF_CNPJ_DOADOR             236 non-null int64\n",
      "NM_DOADOR                      236 non-null object\n",
      "NM_DOADOR_RFB                  236 non-null object\n",
      "DS_ESFERA_PARTIDARIA_DOADOR    236 non-null object\n",
      "SG_UF_DOADOR                   236 non-null object\n",
      "NM_MUNICIPIO_DOADOR            236 non-null object\n",
      "SQ_CANDIDATO_DOADOR            236 non-null int64\n",
      "NR_CANDIDATO_DOADOR            236 non-null int64\n",
      "DS_CARGO_CANDIDATO_DOADOR      236 non-null object\n",
      "SG_PARTIDO_DOADOR              236 non-null object\n",
      "NR_RECIBO_DOACAO               236 non-null object\n",
      "NR_DOCUMENTO_DOACAO            236 non-null object\n",
      "SQ_RECEITA                     236 non-null int64\n",
      "DT_RECEITA                     236 non-null object\n",
      "DS_RECEITA                     236 non-null object\n",
      "VR_RECEITA                     236 non-null float64\n",
      "cnpj_raiz_cpf                  236 non-null object\n",
      "N_TAD                          236 non-null int64\n",
      "SERIE_TAD                      236 non-null object\n",
      "area_ha                        109 non-null float64\n",
      "N_AI                           221 non-null float64\n",
      "Nome_Razao_Social              236 non-null object\n",
      "CPF_CNPJ                       236 non-null object\n",
      "Localizacao_Imovel             205 non-null object\n",
      "UF_Embargo                     236 non-null object\n",
      "Municipio_Embargo              236 non-null object\n",
      "cod_IBGE_Municipio_Embargo     236 non-null int64\n",
      "Municipio                      236 non-null object\n",
      "Bairro                         233 non-null object\n",
      "Endereco                       236 non-null object\n",
      "Julgamento                     236 non-null object\n",
      "Infracao                       221 non-null object\n",
      "Data_insercao_Lista            236 non-null object\n",
      "CPF_CNPJ_limpo                 236 non-null int64\n",
      "cnpj_raiz                      236 non-null object\n",
      "dtypes: float64(3), int64(11), object(33)\n",
      "memory usage: 86.7+ KB\n"
     ]
    }
   ],
   "source": [
    "doacoes_ibama.info()"
   ]
  },
  {
   "cell_type": "code",
   "execution_count": null,
   "metadata": {},
   "outputs": [],
   "source": []
  },
  {
   "cell_type": "code",
   "execution_count": 17,
   "metadata": {},
   "outputs": [
    {
     "data": {
      "text/plain": [
       "'$9,464,827.61'"
      ]
     },
     "execution_count": 17,
     "metadata": {},
     "output_type": "execute_result"
    }
   ],
   "source": [
    "\"${:,.2f}\".format(doacoes_ibama.VR_RECEITA.sum())"
   ]
  },
  {
   "cell_type": "code",
   "execution_count": null,
   "metadata": {},
   "outputs": [],
   "source": []
  },
  {
   "cell_type": "code",
   "execution_count": 18,
   "metadata": {},
   "outputs": [
    {
     "data": {
      "text/html": [
       "<div>\n",
       "<style scoped>\n",
       "    .dataframe tbody tr th:only-of-type {\n",
       "        vertical-align: middle;\n",
       "    }\n",
       "\n",
       "    .dataframe tbody tr th {\n",
       "        vertical-align: top;\n",
       "    }\n",
       "\n",
       "    .dataframe thead th {\n",
       "        text-align: right;\n",
       "    }\n",
       "</style>\n",
       "<table border=\"1\" class=\"dataframe\">\n",
       "  <thead>\n",
       "    <tr style=\"text-align: right;\">\n",
       "      <th></th>\n",
       "      <th>SG_PARTIDO</th>\n",
       "      <th>VR_RECEITA</th>\n",
       "    </tr>\n",
       "  </thead>\n",
       "  <tbody>\n",
       "    <tr>\n",
       "      <th>26</th>\n",
       "      <td>SOLIDARIEDADE</td>\n",
       "      <td>2,567,000.00</td>\n",
       "    </tr>\n",
       "    <tr>\n",
       "      <th>20</th>\n",
       "      <td>PSL</td>\n",
       "      <td>1,339,000.00</td>\n",
       "    </tr>\n",
       "    <tr>\n",
       "      <th>19</th>\n",
       "      <td>PSDB</td>\n",
       "      <td>1,288,550.00</td>\n",
       "    </tr>\n",
       "    <tr>\n",
       "      <th>18</th>\n",
       "      <td>PSD</td>\n",
       "      <td>1,252,240.20</td>\n",
       "    </tr>\n",
       "    <tr>\n",
       "      <th>2</th>\n",
       "      <td>MDB</td>\n",
       "      <td>722,901.00</td>\n",
       "    </tr>\n",
       "    <tr>\n",
       "      <th>13</th>\n",
       "      <td>PRB</td>\n",
       "      <td>402,230.00</td>\n",
       "    </tr>\n",
       "    <tr>\n",
       "      <th>11</th>\n",
       "      <td>PPS</td>\n",
       "      <td>386,307.20</td>\n",
       "    </tr>\n",
       "    <tr>\n",
       "      <th>1</th>\n",
       "      <td>DEM</td>\n",
       "      <td>314,667.00</td>\n",
       "    </tr>\n",
       "    <tr>\n",
       "      <th>9</th>\n",
       "      <td>PP</td>\n",
       "      <td>237,300.00</td>\n",
       "    </tr>\n",
       "    <tr>\n",
       "      <th>4</th>\n",
       "      <td>PATRI</td>\n",
       "      <td>150,000.00</td>\n",
       "    </tr>\n",
       "    <tr>\n",
       "      <th>21</th>\n",
       "      <td>PT</td>\n",
       "      <td>134,400.00</td>\n",
       "    </tr>\n",
       "    <tr>\n",
       "      <th>16</th>\n",
       "      <td>PSB</td>\n",
       "      <td>130,266.00</td>\n",
       "    </tr>\n",
       "    <tr>\n",
       "      <th>22</th>\n",
       "      <td>PTB</td>\n",
       "      <td>119,100.00</td>\n",
       "    </tr>\n",
       "    <tr>\n",
       "      <th>12</th>\n",
       "      <td>PR</td>\n",
       "      <td>112,289.54</td>\n",
       "    </tr>\n",
       "    <tr>\n",
       "      <th>6</th>\n",
       "      <td>PDT</td>\n",
       "      <td>72,616.67</td>\n",
       "    </tr>\n",
       "    <tr>\n",
       "      <th>8</th>\n",
       "      <td>PODE</td>\n",
       "      <td>66,000.00</td>\n",
       "    </tr>\n",
       "    <tr>\n",
       "      <th>17</th>\n",
       "      <td>PSC</td>\n",
       "      <td>52,000.00</td>\n",
       "    </tr>\n",
       "    <tr>\n",
       "      <th>10</th>\n",
       "      <td>PPL</td>\n",
       "      <td>33,130.00</td>\n",
       "    </tr>\n",
       "    <tr>\n",
       "      <th>0</th>\n",
       "      <td>DC</td>\n",
       "      <td>20,872.00</td>\n",
       "    </tr>\n",
       "    <tr>\n",
       "      <th>14</th>\n",
       "      <td>PROS</td>\n",
       "      <td>19,658.00</td>\n",
       "    </tr>\n",
       "    <tr>\n",
       "      <th>23</th>\n",
       "      <td>PTC</td>\n",
       "      <td>15,000.00</td>\n",
       "    </tr>\n",
       "    <tr>\n",
       "      <th>15</th>\n",
       "      <td>PRP</td>\n",
       "      <td>10,000.00</td>\n",
       "    </tr>\n",
       "    <tr>\n",
       "      <th>5</th>\n",
       "      <td>PC do B</td>\n",
       "      <td>8,350.00</td>\n",
       "    </tr>\n",
       "    <tr>\n",
       "      <th>7</th>\n",
       "      <td>PHS</td>\n",
       "      <td>6,000.00</td>\n",
       "    </tr>\n",
       "    <tr>\n",
       "      <th>25</th>\n",
       "      <td>REDE</td>\n",
       "      <td>3,500.00</td>\n",
       "    </tr>\n",
       "    <tr>\n",
       "      <th>24</th>\n",
       "      <td>PV</td>\n",
       "      <td>1,000.00</td>\n",
       "    </tr>\n",
       "    <tr>\n",
       "      <th>3</th>\n",
       "      <td>NOVO</td>\n",
       "      <td>450.00</td>\n",
       "    </tr>\n",
       "  </tbody>\n",
       "</table>\n",
       "</div>"
      ],
      "text/plain": [
       "       SG_PARTIDO   VR_RECEITA\n",
       "26  SOLIDARIEDADE 2,567,000.00\n",
       "20            PSL 1,339,000.00\n",
       "19           PSDB 1,288,550.00\n",
       "18            PSD 1,252,240.20\n",
       "2             MDB   722,901.00\n",
       "13            PRB   402,230.00\n",
       "11            PPS   386,307.20\n",
       "1             DEM   314,667.00\n",
       "9              PP   237,300.00\n",
       "4           PATRI   150,000.00\n",
       "21             PT   134,400.00\n",
       "16            PSB   130,266.00\n",
       "22            PTB   119,100.00\n",
       "12             PR   112,289.54\n",
       "6             PDT    72,616.67\n",
       "8            PODE    66,000.00\n",
       "17            PSC    52,000.00\n",
       "10            PPL    33,130.00\n",
       "0              DC    20,872.00\n",
       "14           PROS    19,658.00\n",
       "23            PTC    15,000.00\n",
       "15            PRP    10,000.00\n",
       "5         PC do B     8,350.00\n",
       "7             PHS     6,000.00\n",
       "25           REDE     3,500.00\n",
       "24             PV     1,000.00\n",
       "3            NOVO       450.00"
      ]
     },
     "execution_count": 18,
     "metadata": {},
     "output_type": "execute_result"
    }
   ],
   "source": [
    "doacoes_ibama.groupby(\"SG_PARTIDO\").VR_RECEITA.sum().reset_index().sort_values(\"VR_RECEITA\", ascending=False)"
   ]
  },
  {
   "cell_type": "code",
   "execution_count": null,
   "metadata": {},
   "outputs": [],
   "source": []
  },
  {
   "cell_type": "code",
   "execution_count": 19,
   "metadata": {},
   "outputs": [
    {
     "data": {
      "text/html": [
       "<div>\n",
       "<style scoped>\n",
       "    .dataframe tbody tr th:only-of-type {\n",
       "        vertical-align: middle;\n",
       "    }\n",
       "\n",
       "    .dataframe tbody tr th {\n",
       "        vertical-align: top;\n",
       "    }\n",
       "\n",
       "    .dataframe thead th {\n",
       "        text-align: right;\n",
       "    }\n",
       "</style>\n",
       "<table border=\"1\" class=\"dataframe\">\n",
       "  <thead>\n",
       "    <tr style=\"text-align: right;\">\n",
       "      <th></th>\n",
       "      <th>NM_CANDIDATO</th>\n",
       "      <th>VR_RECEITA</th>\n",
       "    </tr>\n",
       "  </thead>\n",
       "  <tbody>\n",
       "    <tr>\n",
       "      <th>46</th>\n",
       "      <td>FERNANDO DE CASTRO MARQUES</td>\n",
       "      <td>2,000,000.00</td>\n",
       "    </tr>\n",
       "    <tr>\n",
       "      <th>62</th>\n",
       "      <td>JAIME MAXIMINO BAGATTOLI</td>\n",
       "      <td>1,200,000.00</td>\n",
       "    </tr>\n",
       "    <tr>\n",
       "      <th>130</th>\n",
       "      <td>ROGÉRIO SCHUMANN ROSSO</td>\n",
       "      <td>789,400.00</td>\n",
       "    </tr>\n",
       "    <tr>\n",
       "      <th>79</th>\n",
       "      <td>JOSÉ RENAN VASCONCELOS CALHEIROS</td>\n",
       "      <td>500,000.00</td>\n",
       "    </tr>\n",
       "    <tr>\n",
       "      <th>151</th>\n",
       "      <td>VANDERLEI MACRIS</td>\n",
       "      <td>300,000.00</td>\n",
       "    </tr>\n",
       "    <tr>\n",
       "      <th>30</th>\n",
       "      <td>CRISTOVAM RICARDO CAVALCANTI BUARQUE</td>\n",
       "      <td>300,000.00</td>\n",
       "    </tr>\n",
       "    <tr>\n",
       "      <th>87</th>\n",
       "      <td>JULIO CESAR RIBEIRO</td>\n",
       "      <td>291,140.00</td>\n",
       "    </tr>\n",
       "    <tr>\n",
       "      <th>121</th>\n",
       "      <td>ONDANIR BORTOLINI</td>\n",
       "      <td>244,790.20</td>\n",
       "    </tr>\n",
       "    <tr>\n",
       "      <th>80</th>\n",
       "      <td>JOSÉ ROBERTO TEIXEIRA</td>\n",
       "      <td>200,000.00</td>\n",
       "    </tr>\n",
       "    <tr>\n",
       "      <th>56</th>\n",
       "      <td>HERMES LOURENÇO BERGAMIM</td>\n",
       "      <td>200,000.00</td>\n",
       "    </tr>\n",
       "  </tbody>\n",
       "</table>\n",
       "</div>"
      ],
      "text/plain": [
       "                             NM_CANDIDATO   VR_RECEITA\n",
       "46             FERNANDO DE CASTRO MARQUES 2,000,000.00\n",
       "62               JAIME MAXIMINO BAGATTOLI 1,200,000.00\n",
       "130                ROGÉRIO SCHUMANN ROSSO   789,400.00\n",
       "79       JOSÉ RENAN VASCONCELOS CALHEIROS   500,000.00\n",
       "151                      VANDERLEI MACRIS   300,000.00\n",
       "30   CRISTOVAM RICARDO CAVALCANTI BUARQUE   300,000.00\n",
       "87                    JULIO CESAR RIBEIRO   291,140.00\n",
       "121                     ONDANIR BORTOLINI   244,790.20\n",
       "80                  JOSÉ ROBERTO TEIXEIRA   200,000.00\n",
       "56               HERMES LOURENÇO BERGAMIM   200,000.00"
      ]
     },
     "execution_count": 19,
     "metadata": {},
     "output_type": "execute_result"
    }
   ],
   "source": [
    "doacoes_ibama.groupby(\"NM_CANDIDATO\").VR_RECEITA.sum().reset_index().sort_values(\"VR_RECEITA\", ascending=False).head(10)"
   ]
  },
  {
   "cell_type": "code",
   "execution_count": null,
   "metadata": {},
   "outputs": [],
   "source": []
  },
  {
   "cell_type": "code",
   "execution_count": 20,
   "metadata": {},
   "outputs": [],
   "source": [
    "gov = doacoes_ibama[(doacoes_ibama['DS_CARGO'] == 'Governador')]"
   ]
  },
  {
   "cell_type": "code",
   "execution_count": 21,
   "metadata": {},
   "outputs": [
    {
     "data": {
      "text/html": [
       "<div>\n",
       "<style scoped>\n",
       "    .dataframe tbody tr th:only-of-type {\n",
       "        vertical-align: middle;\n",
       "    }\n",
       "\n",
       "    .dataframe tbody tr th {\n",
       "        vertical-align: top;\n",
       "    }\n",
       "\n",
       "    .dataframe thead th {\n",
       "        text-align: right;\n",
       "    }\n",
       "</style>\n",
       "<table border=\"1\" class=\"dataframe\">\n",
       "  <thead>\n",
       "    <tr style=\"text-align: right;\">\n",
       "      <th></th>\n",
       "      <th>NM_CANDIDATO</th>\n",
       "      <th>VR_RECEITA</th>\n",
       "    </tr>\n",
       "  </thead>\n",
       "  <tbody>\n",
       "    <tr>\n",
       "      <th>10</th>\n",
       "      <td>ROGÉRIO SCHUMANN ROSSO</td>\n",
       "      <td>789,400.00</td>\n",
       "    </tr>\n",
       "    <tr>\n",
       "      <th>5</th>\n",
       "      <td>JOSE PEDRO GONÇALVES TAQUES</td>\n",
       "      <td>125,000.00</td>\n",
       "    </tr>\n",
       "    <tr>\n",
       "      <th>0</th>\n",
       "      <td>ANTONIO AUGUSTO JUNHO ANASTASIA</td>\n",
       "      <td>105,000.00</td>\n",
       "    </tr>\n",
       "    <tr>\n",
       "      <th>11</th>\n",
       "      <td>RONALDO CAIADO</td>\n",
       "      <td>50,500.00</td>\n",
       "    </tr>\n",
       "    <tr>\n",
       "      <th>2</th>\n",
       "      <td>CARLOS ROBERTO MASSA JUNIOR</td>\n",
       "      <td>50,000.00</td>\n",
       "    </tr>\n",
       "    <tr>\n",
       "      <th>9</th>\n",
       "      <td>PAULO HENRIQUE SARAIVA CÂMARA</td>\n",
       "      <td>20,000.00</td>\n",
       "    </tr>\n",
       "    <tr>\n",
       "      <th>1</th>\n",
       "      <td>ANTONIO OLIVERIO GARCIA DE ALMEIDA</td>\n",
       "      <td>14,000.00</td>\n",
       "    </tr>\n",
       "    <tr>\n",
       "      <th>4</th>\n",
       "      <td>JOSE IVO SARTORI</td>\n",
       "      <td>10,000.00</td>\n",
       "    </tr>\n",
       "    <tr>\n",
       "      <th>8</th>\n",
       "      <td>MAURO DE CARVALHO</td>\n",
       "      <td>2,500.00</td>\n",
       "    </tr>\n",
       "    <tr>\n",
       "      <th>6</th>\n",
       "      <td>JOSÉ ELITON DE FIGUEIREDO JÚNIOR</td>\n",
       "      <td>2,000.00</td>\n",
       "    </tr>\n",
       "  </tbody>\n",
       "</table>\n",
       "</div>"
      ],
      "text/plain": [
       "                          NM_CANDIDATO  VR_RECEITA\n",
       "10              ROGÉRIO SCHUMANN ROSSO  789,400.00\n",
       "5          JOSE PEDRO GONÇALVES TAQUES  125,000.00\n",
       "0      ANTONIO AUGUSTO JUNHO ANASTASIA  105,000.00\n",
       "11                      RONALDO CAIADO   50,500.00\n",
       "2          CARLOS ROBERTO MASSA JUNIOR   50,000.00\n",
       "9        PAULO HENRIQUE SARAIVA CÂMARA   20,000.00\n",
       "1   ANTONIO OLIVERIO GARCIA DE ALMEIDA   14,000.00\n",
       "4                     JOSE IVO SARTORI   10,000.00\n",
       "8                    MAURO DE CARVALHO    2,500.00\n",
       "6     JOSÉ ELITON DE FIGUEIREDO JÚNIOR    2,000.00"
      ]
     },
     "execution_count": 21,
     "metadata": {},
     "output_type": "execute_result"
    }
   ],
   "source": [
    "gov.groupby(\"NM_CANDIDATO\").VR_RECEITA.sum().reset_index().sort_values(\"VR_RECEITA\", ascending=False).head(10)"
   ]
  },
  {
   "cell_type": "code",
   "execution_count": null,
   "metadata": {},
   "outputs": [],
   "source": []
  },
  {
   "cell_type": "code",
   "execution_count": null,
   "metadata": {},
   "outputs": [],
   "source": []
  },
  {
   "cell_type": "code",
   "execution_count": null,
   "metadata": {},
   "outputs": [],
   "source": []
  },
  {
   "cell_type": "markdown",
   "metadata": {},
   "source": [
    "TE "
   ]
  },
  {
   "cell_type": "code",
   "execution_count": 14,
   "metadata": {},
   "outputs": [],
   "source": [
    "te = pd.read_csv(\"dados/lista_te_consolidada_junho_2018.csv\",sep=';',encoding = 'latin_1', converters={'CNPJ_CPF_CEI_limpo': lambda x: str(x)})\n",
    "\n",
    "te = te[pd.notnull(te['CNPJ_CPF_CEI'])]\n",
    "\n",
    "# Preenche zeros a esquerda nos documentos\n",
    "def compara1(linha):\n",
    "    if len(linha['CNPJ_CPF_CEI_limpo']) < 14 and len(linha['CNPJ_CPF_CEI_limpo']) >= 12:\n",
    "        conta = 14 - (len(linha['CNPJ_CPF_CEI_limpo']))\n",
    "        zero = '0'\n",
    "        zeros = zero * conta\n",
    "        alterado = zeros + linha['CNPJ_CPF_CEI_limpo']\n",
    "    elif len(linha['CNPJ_CPF_CEI_limpo']) == 14:\n",
    "        alterado = linha['CNPJ_CPF_CEI_limpo']\n",
    "    elif len(linha['CNPJ_CPF_CEI_limpo']) < 11:\n",
    "        conta = 11 - (len(linha['CNPJ_CPF_CEI_limpo']))\n",
    "        zero = '0'\n",
    "        zeros = zero * conta\n",
    "        alterado = zeros + linha['CNPJ_CPF_CEI_limpo']\n",
    "    elif len(linha['CNPJ_CPF_CEI_limpo']) == 11:\n",
    "        alterado = linha['CNPJ_CPF_CEI_limpo']\n",
    "    \n",
    "    return alterado\n",
    "\n",
    "nova = te.apply(compara1, axis=1) #lê dataframe e chama a função\n",
    "\n",
    "te['documento_inteiro'] = nova\n",
    "\n",
    "def compara2(linha):\n",
    "    documento = str(linha[\"documento_inteiro\"])\n",
    "    if len(documento) > 11:\n",
    "        return documento[:8]\n",
    "    else:\n",
    "        return \"documento_cpf\"\n",
    "    \n",
    "te['cnpj_raiz'] = te.apply(compara2, axis=1)\n",
    "\n",
    "tePF = te[(te['cnpj_raiz'] == 'documento_cpf')]\n",
    "tePJ = te[(te['cnpj_raiz'] != 'documento_cpf')]"
   ]
  },
  {
   "cell_type": "code",
   "execution_count": null,
   "metadata": {},
   "outputs": [],
   "source": []
  },
  {
   "cell_type": "markdown",
   "metadata": {},
   "source": [
    "PJ"
   ]
  },
  {
   "cell_type": "code",
   "execution_count": 15,
   "metadata": {},
   "outputs": [],
   "source": [
    "te_doadores_diretos = pd.merge(doacoesPJ, tePJ.drop_duplicates('cnpj_raiz'), left_on='cnpj_raiz_cpf', right_on='cnpj_raiz')"
   ]
  },
  {
   "cell_type": "code",
   "execution_count": 16,
   "metadata": {},
   "outputs": [
    {
     "name": "stdout",
     "output_type": "stream",
     "text": [
      "<class 'pandas.core.frame.DataFrame'>\n",
      "Index: 0 entries\n",
      "Data columns (total 47 columns):\n",
      "SG_UF                          0 non-null object\n",
      "DS_CARGO                       0 non-null object\n",
      "SQ_CANDIDATO                   0 non-null object\n",
      "NR_CANDIDATO                   0 non-null int64\n",
      "NM_CANDIDATO                   0 non-null object\n",
      "NR_CPF_CANDIDATO               0 non-null object\n",
      "NR_CPF_VICE_CANDIDATO          0 non-null int64\n",
      "SG_PARTIDO                     0 non-null object\n",
      "DS_FONTE_RECEITA               0 non-null object\n",
      "DS_ORIGEM_RECEITA              0 non-null object\n",
      "DS_NATUREZA_RECEITA            0 non-null object\n",
      "DS_ESPECIE_RECEITA             0 non-null object\n",
      "NR_CPF_CNPJ_DOADOR             0 non-null object\n",
      "NM_DOADOR                      0 non-null object\n",
      "NM_DOADOR_RFB                  0 non-null object\n",
      "DS_ESFERA_PARTIDARIA_DOADOR    0 non-null object\n",
      "SG_UF_DOADOR                   0 non-null object\n",
      "NM_MUNICIPIO_DOADOR            0 non-null object\n",
      "SQ_CANDIDATO_DOADOR            0 non-null object\n",
      "NR_CANDIDATO_DOADOR            0 non-null int64\n",
      "DS_CARGO_CANDIDATO_DOADOR      0 non-null object\n",
      "SG_PARTIDO_DOADOR              0 non-null object\n",
      "NR_RECIBO_DOACAO               0 non-null object\n",
      "NR_DOCUMENTO_DOACAO            0 non-null object\n",
      "SQ_RECEITA                     0 non-null object\n",
      "DT_RECEITA                     0 non-null object\n",
      "DS_RECEITA                     0 non-null object\n",
      "VR_RECEITA                     0 non-null float64\n",
      "cnpj_raiz_cpf                  0 non-null object\n",
      "Data_lista                     0 non-null object\n",
      "DATA_INCLUS                    0 non-null object\n",
      "Proprietario                   0 non-null object\n",
      "Nome_propriedade               0 non-null object\n",
      "Municipio                      0 non-null object\n",
      "Estado                         0 non-null object\n",
      "CNPJ_CPF_CEI                   0 non-null object\n",
      "CNPJ_CPF_CEI_limpo             0 non-null object\n",
      "Trab_Envolv                    0 non-null float64\n",
      "Ramo_atividade                 0 non-null object\n",
      "Localizacao                    0 non-null object\n",
      "Cod_ativ                       0 non-null object\n",
      "Tipo_lista                     0 non-null object\n",
      "Unnamed: 13                    0 non-null float64\n",
      "Unnamed: 14                    0 non-null float64\n",
      "Unnamed: 15                    0 non-null float64\n",
      "documento_inteiro              0 non-null object\n",
      "cnpj_raiz                      0 non-null object\n",
      "dtypes: float64(5), int64(3), object(39)\n",
      "memory usage: 0.0+ bytes\n"
     ]
    }
   ],
   "source": [
    "te_doadores_diretos.info()"
   ]
  },
  {
   "cell_type": "code",
   "execution_count": null,
   "metadata": {},
   "outputs": [],
   "source": []
  },
  {
   "cell_type": "markdown",
   "metadata": {},
   "source": [
    "PF"
   ]
  },
  {
   "cell_type": "code",
   "execution_count": 17,
   "metadata": {},
   "outputs": [],
   "source": [
    "te_doadores_diretos_cpf = pd.merge(doacoesPF, tePF.drop_duplicates('documento_inteiro'), \n",
    "                                      left_on='NR_CPF_CNPJ_DOADOR', right_on='documento_inteiro')"
   ]
  },
  {
   "cell_type": "code",
   "execution_count": 18,
   "metadata": {},
   "outputs": [
    {
     "name": "stdout",
     "output_type": "stream",
     "text": [
      "<class 'pandas.core.frame.DataFrame'>\n",
      "Int64Index: 46 entries, 0 to 45\n",
      "Data columns (total 47 columns):\n",
      "SG_UF                          46 non-null object\n",
      "DS_CARGO                       46 non-null object\n",
      "SQ_CANDIDATO                   46 non-null object\n",
      "NR_CANDIDATO                   46 non-null int64\n",
      "NM_CANDIDATO                   46 non-null object\n",
      "NR_CPF_CANDIDATO               46 non-null object\n",
      "NR_CPF_VICE_CANDIDATO          46 non-null int64\n",
      "SG_PARTIDO                     46 non-null object\n",
      "DS_FONTE_RECEITA               46 non-null object\n",
      "DS_ORIGEM_RECEITA              46 non-null object\n",
      "DS_NATUREZA_RECEITA            46 non-null object\n",
      "DS_ESPECIE_RECEITA             46 non-null object\n",
      "NR_CPF_CNPJ_DOADOR             46 non-null object\n",
      "NM_DOADOR                      46 non-null object\n",
      "NM_DOADOR_RFB                  46 non-null object\n",
      "DS_ESFERA_PARTIDARIA_DOADOR    46 non-null object\n",
      "SG_UF_DOADOR                   46 non-null object\n",
      "NM_MUNICIPIO_DOADOR            46 non-null object\n",
      "SQ_CANDIDATO_DOADOR            46 non-null object\n",
      "NR_CANDIDATO_DOADOR            46 non-null int64\n",
      "DS_CARGO_CANDIDATO_DOADOR      46 non-null object\n",
      "SG_PARTIDO_DOADOR              46 non-null object\n",
      "NR_RECIBO_DOACAO               46 non-null object\n",
      "NR_DOCUMENTO_DOACAO            46 non-null object\n",
      "SQ_RECEITA                     46 non-null object\n",
      "DT_RECEITA                     46 non-null object\n",
      "DS_RECEITA                     46 non-null object\n",
      "VR_RECEITA                     46 non-null float64\n",
      "cnpj_raiz_cpf                  46 non-null object\n",
      "Data_lista                     46 non-null object\n",
      "DATA_INCLUS                    30 non-null object\n",
      "Proprietario                   46 non-null object\n",
      "Nome_propriedade               46 non-null object\n",
      "Municipio                      46 non-null object\n",
      "Estado                         46 non-null object\n",
      "CNPJ_CPF_CEI                   46 non-null object\n",
      "CNPJ_CPF_CEI_limpo             46 non-null object\n",
      "Trab_Envolv                    34 non-null float64\n",
      "Ramo_atividade                 12 non-null object\n",
      "Localizacao                    15 non-null object\n",
      "Cod_ativ                       32 non-null object\n",
      "Tipo_lista                     46 non-null object\n",
      "Unnamed: 13                    0 non-null float64\n",
      "Unnamed: 14                    0 non-null float64\n",
      "Unnamed: 15                    0 non-null float64\n",
      "documento_inteiro              46 non-null object\n",
      "cnpj_raiz                      46 non-null object\n",
      "dtypes: float64(5), int64(3), object(39)\n",
      "memory usage: 17.2+ KB\n"
     ]
    }
   ],
   "source": [
    "te_doadores_diretos_cpf.info()"
   ]
  },
  {
   "cell_type": "code",
   "execution_count": 19,
   "metadata": {},
   "outputs": [],
   "source": [
    "te_doadores_diretos_cpf.to_excel('resultados/te_todos_doacoes2018.xlsx',sheet_name='Sheet1')"
   ]
  },
  {
   "cell_type": "code",
   "execution_count": null,
   "metadata": {},
   "outputs": [],
   "source": []
  },
  {
   "cell_type": "markdown",
   "metadata": {},
   "source": [
    "Unifica"
   ]
  },
  {
   "cell_type": "code",
   "execution_count": 8,
   "metadata": {},
   "outputs": [],
   "source": [
    "unifica_te = pd.read_excel('doacoes_te_1_out.xlsx',sheet_name='Planilha1', converters={'cpf': lambda x: str(x), \n",
    "                                                                                       'cnpj_raiz_empresa_lista_suja': lambda x: str(x)})"
   ]
  },
  {
   "cell_type": "code",
   "execution_count": 9,
   "metadata": {},
   "outputs": [
    {
     "name": "stdout",
     "output_type": "stream",
     "text": [
      "<class 'pandas.core.frame.DataFrame'>\n",
      "RangeIndex: 163 entries, 0 to 162\n",
      "Data columns (total 5 columns):\n",
      "cpf                             163 non-null object\n",
      "nome                            163 non-null object\n",
      "propriedade_na_lista_te         163 non-null object\n",
      "empresa_na_lista_te             163 non-null object\n",
      "cnpj_raiz_empresa_lista_suja    117 non-null object\n",
      "dtypes: object(5)\n",
      "memory usage: 6.4+ KB\n"
     ]
    }
   ],
   "source": [
    "unifica_te.info()"
   ]
  },
  {
   "cell_type": "code",
   "execution_count": null,
   "metadata": {},
   "outputs": [],
   "source": []
  },
  {
   "cell_type": "code",
   "execution_count": 10,
   "metadata": {},
   "outputs": [],
   "source": [
    "te_doadores_diretos_unificados = pd.merge(doacoesPF, unifica_te.drop_duplicates('cpf'), \n",
    "                                      left_on='NR_CPF_CNPJ_DOADOR', right_on='cpf')"
   ]
  },
  {
   "cell_type": "code",
   "execution_count": 11,
   "metadata": {},
   "outputs": [
    {
     "name": "stdout",
     "output_type": "stream",
     "text": [
      "<class 'pandas.core.frame.DataFrame'>\n",
      "Int64Index: 163 entries, 0 to 162\n",
      "Data columns (total 34 columns):\n",
      "SG_UF                           163 non-null object\n",
      "DS_CARGO                        163 non-null object\n",
      "SQ_CANDIDATO                    163 non-null object\n",
      "NR_CANDIDATO                    163 non-null int64\n",
      "NM_CANDIDATO                    163 non-null object\n",
      "NR_CPF_CANDIDATO                163 non-null object\n",
      "NR_CPF_VICE_CANDIDATO           163 non-null int64\n",
      "SG_PARTIDO                      163 non-null object\n",
      "DS_FONTE_RECEITA                163 non-null object\n",
      "DS_ORIGEM_RECEITA               163 non-null object\n",
      "DS_NATUREZA_RECEITA             163 non-null object\n",
      "DS_ESPECIE_RECEITA              163 non-null object\n",
      "NR_CPF_CNPJ_DOADOR              163 non-null object\n",
      "NM_DOADOR                       163 non-null object\n",
      "NM_DOADOR_RFB                   163 non-null object\n",
      "DS_ESFERA_PARTIDARIA_DOADOR     163 non-null object\n",
      "SG_UF_DOADOR                    163 non-null object\n",
      "NM_MUNICIPIO_DOADOR             163 non-null object\n",
      "SQ_CANDIDATO_DOADOR             163 non-null object\n",
      "NR_CANDIDATO_DOADOR             163 non-null int64\n",
      "DS_CARGO_CANDIDATO_DOADOR       163 non-null object\n",
      "SG_PARTIDO_DOADOR               163 non-null object\n",
      "NR_RECIBO_DOACAO                163 non-null object\n",
      "NR_DOCUMENTO_DOACAO             163 non-null object\n",
      "SQ_RECEITA                      163 non-null object\n",
      "DT_RECEITA                      163 non-null object\n",
      "DS_RECEITA                      163 non-null object\n",
      "VR_RECEITA                      163 non-null float64\n",
      "cnpj_raiz_cpf                   163 non-null object\n",
      "cpf                             163 non-null object\n",
      "nome                            163 non-null object\n",
      "propriedade_na_lista_te         163 non-null object\n",
      "empresa_na_lista_te             163 non-null object\n",
      "cnpj_raiz_empresa_lista_suja    117 non-null object\n",
      "dtypes: float64(1), int64(3), object(30)\n",
      "memory usage: 44.6+ KB\n"
     ]
    }
   ],
   "source": [
    "te_doadores_diretos_unificados.info()"
   ]
  },
  {
   "cell_type": "code",
   "execution_count": 13,
   "metadata": {},
   "outputs": [],
   "source": [
    "te_doadores_diretos_unificados.to_excel('resultados/te_todos_doacoes_unificadas.xlsx',sheet_name='Sheet1')"
   ]
  },
  {
   "cell_type": "code",
   "execution_count": null,
   "metadata": {},
   "outputs": [],
   "source": []
  }
 ],
 "metadata": {
  "kernelspec": {
   "display_name": "Python 3",
   "language": "python",
   "name": "python3"
  },
  "language_info": {
   "codemirror_mode": {
    "name": "ipython",
    "version": 3
   },
   "file_extension": ".py",
   "mimetype": "text/x-python",
   "name": "python",
   "nbconvert_exporter": "python",
   "pygments_lexer": "ipython3",
   "version": "3.6.2"
  }
 },
 "nbformat": 4,
 "nbformat_minor": 2
}
