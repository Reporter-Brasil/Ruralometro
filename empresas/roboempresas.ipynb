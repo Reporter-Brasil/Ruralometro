{
 "cells": [
  {
   "cell_type": "code",
   "execution_count": 1,
   "metadata": {},
   "outputs": [],
   "source": [
    "# -*- coding: utf-8\n",
    "# Repórter Brasil (http://ruralometro.reporterbrasil.org.br/)\n",
    "# Reinaldo Chaves (@paidatocandeira)\n",
    "# Programa para encontrar empresas rurais nas quais os deputados federais são sócios ou administradores\n",
    "#"
   ]
  },
  {
   "cell_type": "code",
   "execution_count": null,
   "metadata": {},
   "outputs": [],
   "source": []
  },
  {
   "cell_type": "code",
   "execution_count": null,
   "metadata": {},
   "outputs": [],
   "source": [
    "import pandas as pd\n",
    "import unidecode"
   ]
  },
  {
   "cell_type": "markdown",
   "metadata": {},
   "source": [
    "Função para retirar acentuação "
   ]
  },
  {
   "cell_type": "code",
   "execution_count": 2,
   "metadata": {},
   "outputs": [],
   "source": [
    "def f(str):\n",
    "    return (unidecode.unidecode(str))"
   ]
  },
  {
   "cell_type": "code",
   "execution_count": null,
   "metadata": {},
   "outputs": [],
   "source": []
  },
  {
   "cell_type": "markdown",
   "metadata": {},
   "source": [
    "Acessa a lista de nomes de deputados eleitos em 2014"
   ]
  },
  {
   "cell_type": "code",
   "execution_count": 5,
   "metadata": {},
   "outputs": [],
   "source": [
    "eleitos_d = pd.read_excel('/home/reinaldo/Documentos/Code/RB2/candidatos/repo/resultados/dep_eleitos_2014_unidos.xlsx',sheet_name='Sheet1', converters={'sequencial': lambda x: str(x), \n",
    "                                                                                                                  'cpf': lambda x: str(x),  \n",
    "                                                                                                                  'deputado_id': lambda x: str(x)})"
   ]
  },
  {
   "cell_type": "code",
   "execution_count": 6,
   "metadata": {},
   "outputs": [],
   "source": [
    "eleitos_d[\"nome_completo\"] = eleitos_d[\"nome_completo\"].apply(f)"
   ]
  },
  {
   "cell_type": "code",
   "execution_count": null,
   "metadata": {},
   "outputs": [],
   "source": []
  },
  {
   "cell_type": "markdown",
   "metadata": {},
   "source": [
    "Acessa informações da Receita Federal"
   ]
  },
  {
   "cell_type": "markdown",
   "metadata": {},
   "source": [
    "O programa que acessa esses dados está em: https://github.com/reichaves/curso_knight_python_2017/blob/master/roboempresa.ipynb"
   ]
  },
  {
   "cell_type": "code",
   "execution_count": 8,
   "metadata": {},
   "outputs": [],
   "source": [
    "socios_brasil = pd.read_csv(\"/home/reinaldo/Documentos/Code/intercept/seguranca/repo/socios_br_4_1.csv\",sep=',',encoding = 'utf-8', converters={'cnpj': lambda x: str(x)})"
   ]
  },
  {
   "cell_type": "code",
   "execution_count": null,
   "metadata": {},
   "outputs": [],
   "source": []
  },
  {
   "cell_type": "code",
   "execution_count": 7,
   "metadata": {},
   "outputs": [],
   "source": [
    "deputados_socios = pd.merge(eleitos_d, socios_brasil, left_on='nome_completo', right_on='socio')"
   ]
  },
  {
   "cell_type": "code",
   "execution_count": null,
   "metadata": {},
   "outputs": [],
   "source": []
  },
  {
   "cell_type": "code",
   "execution_count": 7,
   "metadata": {},
   "outputs": [],
   "source": [
    "empresas_brasil = pd.read_csv(\"/home/reinaldo/Documentos/Code/intercept/seguranca/repo/empresas_br_4_1.csv\",sep=',',encoding = 'utf-8', converters={'cnpj': lambda x: str(x)})"
   ]
  },
  {
   "cell_type": "code",
   "execution_count": null,
   "metadata": {},
   "outputs": [],
   "source": []
  },
  {
   "cell_type": "code",
   "execution_count": 9,
   "metadata": {},
   "outputs": [],
   "source": [
    "deputados_socios_empresas = pd.merge(deputados_socios, empresas_brasil, left_on='cnpj', right_on='cnpj')"
   ]
  },
  {
   "cell_type": "code",
   "execution_count": 10,
   "metadata": {},
   "outputs": [],
   "source": [
    "deputados_socios_empresas.to_csv('resultados/empresas_deputados.csv', index=False)"
   ]
  },
  {
   "cell_type": "code",
   "execution_count": 11,
   "metadata": {},
   "outputs": [],
   "source": [
    "deputados_socios_empresas.to_excel('resultados/empresas_deputados.xlsx',sheet_name='Sheet1')"
   ]
  },
  {
   "cell_type": "code",
   "execution_count": null,
   "metadata": {},
   "outputs": [],
   "source": []
  },
  {
   "cell_type": "code",
   "execution_count": 12,
   "metadata": {},
   "outputs": [],
   "source": [
    "deputados_todos_socios_empresas = pd.merge(deputados_socios_empresas, socios_brasil, left_on='cnpj', right_on='cnpj')"
   ]
  },
  {
   "cell_type": "code",
   "execution_count": 13,
   "metadata": {},
   "outputs": [],
   "source": [
    "deputados_todos_socios_empresas.to_csv('resultados/empresas_deputados_todos_socios.csv', index=False)"
   ]
  },
  {
   "cell_type": "code",
   "execution_count": 14,
   "metadata": {},
   "outputs": [],
   "source": [
    "deputados_todos_socios_empresas.to_excel('resultados/empresas_deputados_todos_socios.xlsx',sheet_name='Sheet1')"
   ]
  },
  {
   "cell_type": "code",
   "execution_count": null,
   "metadata": {},
   "outputs": [],
   "source": []
  },
  {
   "cell_type": "markdown",
   "metadata": {},
   "source": [
    "Depois foi feita uma checagem manual de cada linha no site da Receita (http://www.receita.fazenda.gov.br/PessoaJuridica/CNPJ/cnpjreva/Cnpjreva_Solicitacao.asp) para confirmar dados e agregar mais informações"
   ]
  },
  {
   "cell_type": "code",
   "execution_count": null,
   "metadata": {},
   "outputs": [],
   "source": []
  },
  {
   "cell_type": "code",
   "execution_count": null,
   "metadata": {},
   "outputs": [],
   "source": []
  },
  {
   "cell_type": "markdown",
   "metadata": {},
   "source": [
    "Le arquivo preenchido com informações do site da Receita (http://www.receita.fazenda.gov.br/PessoaJuridica/CNPJ/cnpjreva/Cnpjreva_Solicitacao.asp)"
   ]
  },
  {
   "cell_type": "code",
   "execution_count": 3,
   "metadata": {},
   "outputs": [],
   "source": [
    "empresas_deputados = pd.read_excel('resultados/empresas_deputados_todos_socios.xlsx',sheet_name='Sheet1', converters={'sequencial': lambda x: str(x), \n",
    "                                                                                                                  'cpf': lambda x: str(x),  \n",
    "                                                                                                                  'cnpj': lambda x: str(x),  \n",
    "                                                                                                                  'documento': lambda x: str(x)})"
   ]
  },
  {
   "cell_type": "code",
   "execution_count": 4,
   "metadata": {},
   "outputs": [],
   "source": [
    "def limpeza3(linha):\n",
    "    documento = str(linha[\"cnpj\"])\n",
    "    if len(documento) > 11:\n",
    "        return documento[:8]\n",
    "    else:\n",
    "        return \"documento_cpf\"\n",
    "    \n",
    "empresas_deputados['cnpj_raiz'] = empresas_deputados.apply(limpeza3, axis=1)"
   ]
  },
  {
   "cell_type": "code",
   "execution_count": 6,
   "metadata": {},
   "outputs": [
    {
     "name": "stdout",
     "output_type": "stream",
     "text": [
      "<class 'pandas.core.frame.DataFrame'>\n",
      "Float64Index: 5608 entries, 0.0 to 5649.0\n",
      "Data columns (total 20 columns):\n",
      "uf                         5604 non-null object\n",
      "nome_completo              5608 non-null object\n",
      "sequencial                 5604 non-null object\n",
      "cpf                        5604 non-null object\n",
      "nome_urna                  5604 non-null object\n",
      "partido_eleicao            5604 non-null object\n",
      "cnpj                       5608 non-null object\n",
      "indicador                  5598 non-null float64\n",
      "documento                  5598 non-null object\n",
      "qualificacao               5598 non-null float64\n",
      "nome_empresa               5608 non-null object\n",
      "estado                     5608 non-null object\n",
      "socios                     5608 non-null object\n",
      "situacao_empresa           3154 non-null object\n",
      "cidade                     3121 non-null object\n",
      "cnae_principal             3160 non-null object\n",
      "propriedade                5603 non-null object\n",
      "capital_social             3122 non-null object\n",
      "agricola_ou_relacionada    206 non-null object\n",
      "cnpj_raiz                  5608 non-null object\n",
      "dtypes: float64(2), object(18)\n",
      "memory usage: 920.1+ KB\n"
     ]
    }
   ],
   "source": [
    "empresas_deputados.info()"
   ]
  },
  {
   "cell_type": "code",
   "execution_count": 7,
   "metadata": {},
   "outputs": [],
   "source": [
    "empresas_deputados = empresas_deputados[(empresas_deputados['propriedade'] == 'sim')]"
   ]
  },
  {
   "cell_type": "code",
   "execution_count": 25,
   "metadata": {},
   "outputs": [],
   "source": [
    "empresas_deputados.to_excel('resultados/empresas_deputados_todostipos_ativas_baixadas.xlsx',sheet_name='Sheet1')"
   ]
  },
  {
   "cell_type": "code",
   "execution_count": 26,
   "metadata": {},
   "outputs": [],
   "source": [
    "empresas_rurais = empresas_deputados[(empresas_deputados['situacao_empresa'] == 'ativa') & \n",
    "                                     (empresas_deputados['agricola_ou_relacionada'] == 'sim')]"
   ]
  },
  {
   "cell_type": "code",
   "execution_count": 27,
   "metadata": {},
   "outputs": [
    {
     "name": "stdout",
     "output_type": "stream",
     "text": [
      "<class 'pandas.core.frame.DataFrame'>\n",
      "Float64Index: 173 entries, 9.0 to 5625.0\n",
      "Data columns (total 20 columns):\n",
      "uf                         171 non-null object\n",
      "nome_completo              173 non-null object\n",
      "sequencial                 171 non-null object\n",
      "cpf                        171 non-null object\n",
      "nome_urna                  171 non-null object\n",
      "partido_eleicao            171 non-null object\n",
      "cnpj                       173 non-null object\n",
      "indicador                  171 non-null float64\n",
      "documento                  171 non-null object\n",
      "qualificacao               171 non-null float64\n",
      "nome_empresa               173 non-null object\n",
      "estado                     173 non-null object\n",
      "socios                     173 non-null object\n",
      "situacao_empresa           173 non-null object\n",
      "cidade                     173 non-null object\n",
      "cnae_principal             173 non-null object\n",
      "propriedade                173 non-null object\n",
      "capital_social             173 non-null object\n",
      "agricola_ou_relacionada    173 non-null object\n",
      "cnpj_raiz                  173 non-null object\n",
      "dtypes: float64(2), object(18)\n",
      "memory usage: 28.4+ KB\n"
     ]
    }
   ],
   "source": [
    "empresas_rurais.info()"
   ]
  },
  {
   "cell_type": "code",
   "execution_count": 10,
   "metadata": {},
   "outputs": [
    {
     "data": {
      "text/html": [
       "<div>\n",
       "<style scoped>\n",
       "    .dataframe tbody tr th:only-of-type {\n",
       "        vertical-align: middle;\n",
       "    }\n",
       "\n",
       "    .dataframe tbody tr th {\n",
       "        vertical-align: top;\n",
       "    }\n",
       "\n",
       "    .dataframe thead th {\n",
       "        text-align: right;\n",
       "    }\n",
       "</style>\n",
       "<table border=\"1\" class=\"dataframe\">\n",
       "  <thead>\n",
       "    <tr style=\"text-align: right;\">\n",
       "      <th></th>\n",
       "      <th>index</th>\n",
       "      <th>uf</th>\n",
       "      <th>nome_completo</th>\n",
       "      <th>sequencial</th>\n",
       "      <th>cpf</th>\n",
       "      <th>nome_urna</th>\n",
       "      <th>partido_eleicao</th>\n",
       "      <th>cnpj</th>\n",
       "      <th>indicador</th>\n",
       "      <th>documento</th>\n",
       "      <th>...</th>\n",
       "      <th>nome_empresa</th>\n",
       "      <th>estado</th>\n",
       "      <th>socios</th>\n",
       "      <th>situacao_empresa</th>\n",
       "      <th>cidade</th>\n",
       "      <th>cnae_principal</th>\n",
       "      <th>propriedade</th>\n",
       "      <th>capital_social</th>\n",
       "      <th>agricola_ou_relacionada</th>\n",
       "      <th>cnpj_raiz</th>\n",
       "    </tr>\n",
       "  </thead>\n",
       "  <tbody>\n",
       "    <tr>\n",
       "      <th>0</th>\n",
       "      <td>9.0</td>\n",
       "      <td>PA</td>\n",
       "      <td>JOSE BENITO PRIANTE JUNIOR</td>\n",
       "      <td>140000000456</td>\n",
       "      <td>17293618204</td>\n",
       "      <td>PRIANTE</td>\n",
       "      <td>PMDB</td>\n",
       "      <td>04322499000104</td>\n",
       "      <td>2.0</td>\n",
       "      <td></td>\n",
       "      <td>...</td>\n",
       "      <td>AGROPECUARIA RIO DA PRATA LTDA - EPP</td>\n",
       "      <td>Pará</td>\n",
       "      <td>JOSE BENITO PRIANTE JUNIOR</td>\n",
       "      <td>ativa</td>\n",
       "      <td>Santa Isabel do Pará</td>\n",
       "      <td>01.33-4-01 - Cultivo de açaí</td>\n",
       "      <td>sim</td>\n",
       "      <td>750000</td>\n",
       "      <td>sim</td>\n",
       "      <td>04322499</td>\n",
       "    </tr>\n",
       "    <tr>\n",
       "      <th>1</th>\n",
       "      <td>10.0</td>\n",
       "      <td>PA</td>\n",
       "      <td>JOSE BENITO PRIANTE JUNIOR</td>\n",
       "      <td>140000000456</td>\n",
       "      <td>17293618204</td>\n",
       "      <td>PRIANTE</td>\n",
       "      <td>PMDB</td>\n",
       "      <td>04322499000104</td>\n",
       "      <td>2.0</td>\n",
       "      <td></td>\n",
       "      <td>...</td>\n",
       "      <td>AGROPECUARIA RIO DA PRATA LTDA - EPP</td>\n",
       "      <td>Pará</td>\n",
       "      <td>JOSE BENITO PRIANTE NETO</td>\n",
       "      <td>ativa</td>\n",
       "      <td>Santa Isabel do Pará</td>\n",
       "      <td>01.33-4-01 - Cultivo de açaí</td>\n",
       "      <td>sim</td>\n",
       "      <td>750000</td>\n",
       "      <td>sim</td>\n",
       "      <td>04322499</td>\n",
       "    </tr>\n",
       "    <tr>\n",
       "      <th>2</th>\n",
       "      <td>11.0</td>\n",
       "      <td>PA</td>\n",
       "      <td>JOSE BENITO PRIANTE JUNIOR</td>\n",
       "      <td>140000000456</td>\n",
       "      <td>17293618204</td>\n",
       "      <td>PRIANTE</td>\n",
       "      <td>PMDB</td>\n",
       "      <td>04322499000104</td>\n",
       "      <td>2.0</td>\n",
       "      <td></td>\n",
       "      <td>...</td>\n",
       "      <td>AGROPECUARIA RIO DA PRATA LTDA - EPP</td>\n",
       "      <td>Pará</td>\n",
       "      <td>LILIANE PEREIRA PINTO PRIANTE</td>\n",
       "      <td>ativa</td>\n",
       "      <td>Santa Isabel do Pará</td>\n",
       "      <td>01.33-4-01 - Cultivo de açaí</td>\n",
       "      <td>sim</td>\n",
       "      <td>750000</td>\n",
       "      <td>sim</td>\n",
       "      <td>04322499</td>\n",
       "    </tr>\n",
       "    <tr>\n",
       "      <th>3</th>\n",
       "      <td>13.0</td>\n",
       "      <td>PA</td>\n",
       "      <td>JOSE BENITO PRIANTE JUNIOR</td>\n",
       "      <td>140000000456</td>\n",
       "      <td>17293618204</td>\n",
       "      <td>PRIANTE</td>\n",
       "      <td>PMDB</td>\n",
       "      <td>20008829000148</td>\n",
       "      <td>2.0</td>\n",
       "      <td></td>\n",
       "      <td>...</td>\n",
       "      <td>AGROINDUSTRIAL ACAI DA PRATA LTDA - ME</td>\n",
       "      <td>Pará</td>\n",
       "      <td>JOSE BENITO PRIANTE JUNIOR</td>\n",
       "      <td>ativa</td>\n",
       "      <td>Santa Isabel do Pará</td>\n",
       "      <td>01.33-4-01 - Cultivo de açaí</td>\n",
       "      <td>sim</td>\n",
       "      <td>50000</td>\n",
       "      <td>sim</td>\n",
       "      <td>20008829</td>\n",
       "    </tr>\n",
       "    <tr>\n",
       "      <th>4</th>\n",
       "      <td>14.0</td>\n",
       "      <td>PA</td>\n",
       "      <td>JOSE BENITO PRIANTE JUNIOR</td>\n",
       "      <td>140000000456</td>\n",
       "      <td>17293618204</td>\n",
       "      <td>PRIANTE</td>\n",
       "      <td>PMDB</td>\n",
       "      <td>20008829000148</td>\n",
       "      <td>2.0</td>\n",
       "      <td></td>\n",
       "      <td>...</td>\n",
       "      <td>AGROINDUSTRIAL ACAI DA PRATA LTDA - ME</td>\n",
       "      <td>Pará</td>\n",
       "      <td>JOSE BENITO PRIANTE NETO</td>\n",
       "      <td>ativa</td>\n",
       "      <td>Santa Isabel do Pará</td>\n",
       "      <td>01.33-4-01 - Cultivo de açaí</td>\n",
       "      <td>sim</td>\n",
       "      <td>50000</td>\n",
       "      <td>sim</td>\n",
       "      <td>20008829</td>\n",
       "    </tr>\n",
       "  </tbody>\n",
       "</table>\n",
       "<p>5 rows × 21 columns</p>\n",
       "</div>"
      ],
      "text/plain": [
       "   index  uf               nome_completo    sequencial          cpf nome_urna  \\\n",
       "0    9.0  PA  JOSE BENITO PRIANTE JUNIOR  140000000456  17293618204   PRIANTE   \n",
       "1   10.0  PA  JOSE BENITO PRIANTE JUNIOR  140000000456  17293618204   PRIANTE   \n",
       "2   11.0  PA  JOSE BENITO PRIANTE JUNIOR  140000000456  17293618204   PRIANTE   \n",
       "3   13.0  PA  JOSE BENITO PRIANTE JUNIOR  140000000456  17293618204   PRIANTE   \n",
       "4   14.0  PA  JOSE BENITO PRIANTE JUNIOR  140000000456  17293618204   PRIANTE   \n",
       "\n",
       "  partido_eleicao            cnpj  indicador       documento    ...     \\\n",
       "0            PMDB  04322499000104        2.0                    ...      \n",
       "1            PMDB  04322499000104        2.0                    ...      \n",
       "2            PMDB  04322499000104        2.0                    ...      \n",
       "3            PMDB  20008829000148        2.0                    ...      \n",
       "4            PMDB  20008829000148        2.0                    ...      \n",
       "\n",
       "                             nome_empresa estado  \\\n",
       "0    AGROPECUARIA RIO DA PRATA LTDA - EPP   Pará   \n",
       "1    AGROPECUARIA RIO DA PRATA LTDA - EPP   Pará   \n",
       "2    AGROPECUARIA RIO DA PRATA LTDA - EPP   Pará   \n",
       "3  AGROINDUSTRIAL ACAI DA PRATA LTDA - ME   Pará   \n",
       "4  AGROINDUSTRIAL ACAI DA PRATA LTDA - ME   Pará   \n",
       "\n",
       "                          socios situacao_empresa                cidade  \\\n",
       "0     JOSE BENITO PRIANTE JUNIOR            ativa  Santa Isabel do Pará   \n",
       "1       JOSE BENITO PRIANTE NETO            ativa  Santa Isabel do Pará   \n",
       "2  LILIANE PEREIRA PINTO PRIANTE            ativa  Santa Isabel do Pará   \n",
       "3     JOSE BENITO PRIANTE JUNIOR            ativa  Santa Isabel do Pará   \n",
       "4       JOSE BENITO PRIANTE NETO            ativa  Santa Isabel do Pará   \n",
       "\n",
       "                  cnae_principal propriedade capital_social  \\\n",
       "0  01.33-4-01 - Cultivo de açaí          sim         750000   \n",
       "1  01.33-4-01 - Cultivo de açaí          sim         750000   \n",
       "2  01.33-4-01 - Cultivo de açaí          sim         750000   \n",
       "3   01.33-4-01 - Cultivo de açaí         sim          50000   \n",
       "4   01.33-4-01 - Cultivo de açaí         sim          50000   \n",
       "\n",
       "  agricola_ou_relacionada cnpj_raiz  \n",
       "0                     sim  04322499  \n",
       "1                     sim  04322499  \n",
       "2                     sim  04322499  \n",
       "3                     sim  20008829  \n",
       "4                     sim  20008829  \n",
       "\n",
       "[5 rows x 21 columns]"
      ]
     },
     "execution_count": 10,
     "metadata": {},
     "output_type": "execute_result"
    }
   ],
   "source": [
    "empresas_rurais.reset_index().head()"
   ]
  },
  {
   "cell_type": "code",
   "execution_count": 28,
   "metadata": {},
   "outputs": [],
   "source": [
    "empresas_rurais.to_excel('resultados/empresas_rurais_ativas.xlsx',sheet_name='Sheet1')"
   ]
  },
  {
   "cell_type": "code",
   "execution_count": 11,
   "metadata": {},
   "outputs": [
    {
     "data": {
      "text/plain": [
       "60"
      ]
     },
     "execution_count": 11,
     "metadata": {},
     "output_type": "execute_result"
    }
   ],
   "source": [
    "a = len(empresas_rurais['cnpj'].value_counts())\n",
    "a"
   ]
  },
  {
   "cell_type": "code",
   "execution_count": null,
   "metadata": {},
   "outputs": [],
   "source": []
  },
  {
   "cell_type": "markdown",
   "metadata": {},
   "source": [
    "# Checa se empresas rurais de deputados estão na lista de embargos do Ibama"
   ]
  },
  {
   "cell_type": "code",
   "execution_count": 12,
   "metadata": {},
   "outputs": [],
   "source": [
    "ibama = pd.read_excel('/home/reinaldo/Documentos/Code/RB2/ibama/repo/embargos/ibama_14_7_18.xlsx',sheet_name='Planilha1')\n",
    "ibama = ibama[pd.notnull(ibama['CPF_CNPJ'])]\n",
    "ibama['Data_insercao_Lista'] = pd.to_datetime(ibama['Data_insercao_Lista'])\n",
    "\n",
    "def limpeza(linha):\n",
    "    documento = str(linha[\"CPF_CNPJ\"])\n",
    "    documento = documento.strip()\n",
    "    documento = documento.replace('.', '')\n",
    "    documento = documento.replace('-', '')\n",
    "    documento = documento.replace('/', '')\n",
    "    return str(documento)\n",
    "\n",
    "ibama[\"CPF_CNPJ_limpo\"] = ibama.apply(limpeza, axis=1)"
   ]
  },
  {
   "cell_type": "code",
   "execution_count": 13,
   "metadata": {},
   "outputs": [],
   "source": [
    "def limpeza2(linha):\n",
    "    documento = str(linha[\"CPF_CNPJ_limpo\"])\n",
    "    if len(documento) > 11:\n",
    "        return documento[:8]\n",
    "    else:\n",
    "        return \"documento_cpf\"\n",
    "    \n",
    "ibama['cnpj_raiz'] = ibama.apply(limpeza2, axis=1)"
   ]
  },
  {
   "cell_type": "code",
   "execution_count": 14,
   "metadata": {},
   "outputs": [
    {
     "name": "stdout",
     "output_type": "stream",
     "text": [
      "<class 'pandas.core.frame.DataFrame'>\n",
      "Int64Index: 59252 entries, 0 to 59693\n",
      "Data columns (total 18 columns):\n",
      "N_TAD                         59252 non-null int64\n",
      "SERIE_TAD                     59252 non-null object\n",
      "area_ha                       21036 non-null float64\n",
      "N_AI                          56759 non-null float64\n",
      "Nome_Razao_Social             59252 non-null object\n",
      "CPF_CNPJ                      59252 non-null object\n",
      "Localizacao_Imovel            52876 non-null object\n",
      "UF_Embargo                    59252 non-null object\n",
      "Municipio_Embargo             59252 non-null object\n",
      "cod_IBGE_Municipio_Embargo    59252 non-null int64\n",
      "Municipio                     59252 non-null object\n",
      "Bairro                        57525 non-null object\n",
      "Endereco                      59014 non-null object\n",
      "Julgamento                    59252 non-null object\n",
      "Infracao                      56758 non-null object\n",
      "Data_insercao_Lista           59251 non-null datetime64[ns]\n",
      "CPF_CNPJ_limpo                59252 non-null object\n",
      "cnpj_raiz                     59252 non-null object\n",
      "dtypes: datetime64[ns](1), float64(2), int64(2), object(13)\n",
      "memory usage: 8.6+ MB\n"
     ]
    }
   ],
   "source": [
    "ibama.info()"
   ]
  },
  {
   "cell_type": "code",
   "execution_count": null,
   "metadata": {},
   "outputs": [],
   "source": []
  },
  {
   "cell_type": "code",
   "execution_count": 15,
   "metadata": {},
   "outputs": [],
   "source": [
    "ibama_empresas_rurais = pd.merge(empresas_rurais.drop_duplicates('cnpj_raiz'), ibama.drop_duplicates('cnpj_raiz'), left_on='cnpj_raiz', right_on='cnpj_raiz')"
   ]
  },
  {
   "cell_type": "code",
   "execution_count": 16,
   "metadata": {},
   "outputs": [
    {
     "data": {
      "text/plain": [
       "0    BRASFIBRA INDUSTRIA E COMERCIO DE CHAPAS DE MA...\n",
       "1                                        AGROPEIXE S/A\n",
       "Name: nome_empresa, dtype: object"
      ]
     },
     "execution_count": 16,
     "metadata": {},
     "output_type": "execute_result"
    }
   ],
   "source": [
    "ibama_empresas_rurais.nome_empresa"
   ]
  },
  {
   "cell_type": "code",
   "execution_count": 29,
   "metadata": {},
   "outputs": [],
   "source": [
    "ibama_empresas_rurais.to_excel('resultados/empresas_rurais_embargadas_ibama.xlsx',sheet_name='Sheet1')"
   ]
  },
  {
   "cell_type": "code",
   "execution_count": null,
   "metadata": {},
   "outputs": [],
   "source": []
  },
  {
   "cell_type": "markdown",
   "metadata": {},
   "source": [
    "# Checa se empresas rurais de deputados estão na lista do trabalho escravo"
   ]
  },
  {
   "cell_type": "code",
   "execution_count": 17,
   "metadata": {},
   "outputs": [],
   "source": [
    "te = pd.read_csv(\"/home/reinaldo/Documentos/Code/RB2/te/repo/dados/lista_te_consolidada_junho_2018.csv\",sep=';',encoding = 'latin_1', converters={'CNPJ_CPF_CEI_limpo': lambda x: str(x)})"
   ]
  },
  {
   "cell_type": "code",
   "execution_count": 18,
   "metadata": {},
   "outputs": [],
   "source": [
    "te = te[pd.notnull(te['CNPJ_CPF_CEI'])]"
   ]
  },
  {
   "cell_type": "code",
   "execution_count": 19,
   "metadata": {},
   "outputs": [],
   "source": [
    "# Preenche zeros a esquerda nos documentos\n",
    "def compara1(linha):\n",
    "    if len(linha['CNPJ_CPF_CEI_limpo']) < 14 and len(linha['CNPJ_CPF_CEI_limpo']) >= 12:\n",
    "        conta = 14 - (len(linha['CNPJ_CPF_CEI_limpo']))\n",
    "        zero = '0'\n",
    "        zeros = zero * conta\n",
    "        alterado = zeros + linha['CNPJ_CPF_CEI_limpo']\n",
    "    elif len(linha['CNPJ_CPF_CEI_limpo']) == 14:\n",
    "        alterado = linha['CNPJ_CPF_CEI_limpo']\n",
    "    elif len(linha['CNPJ_CPF_CEI_limpo']) < 11:\n",
    "        conta = 11 - (len(linha['CNPJ_CPF_CEI_limpo']))\n",
    "        zero = '0'\n",
    "        zeros = zero * conta\n",
    "        alterado = zeros + linha['CNPJ_CPF_CEI_limpo']\n",
    "    elif len(linha['CNPJ_CPF_CEI_limpo']) == 11:\n",
    "        alterado = linha['CNPJ_CPF_CEI_limpo']\n",
    "    \n",
    "    return alterado\n",
    "\n",
    "nova = te.apply(compara1, axis=1) #lê dataframe e chama a função\n",
    "\n",
    "te['documento_inteiro'] = nova\n",
    "\n",
    "def compara2(linha):\n",
    "    documento = str(linha[\"documento_inteiro\"])\n",
    "    if len(documento) > 11:\n",
    "        return documento[:8]\n",
    "    else:\n",
    "        return \"documento_cpf\"\n",
    "    \n",
    "\n",
    "\n",
    "te['cnpj_raiz'] = te.apply(compara2, axis=1)"
   ]
  },
  {
   "cell_type": "code",
   "execution_count": 20,
   "metadata": {},
   "outputs": [
    {
     "name": "stdout",
     "output_type": "stream",
     "text": [
      "<class 'pandas.core.frame.DataFrame'>\n",
      "Int64Index: 5707 entries, 0 to 5830\n",
      "Data columns (total 18 columns):\n",
      "Data_lista            5707 non-null object\n",
      "DATA_INCLUS           3123 non-null object\n",
      "Proprietario          5707 non-null object\n",
      "Nome_propriedade      5707 non-null object\n",
      "Municipio             5691 non-null object\n",
      "Estado                5699 non-null object\n",
      "CNPJ_CPF_CEI          5707 non-null object\n",
      "CNPJ_CPF_CEI_limpo    5707 non-null object\n",
      "Trab_Envolv           4695 non-null float64\n",
      "Ramo_atividade        2840 non-null object\n",
      "Localizacao           2734 non-null object\n",
      "Cod_ativ              3141 non-null object\n",
      "Tipo_lista            5707 non-null object\n",
      "Unnamed: 13           0 non-null float64\n",
      "Unnamed: 14           0 non-null float64\n",
      "Unnamed: 15           0 non-null float64\n",
      "documento_inteiro     5707 non-null object\n",
      "cnpj_raiz             5707 non-null object\n",
      "dtypes: float64(4), object(14)\n",
      "memory usage: 847.1+ KB\n"
     ]
    }
   ],
   "source": [
    "te.info()"
   ]
  },
  {
   "cell_type": "code",
   "execution_count": null,
   "metadata": {},
   "outputs": [],
   "source": []
  },
  {
   "cell_type": "code",
   "execution_count": 21,
   "metadata": {},
   "outputs": [
    {
     "data": {
      "text/html": [
       "<div>\n",
       "<style scoped>\n",
       "    .dataframe tbody tr th:only-of-type {\n",
       "        vertical-align: middle;\n",
       "    }\n",
       "\n",
       "    .dataframe tbody tr th {\n",
       "        vertical-align: top;\n",
       "    }\n",
       "\n",
       "    .dataframe thead th {\n",
       "        text-align: right;\n",
       "    }\n",
       "</style>\n",
       "<table border=\"1\" class=\"dataframe\">\n",
       "  <thead>\n",
       "    <tr style=\"text-align: right;\">\n",
       "      <th></th>\n",
       "      <th>Data_lista</th>\n",
       "      <th>DATA_INCLUS</th>\n",
       "      <th>Proprietario</th>\n",
       "      <th>Nome_propriedade</th>\n",
       "      <th>Municipio</th>\n",
       "      <th>Estado</th>\n",
       "      <th>CNPJ_CPF_CEI</th>\n",
       "      <th>CNPJ_CPF_CEI_limpo</th>\n",
       "      <th>Trab_Envolv</th>\n",
       "      <th>Ramo_atividade</th>\n",
       "      <th>Localizacao</th>\n",
       "      <th>Cod_ativ</th>\n",
       "      <th>Tipo_lista</th>\n",
       "      <th>Unnamed: 13</th>\n",
       "      <th>Unnamed: 14</th>\n",
       "      <th>Unnamed: 15</th>\n",
       "      <th>documento_inteiro</th>\n",
       "      <th>cnpj_raiz</th>\n",
       "    </tr>\n",
       "  </thead>\n",
       "  <tbody>\n",
       "  </tbody>\n",
       "</table>\n",
       "</div>"
      ],
      "text/plain": [
       "Empty DataFrame\n",
       "Columns: [Data_lista, DATA_INCLUS, Proprietario, Nome_propriedade, Municipio, Estado, CNPJ_CPF_CEI, CNPJ_CPF_CEI_limpo, Trab_Envolv, Ramo_atividade, Localizacao, Cod_ativ, Tipo_lista, Unnamed: 13, Unnamed: 14, Unnamed: 15, documento_inteiro, cnpj_raiz]\n",
       "Index: []"
      ]
     },
     "execution_count": 21,
     "metadata": {},
     "output_type": "execute_result"
    }
   ],
   "source": [
    "nome = te[(te['Nome_propriedade'] == 'AGROVAS-AGROPECUARIA VALE DO SUIA LTDA')]\n",
    "nome"
   ]
  },
  {
   "cell_type": "code",
   "execution_count": null,
   "metadata": {},
   "outputs": [],
   "source": []
  },
  {
   "cell_type": "code",
   "execution_count": 22,
   "metadata": {},
   "outputs": [],
   "source": [
    "te_empresas_rurais = pd.merge(empresas_rurais.drop_duplicates('cnpj_raiz'), te.drop_duplicates('cnpj_raiz'), left_on='cnpj_raiz', right_on='cnpj_raiz')"
   ]
  },
  {
   "cell_type": "code",
   "execution_count": 23,
   "metadata": {},
   "outputs": [
    {
     "name": "stdout",
     "output_type": "stream",
     "text": [
      "<class 'pandas.core.frame.DataFrame'>\n",
      "Int64Index: 1 entries, 0 to 0\n",
      "Data columns (total 37 columns):\n",
      "uf                         1 non-null object\n",
      "nome_completo              1 non-null object\n",
      "sequencial                 1 non-null object\n",
      "cpf                        1 non-null object\n",
      "nome_urna                  1 non-null object\n",
      "partido_eleicao            1 non-null object\n",
      "cnpj                       1 non-null object\n",
      "indicador                  1 non-null float64\n",
      "documento                  1 non-null object\n",
      "qualificacao               1 non-null float64\n",
      "nome_empresa               1 non-null object\n",
      "estado                     1 non-null object\n",
      "socios                     1 non-null object\n",
      "situacao_empresa           1 non-null object\n",
      "cidade                     1 non-null object\n",
      "cnae_principal             1 non-null object\n",
      "propriedade                1 non-null object\n",
      "capital_social             1 non-null object\n",
      "agricola_ou_relacionada    1 non-null object\n",
      "cnpj_raiz                  1 non-null object\n",
      "Data_lista                 1 non-null object\n",
      "DATA_INCLUS                1 non-null object\n",
      "Proprietario               1 non-null object\n",
      "Nome_propriedade           1 non-null object\n",
      "Municipio                  1 non-null object\n",
      "Estado                     1 non-null object\n",
      "CNPJ_CPF_CEI               1 non-null object\n",
      "CNPJ_CPF_CEI_limpo         1 non-null object\n",
      "Trab_Envolv                1 non-null float64\n",
      "Ramo_atividade             0 non-null object\n",
      "Localizacao                0 non-null object\n",
      "Cod_ativ                   0 non-null object\n",
      "Tipo_lista                 1 non-null object\n",
      "Unnamed: 13                0 non-null float64\n",
      "Unnamed: 14                0 non-null float64\n",
      "Unnamed: 15                0 non-null float64\n",
      "documento_inteiro          1 non-null object\n",
      "dtypes: float64(6), object(31)\n",
      "memory usage: 304.0+ bytes\n"
     ]
    }
   ],
   "source": [
    "te_empresas_rurais.info()"
   ]
  },
  {
   "cell_type": "code",
   "execution_count": 30,
   "metadata": {},
   "outputs": [],
   "source": [
    "te_empresas_rurais.to_excel('resultados/empresas_rurais_na_lista_te.xlsx',sheet_name='Sheet1')"
   ]
  },
  {
   "cell_type": "code",
   "execution_count": null,
   "metadata": {},
   "outputs": [],
   "source": []
  }
 ],
 "metadata": {
  "kernelspec": {
   "display_name": "Python 3",
   "language": "python",
   "name": "python3"
  },
  "language_info": {
   "codemirror_mode": {
    "name": "ipython",
    "version": 3
   },
   "file_extension": ".py",
   "mimetype": "text/x-python",
   "name": "python",
   "nbconvert_exporter": "python",
   "pygments_lexer": "ipython3",
   "version": "3.6.2"
  }
 },
 "nbformat": 4,
 "nbformat_minor": 2
}
