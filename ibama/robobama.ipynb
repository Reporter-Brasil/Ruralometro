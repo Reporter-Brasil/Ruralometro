{
 "cells": [
  {
   "cell_type": "code",
   "execution_count": 1,
   "metadata": {},
   "outputs": [],
   "source": [
    "# -*- coding: utf-8\n",
    "# Repórter Brasil (http://ruralometro.reporterbrasil.org.br/)\n",
    "# Reinaldo Chaves (@paidatocandeira)\n",
    "# Programa para encontrar quais deputados federais eleitos em 2014 receberam doações de empresas ou pessoas físicas que têm áreas embargadas pelo Ibama\n",
    "# Também mostra quais deputados têm diretamente áreas embargadas pelo Ibama\n",
    "#"
   ]
  },
  {
   "cell_type": "code",
   "execution_count": null,
   "metadata": {},
   "outputs": [],
   "source": []
  },
  {
   "cell_type": "code",
   "execution_count": null,
   "metadata": {},
   "outputs": [],
   "source": [
    "import pandas as pd"
   ]
  },
  {
   "cell_type": "markdown",
   "metadata": {},
   "source": [
    "# Carrega e filtra doações"
   ]
  },
  {
   "cell_type": "code",
   "execution_count": 2,
   "metadata": {},
   "outputs": [],
   "source": [
    "doacoes_2014 = pd.read_csv(\"/home/reinaldo/Documentos/Code/RB2/candidatos/repo/resultados/doacoes_brasil_2014.csv\",sep=',',encoding = 'utf-8', converters={'CPF do candidato': lambda x: str(x), 'CPF/CNPJ do doador': lambda x: str(x), 'CPF/CNPJ do doador originário': lambda x: str(x)}, decimal = ',')"
   ]
  },
  {
   "cell_type": "code",
   "execution_count": 3,
   "metadata": {},
   "outputs": [],
   "source": [
    "doacoes_d_2014 = doacoes_2014[(doacoes_2014['Cargo'] == 'Deputado Federal')]"
   ]
  },
  {
   "cell_type": "code",
   "execution_count": 4,
   "metadata": {},
   "outputs": [],
   "source": [
    "doacoes_d_2014.columns = ['uf', 'partido_eleicao', 'cargo', 'nome_completo', 'cpf', 'cpf_cnpj_doador', 'nome_doador', 'valor', 'tipo_receita', 'fonte_recurso', 'especie_recurso', 'descricao', 'cpf_cnpj_doador_originario', 'nome_doador_originario', 'tipo_doador_originario']"
   ]
  },
  {
   "cell_type": "code",
   "execution_count": 5,
   "metadata": {},
   "outputs": [
    {
     "name": "stdout",
     "output_type": "stream",
     "text": [
      "<class 'pandas.core.frame.DataFrame'>\n",
      "Int64Index: 125082 entries, 1 to 427355\n",
      "Data columns (total 15 columns):\n",
      "uf                            125082 non-null object\n",
      "partido_eleicao               125082 non-null object\n",
      "cargo                         125082 non-null object\n",
      "nome_completo                 125082 non-null object\n",
      "cpf                           125082 non-null object\n",
      "cpf_cnpj_doador               125082 non-null object\n",
      "nome_doador                   125082 non-null object\n",
      "valor                         125082 non-null float64\n",
      "tipo_receita                  125082 non-null object\n",
      "fonte_recurso                 125082 non-null object\n",
      "especie_recurso               125082 non-null object\n",
      "descricao                     125082 non-null object\n",
      "cpf_cnpj_doador_originario    125082 non-null object\n",
      "nome_doador_originario        125082 non-null object\n",
      "tipo_doador_originario        125082 non-null object\n",
      "dtypes: float64(1), object(14)\n",
      "memory usage: 15.3+ MB\n"
     ]
    }
   ],
   "source": [
    "doacoes_d_2014.info()"
   ]
  },
  {
   "cell_type": "code",
   "execution_count": null,
   "metadata": {},
   "outputs": [],
   "source": []
  },
  {
   "cell_type": "markdown",
   "metadata": {},
   "source": [
    "# Carrega candidatos de 2014"
   ]
  },
  {
   "cell_type": "code",
   "execution_count": 8,
   "metadata": {},
   "outputs": [],
   "source": [
    "eleitos_d = pd.read_csv('/home/reinaldo/Documentos/Code/RB2/candidatos/repo/resultados/dep_eleitos_2014_final.csv',sep=',',encoding = 'utf-8', converters={'sequencial': lambda x: str(x), \n",
    "                                                                                                                  'cpf': lambda x: str(x),  \n",
    "                                                                                                                  'deputado_id': lambda x: str(x)})"
   ]
  },
  {
   "cell_type": "code",
   "execution_count": 9,
   "metadata": {},
   "outputs": [
    {
     "name": "stdout",
     "output_type": "stream",
     "text": [
      "<class 'pandas.core.frame.DataFrame'>\n",
      "RangeIndex: 513 entries, 0 to 512\n",
      "Data columns (total 15 columns):\n",
      "uf                   513 non-null object\n",
      "cargo                470 non-null object\n",
      "nome_completo        513 non-null object\n",
      "sequencial           513 non-null object\n",
      "cpf                  513 non-null object\n",
      "nome_urna            513 non-null object\n",
      "partido_eleicao      513 non-null object\n",
      "situacao_urna        513 non-null object\n",
      "condicao             513 non-null object\n",
      "deputado_id          513 non-null object\n",
      "legislatura          513 non-null int64\n",
      "partido_atual        513 non-null object\n",
      "situacao_mandato     513 non-null object\n",
      "uri                  513 non-null object\n",
      "bancada_ruralista    513 non-null object\n",
      "dtypes: int64(1), object(14)\n",
      "memory usage: 60.2+ KB\n"
     ]
    }
   ],
   "source": [
    "eleitos_d.info()"
   ]
  },
  {
   "cell_type": "code",
   "execution_count": null,
   "metadata": {},
   "outputs": [],
   "source": []
  },
  {
   "cell_type": "markdown",
   "metadata": {},
   "source": [
    "# Doações só para os deputados federais eleitos em 2014"
   ]
  },
  {
   "cell_type": "code",
   "execution_count": 10,
   "metadata": {},
   "outputs": [],
   "source": [
    "eleitos_d_doadores = pd.merge(doacoes_d_2014, eleitos_d, left_on='cpf', right_on='cpf')"
   ]
  },
  {
   "cell_type": "code",
   "execution_count": 11,
   "metadata": {},
   "outputs": [
    {
     "name": "stdout",
     "output_type": "stream",
     "text": [
      "<class 'pandas.core.frame.DataFrame'>\n",
      "Int64Index: 47491 entries, 0 to 47490\n",
      "Data columns (total 29 columns):\n",
      "uf_x                          47491 non-null object\n",
      "partido_eleicao_x             47491 non-null object\n",
      "cargo_x                       47491 non-null object\n",
      "nome_completo_x               47491 non-null object\n",
      "cpf                           47491 non-null object\n",
      "cpf_cnpj_doador               47491 non-null object\n",
      "nome_doador                   47491 non-null object\n",
      "valor                         47491 non-null float64\n",
      "tipo_receita                  47491 non-null object\n",
      "fonte_recurso                 47491 non-null object\n",
      "especie_recurso               47491 non-null object\n",
      "descricao                     47491 non-null object\n",
      "cpf_cnpj_doador_originario    47491 non-null object\n",
      "nome_doador_originario        47491 non-null object\n",
      "tipo_doador_originario        47491 non-null object\n",
      "uf_y                          47491 non-null object\n",
      "cargo_y                       44682 non-null object\n",
      "nome_completo_y               47491 non-null object\n",
      "sequencial                    47491 non-null object\n",
      "nome_urna                     47491 non-null object\n",
      "partido_eleicao_y             47491 non-null object\n",
      "situacao_urna                 47491 non-null object\n",
      "condicao                      47491 non-null object\n",
      "deputado_id                   47491 non-null object\n",
      "legislatura                   47491 non-null int64\n",
      "partido_atual                 47491 non-null object\n",
      "situacao_mandato              47491 non-null object\n",
      "uri                           47491 non-null object\n",
      "bancada_ruralista             47491 non-null object\n",
      "dtypes: float64(1), int64(1), object(27)\n",
      "memory usage: 10.9+ MB\n"
     ]
    }
   ],
   "source": [
    "eleitos_d_doadores.info()"
   ]
  },
  {
   "cell_type": "code",
   "execution_count": null,
   "metadata": {},
   "outputs": [],
   "source": []
  },
  {
   "cell_type": "markdown",
   "metadata": {},
   "source": [
    "# Só seleciona doações de empresas ou partidos"
   ]
  },
  {
   "cell_type": "code",
   "execution_count": 12,
   "metadata": {},
   "outputs": [],
   "source": [
    "doacoes_d_2014PJ = eleitos_d_doadores[(eleitos_d_doadores['tipo_receita'] != 'Recursos de pessoas físicas') & (eleitos_d_doadores['tipo_receita'] != 'Recursos próprios')]"
   ]
  },
  {
   "cell_type": "code",
   "execution_count": 13,
   "metadata": {},
   "outputs": [
    {
     "name": "stdout",
     "output_type": "stream",
     "text": [
      "<class 'pandas.core.frame.DataFrame'>\n",
      "Int64Index: 24450 entries, 0 to 47490\n",
      "Data columns (total 29 columns):\n",
      "uf_x                          24450 non-null object\n",
      "partido_eleicao_x             24450 non-null object\n",
      "cargo_x                       24450 non-null object\n",
      "nome_completo_x               24450 non-null object\n",
      "cpf                           24450 non-null object\n",
      "cpf_cnpj_doador               24450 non-null object\n",
      "nome_doador                   24450 non-null object\n",
      "valor                         24450 non-null float64\n",
      "tipo_receita                  24450 non-null object\n",
      "fonte_recurso                 24450 non-null object\n",
      "especie_recurso               24450 non-null object\n",
      "descricao                     24450 non-null object\n",
      "cpf_cnpj_doador_originario    24450 non-null object\n",
      "nome_doador_originario        24450 non-null object\n",
      "tipo_doador_originario        24450 non-null object\n",
      "uf_y                          24450 non-null object\n",
      "cargo_y                       23062 non-null object\n",
      "nome_completo_y               24450 non-null object\n",
      "sequencial                    24450 non-null object\n",
      "nome_urna                     24450 non-null object\n",
      "partido_eleicao_y             24450 non-null object\n",
      "situacao_urna                 24450 non-null object\n",
      "condicao                      24450 non-null object\n",
      "deputado_id                   24450 non-null object\n",
      "legislatura                   24450 non-null int64\n",
      "partido_atual                 24450 non-null object\n",
      "situacao_mandato              24450 non-null object\n",
      "uri                           24450 non-null object\n",
      "bancada_ruralista             24450 non-null object\n",
      "dtypes: float64(1), int64(1), object(27)\n",
      "memory usage: 5.6+ MB\n"
     ]
    }
   ],
   "source": [
    "doacoes_d_2014PJ.info()"
   ]
  },
  {
   "cell_type": "markdown",
   "metadata": {},
   "source": [
    "# Só seleciona doações de pessoas físicas"
   ]
  },
  {
   "cell_type": "code",
   "execution_count": 14,
   "metadata": {},
   "outputs": [],
   "source": [
    "doacoes_d_2014PF = eleitos_d_doadores[(eleitos_d_doadores['tipo_receita'] == 'Recursos de pessoas físicas') | (eleitos_d_doadores['tipo_receita'] == 'Recursos próprios')]"
   ]
  },
  {
   "cell_type": "code",
   "execution_count": 15,
   "metadata": {},
   "outputs": [
    {
     "name": "stdout",
     "output_type": "stream",
     "text": [
      "<class 'pandas.core.frame.DataFrame'>\n",
      "Int64Index: 23041 entries, 16 to 47479\n",
      "Data columns (total 29 columns):\n",
      "uf_x                          23041 non-null object\n",
      "partido_eleicao_x             23041 non-null object\n",
      "cargo_x                       23041 non-null object\n",
      "nome_completo_x               23041 non-null object\n",
      "cpf                           23041 non-null object\n",
      "cpf_cnpj_doador               23041 non-null object\n",
      "nome_doador                   23041 non-null object\n",
      "valor                         23041 non-null float64\n",
      "tipo_receita                  23041 non-null object\n",
      "fonte_recurso                 23041 non-null object\n",
      "especie_recurso               23041 non-null object\n",
      "descricao                     23041 non-null object\n",
      "cpf_cnpj_doador_originario    23041 non-null object\n",
      "nome_doador_originario        23041 non-null object\n",
      "tipo_doador_originario        23041 non-null object\n",
      "uf_y                          23041 non-null object\n",
      "cargo_y                       21620 non-null object\n",
      "nome_completo_y               23041 non-null object\n",
      "sequencial                    23041 non-null object\n",
      "nome_urna                     23041 non-null object\n",
      "partido_eleicao_y             23041 non-null object\n",
      "situacao_urna                 23041 non-null object\n",
      "condicao                      23041 non-null object\n",
      "deputado_id                   23041 non-null object\n",
      "legislatura                   23041 non-null int64\n",
      "partido_atual                 23041 non-null object\n",
      "situacao_mandato              23041 non-null object\n",
      "uri                           23041 non-null object\n",
      "bancada_ruralista             23041 non-null object\n",
      "dtypes: float64(1), int64(1), object(27)\n",
      "memory usage: 5.3+ MB\n"
     ]
    }
   ],
   "source": [
    "doacoes_d_2014PF.info()"
   ]
  },
  {
   "cell_type": "markdown",
   "metadata": {},
   "source": [
    "# Cria campos com CNPJ raiz - os oito primeiros digítos"
   ]
  },
  {
   "cell_type": "code",
   "execution_count": 16,
   "metadata": {},
   "outputs": [
    {
     "name": "stderr",
     "output_type": "stream",
     "text": [
      "/home/reinaldo/Documentos/Code/RB2/ibama/lib/python3.6/site-packages/ipykernel_launcher.py:1: SettingWithCopyWarning: \n",
      "A value is trying to be set on a copy of a slice from a DataFrame.\n",
      "Try using .loc[row_indexer,col_indexer] = value instead\n",
      "\n",
      "See the caveats in the documentation: http://pandas.pydata.org/pandas-docs/stable/indexing.html#indexing-view-versus-copy\n",
      "  \"\"\"Entry point for launching an IPython kernel.\n",
      "/home/reinaldo/Documentos/Code/RB2/ibama/lib/python3.6/site-packages/ipykernel_launcher.py:2: SettingWithCopyWarning: \n",
      "A value is trying to be set on a copy of a slice from a DataFrame.\n",
      "Try using .loc[row_indexer,col_indexer] = value instead\n",
      "\n",
      "See the caveats in the documentation: http://pandas.pydata.org/pandas-docs/stable/indexing.html#indexing-view-versus-copy\n",
      "  \n"
     ]
    }
   ],
   "source": [
    "doacoes_d_2014PJ['cnpj_doador_raiz'] = doacoes_d_2014PJ.cpf_cnpj_doador.str[:8]\n",
    "doacoes_d_2014PJ['cnpj_doador_originario_raiz'] = doacoes_d_2014PJ.cpf_cnpj_doador_originario.str[:8]"
   ]
  },
  {
   "cell_type": "code",
   "execution_count": null,
   "metadata": {},
   "outputs": [],
   "source": []
  },
  {
   "cell_type": "markdown",
   "metadata": {},
   "source": [
    "# Carrega Ibama"
   ]
  },
  {
   "cell_type": "code",
   "execution_count": 17,
   "metadata": {},
   "outputs": [],
   "source": [
    "ibama = pd.read_excel('embargos/ibama_14_7_18.xlsx',sheet_name='Planilha1')"
   ]
  },
  {
   "cell_type": "code",
   "execution_count": 18,
   "metadata": {},
   "outputs": [],
   "source": [
    "ibama = ibama[pd.notnull(ibama['CPF_CNPJ'])]"
   ]
  },
  {
   "cell_type": "code",
   "execution_count": 19,
   "metadata": {},
   "outputs": [
    {
     "name": "stdout",
     "output_type": "stream",
     "text": [
      "<class 'pandas.core.frame.DataFrame'>\n",
      "Int64Index: 59252 entries, 0 to 59693\n",
      "Data columns (total 16 columns):\n",
      "N_TAD                         59252 non-null int64\n",
      "SERIE_TAD                     59252 non-null object\n",
      "area_ha                       21036 non-null float64\n",
      "N_AI                          56759 non-null float64\n",
      "Nome_Razao_Social             59252 non-null object\n",
      "CPF_CNPJ                      59252 non-null object\n",
      "Localizacao_Imovel            52876 non-null object\n",
      "UF_Embargo                    59252 non-null object\n",
      "Municipio_Embargo             59252 non-null object\n",
      "cod_IBGE_Municipio_Embargo    59252 non-null int64\n",
      "Municipio                     59252 non-null object\n",
      "Bairro                        57525 non-null object\n",
      "Endereco                      59014 non-null object\n",
      "Julgamento                    59252 non-null object\n",
      "Infracao                      56758 non-null object\n",
      "Data_insercao_Lista           59251 non-null object\n",
      "dtypes: float64(2), int64(2), object(12)\n",
      "memory usage: 7.7+ MB\n"
     ]
    }
   ],
   "source": [
    "ibama.info()"
   ]
  },
  {
   "cell_type": "code",
   "execution_count": 20,
   "metadata": {},
   "outputs": [],
   "source": [
    "ibama['Data_insercao_Lista'] = pd.to_datetime(ibama['Data_insercao_Lista'])"
   ]
  },
  {
   "cell_type": "code",
   "execution_count": null,
   "metadata": {},
   "outputs": [],
   "source": []
  },
  {
   "cell_type": "markdown",
   "metadata": {},
   "source": [
    "Limpa CNPJ/CPF"
   ]
  },
  {
   "cell_type": "code",
   "execution_count": 21,
   "metadata": {},
   "outputs": [],
   "source": [
    "def limpeza1(linha):\n",
    "    documento = str(linha[\"CPF_CNPJ\"])\n",
    "    documento = documento.strip()\n",
    "    documento = documento.replace('.', '')\n",
    "    documento = documento.replace('-', '')\n",
    "    documento = documento.replace('/', '')\n",
    "    return str(documento)\n",
    "\n",
    "def limpeza2(linha):\n",
    "    documento = str(linha[\"CPF_CNPJ_limpo\"])\n",
    "    if len(documento) > 11:\n",
    "        return documento[:8]\n",
    "    else:\n",
    "        return \"documento_cpf\""
   ]
  },
  {
   "cell_type": "code",
   "execution_count": 22,
   "metadata": {},
   "outputs": [],
   "source": [
    "ibama[\"CPF_CNPJ_limpo\"] = ibama.apply(limpeza1, axis=1)\n",
    "ibama['cnpj_raiz'] = ibama.apply(limpeza2, axis=1)"
   ]
  },
  {
   "cell_type": "code",
   "execution_count": 23,
   "metadata": {},
   "outputs": [],
   "source": [
    "ibamaPF = ibama[(ibama['cnpj_raiz'] == 'documento_cpf')]"
   ]
  },
  {
   "cell_type": "code",
   "execution_count": 24,
   "metadata": {},
   "outputs": [
    {
     "name": "stdout",
     "output_type": "stream",
     "text": [
      "<class 'pandas.core.frame.DataFrame'>\n",
      "Int64Index: 48934 entries, 0 to 59693\n",
      "Data columns (total 18 columns):\n",
      "N_TAD                         48934 non-null int64\n",
      "SERIE_TAD                     48934 non-null object\n",
      "area_ha                       20146 non-null float64\n",
      "N_AI                          46941 non-null float64\n",
      "Nome_Razao_Social             48934 non-null object\n",
      "CPF_CNPJ                      48934 non-null object\n",
      "Localizacao_Imovel            43626 non-null object\n",
      "UF_Embargo                    48934 non-null object\n",
      "Municipio_Embargo             48934 non-null object\n",
      "cod_IBGE_Municipio_Embargo    48934 non-null int64\n",
      "Municipio                     48934 non-null object\n",
      "Bairro                        47353 non-null object\n",
      "Endereco                      48743 non-null object\n",
      "Julgamento                    48934 non-null object\n",
      "Infracao                      46940 non-null object\n",
      "Data_insercao_Lista           48933 non-null datetime64[ns]\n",
      "CPF_CNPJ_limpo                48934 non-null object\n",
      "cnpj_raiz                     48934 non-null object\n",
      "dtypes: datetime64[ns](1), float64(2), int64(2), object(13)\n",
      "memory usage: 7.1+ MB\n"
     ]
    }
   ],
   "source": [
    "ibamaPF.info()"
   ]
  },
  {
   "cell_type": "code",
   "execution_count": 25,
   "metadata": {},
   "outputs": [],
   "source": [
    "ibamaPJ = ibama[(ibama['cnpj_raiz'] != 'documento_cpf')]"
   ]
  },
  {
   "cell_type": "code",
   "execution_count": 26,
   "metadata": {},
   "outputs": [
    {
     "name": "stdout",
     "output_type": "stream",
     "text": [
      "<class 'pandas.core.frame.DataFrame'>\n",
      "Int64Index: 10318 entries, 9 to 59661\n",
      "Data columns (total 18 columns):\n",
      "N_TAD                         10318 non-null int64\n",
      "SERIE_TAD                     10318 non-null object\n",
      "area_ha                       890 non-null float64\n",
      "N_AI                          9818 non-null float64\n",
      "Nome_Razao_Social             10318 non-null object\n",
      "CPF_CNPJ                      10318 non-null object\n",
      "Localizacao_Imovel            9250 non-null object\n",
      "UF_Embargo                    10318 non-null object\n",
      "Municipio_Embargo             10318 non-null object\n",
      "cod_IBGE_Municipio_Embargo    10318 non-null int64\n",
      "Municipio                     10318 non-null object\n",
      "Bairro                        10172 non-null object\n",
      "Endereco                      10271 non-null object\n",
      "Julgamento                    10318 non-null object\n",
      "Infracao                      9818 non-null object\n",
      "Data_insercao_Lista           10318 non-null datetime64[ns]\n",
      "CPF_CNPJ_limpo                10318 non-null object\n",
      "cnpj_raiz                     10318 non-null object\n",
      "dtypes: datetime64[ns](1), float64(2), int64(2), object(13)\n",
      "memory usage: 1.5+ MB\n"
     ]
    }
   ],
   "source": [
    "ibamaPJ.info()"
   ]
  },
  {
   "cell_type": "code",
   "execution_count": null,
   "metadata": {},
   "outputs": [],
   "source": []
  },
  {
   "cell_type": "markdown",
   "metadata": {},
   "source": [
    "# Cruzamento 1 - de CNPJs - candidatos eleitos e doacoes diretas + nomes em embargos do Ibama"
   ]
  },
  {
   "cell_type": "code",
   "execution_count": 27,
   "metadata": {},
   "outputs": [],
   "source": [
    "ibama_doadores_diretos = pd.merge(doacoes_d_2014PJ, ibamaPJ.drop_duplicates('cnpj_raiz'), left_on='cnpj_doador_raiz', right_on='cnpj_raiz')"
   ]
  },
  {
   "cell_type": "code",
   "execution_count": 28,
   "metadata": {},
   "outputs": [
    {
     "name": "stdout",
     "output_type": "stream",
     "text": [
      "<class 'pandas.core.frame.DataFrame'>\n",
      "Int64Index: 213 entries, 0 to 212\n",
      "Data columns (total 49 columns):\n",
      "uf_x                           213 non-null object\n",
      "partido_eleicao_x              213 non-null object\n",
      "cargo_x                        213 non-null object\n",
      "nome_completo_x                213 non-null object\n",
      "cpf                            213 non-null object\n",
      "cpf_cnpj_doador                213 non-null object\n",
      "nome_doador                    213 non-null object\n",
      "valor                          213 non-null float64\n",
      "tipo_receita                   213 non-null object\n",
      "fonte_recurso                  213 non-null object\n",
      "especie_recurso                213 non-null object\n",
      "descricao                      213 non-null object\n",
      "cpf_cnpj_doador_originario     213 non-null object\n",
      "nome_doador_originario         213 non-null object\n",
      "tipo_doador_originario         213 non-null object\n",
      "uf_y                           213 non-null object\n",
      "cargo_y                        195 non-null object\n",
      "nome_completo_y                213 non-null object\n",
      "sequencial                     213 non-null object\n",
      "nome_urna                      213 non-null object\n",
      "partido_eleicao_y              213 non-null object\n",
      "situacao_urna                  213 non-null object\n",
      "condicao                       213 non-null object\n",
      "deputado_id                    213 non-null object\n",
      "legislatura                    213 non-null int64\n",
      "partido_atual                  213 non-null object\n",
      "situacao_mandato               213 non-null object\n",
      "uri                            213 non-null object\n",
      "bancada_ruralista              213 non-null object\n",
      "cnpj_doador_raiz               213 non-null object\n",
      "cnpj_doador_originario_raiz    213 non-null object\n",
      "N_TAD                          213 non-null int64\n",
      "SERIE_TAD                      213 non-null object\n",
      "area_ha                        17 non-null float64\n",
      "N_AI                           169 non-null float64\n",
      "Nome_Razao_Social              213 non-null object\n",
      "CPF_CNPJ                       213 non-null object\n",
      "Localizacao_Imovel             180 non-null object\n",
      "UF_Embargo                     213 non-null object\n",
      "Municipio_Embargo              213 non-null object\n",
      "cod_IBGE_Municipio_Embargo     213 non-null int64\n",
      "Municipio                      213 non-null object\n",
      "Bairro                         209 non-null object\n",
      "Endereco                       213 non-null object\n",
      "Julgamento                     213 non-null object\n",
      "Infracao                       169 non-null object\n",
      "Data_insercao_Lista            213 non-null datetime64[ns]\n",
      "CPF_CNPJ_limpo                 213 non-null object\n",
      "cnpj_raiz                      213 non-null object\n",
      "dtypes: datetime64[ns](1), float64(3), int64(3), object(42)\n",
      "memory usage: 83.2+ KB\n"
     ]
    }
   ],
   "source": [
    "ibama_doadores_diretos.info()"
   ]
  },
  {
   "cell_type": "code",
   "execution_count": 29,
   "metadata": {},
   "outputs": [],
   "source": [
    "ibama_doadores_diretos.to_csv('resultados/ibama_doadores_diretos.csv', index=False, decimal=',')"
   ]
  },
  {
   "cell_type": "code",
   "execution_count": 30,
   "metadata": {},
   "outputs": [],
   "source": [
    "ibama_doadores_diretos.to_excel('resultados/ibama_doadores_diretos.xlsx',sheet_name='Sheet1')"
   ]
  },
  {
   "cell_type": "code",
   "execution_count": null,
   "metadata": {},
   "outputs": [],
   "source": []
  },
  {
   "cell_type": "markdown",
   "metadata": {},
   "source": [
    "# Cruzamento 2 - de CNPJs - candidatos eleitos e doacoes indiretas + nomes em embargos do Ibama"
   ]
  },
  {
   "cell_type": "code",
   "execution_count": 31,
   "metadata": {},
   "outputs": [],
   "source": [
    "ibama_doadores_indiretos = pd.merge(doacoes_d_2014PJ, ibamaPJ.drop_duplicates('cnpj_raiz'), left_on='cnpj_doador_originario_raiz', right_on='cnpj_raiz')"
   ]
  },
  {
   "cell_type": "code",
   "execution_count": 32,
   "metadata": {},
   "outputs": [
    {
     "name": "stdout",
     "output_type": "stream",
     "text": [
      "<class 'pandas.core.frame.DataFrame'>\n",
      "Int64Index: 942 entries, 0 to 941\n",
      "Data columns (total 49 columns):\n",
      "uf_x                           942 non-null object\n",
      "partido_eleicao_x              942 non-null object\n",
      "cargo_x                        942 non-null object\n",
      "nome_completo_x                942 non-null object\n",
      "cpf                            942 non-null object\n",
      "cpf_cnpj_doador                942 non-null object\n",
      "nome_doador                    942 non-null object\n",
      "valor                          942 non-null float64\n",
      "tipo_receita                   942 non-null object\n",
      "fonte_recurso                  942 non-null object\n",
      "especie_recurso                942 non-null object\n",
      "descricao                      942 non-null object\n",
      "cpf_cnpj_doador_originario     942 non-null object\n",
      "nome_doador_originario         942 non-null object\n",
      "tipo_doador_originario         942 non-null object\n",
      "uf_y                           942 non-null object\n",
      "cargo_y                        899 non-null object\n",
      "nome_completo_y                942 non-null object\n",
      "sequencial                     942 non-null object\n",
      "nome_urna                      942 non-null object\n",
      "partido_eleicao_y              942 non-null object\n",
      "situacao_urna                  942 non-null object\n",
      "condicao                       942 non-null object\n",
      "deputado_id                    942 non-null object\n",
      "legislatura                    942 non-null int64\n",
      "partido_atual                  942 non-null object\n",
      "situacao_mandato               942 non-null object\n",
      "uri                            942 non-null object\n",
      "bancada_ruralista              942 non-null object\n",
      "cnpj_doador_raiz               942 non-null object\n",
      "cnpj_doador_originario_raiz    942 non-null object\n",
      "N_TAD                          942 non-null int64\n",
      "SERIE_TAD                      942 non-null object\n",
      "area_ha                        2 non-null float64\n",
      "N_AI                           778 non-null float64\n",
      "Nome_Razao_Social              942 non-null object\n",
      "CPF_CNPJ                       942 non-null object\n",
      "Localizacao_Imovel             932 non-null object\n",
      "UF_Embargo                     942 non-null object\n",
      "Municipio_Embargo              942 non-null object\n",
      "cod_IBGE_Municipio_Embargo     942 non-null int64\n",
      "Municipio                      942 non-null object\n",
      "Bairro                         942 non-null object\n",
      "Endereco                       942 non-null object\n",
      "Julgamento                     942 non-null object\n",
      "Infracao                       778 non-null object\n",
      "Data_insercao_Lista            942 non-null datetime64[ns]\n",
      "CPF_CNPJ_limpo                 942 non-null object\n",
      "cnpj_raiz                      942 non-null object\n",
      "dtypes: datetime64[ns](1), float64(3), int64(3), object(42)\n",
      "memory usage: 368.0+ KB\n"
     ]
    }
   ],
   "source": [
    "ibama_doadores_indiretos.info()"
   ]
  },
  {
   "cell_type": "code",
   "execution_count": 33,
   "metadata": {},
   "outputs": [],
   "source": [
    "ibama_doadores_indiretos.to_csv('resultados/ibama_doadores_indiretos.csv', index=False, decimal=',')"
   ]
  },
  {
   "cell_type": "code",
   "execution_count": 34,
   "metadata": {},
   "outputs": [],
   "source": [
    "ibama_doadores_indiretos.to_excel('resultados/ibama_doadores_indiretos.xlsx',sheet_name='Sheet1')"
   ]
  },
  {
   "cell_type": "code",
   "execution_count": null,
   "metadata": {},
   "outputs": [],
   "source": []
  },
  {
   "cell_type": "markdown",
   "metadata": {},
   "source": [
    "# Cruzamento 3 - de CPFs - candidatos eleitos e doacoes diretas + nomes na lista de embargos do Ibama"
   ]
  },
  {
   "cell_type": "code",
   "execution_count": 35,
   "metadata": {},
   "outputs": [],
   "source": [
    "ibama_doadores_diretos_cpf = pd.merge(doacoes_d_2014PF, ibamaPF.drop_duplicates('CPF_CNPJ_limpo'), \n",
    "                                      left_on='cpf_cnpj_doador', right_on='CPF_CNPJ_limpo')"
   ]
  },
  {
   "cell_type": "code",
   "execution_count": 36,
   "metadata": {},
   "outputs": [
    {
     "name": "stdout",
     "output_type": "stream",
     "text": [
      "<class 'pandas.core.frame.DataFrame'>\n",
      "Int64Index: 100 entries, 0 to 99\n",
      "Data columns (total 47 columns):\n",
      "uf_x                          100 non-null object\n",
      "partido_eleicao_x             100 non-null object\n",
      "cargo_x                       100 non-null object\n",
      "nome_completo_x               100 non-null object\n",
      "cpf                           100 non-null object\n",
      "cpf_cnpj_doador               100 non-null object\n",
      "nome_doador                   100 non-null object\n",
      "valor                         100 non-null float64\n",
      "tipo_receita                  100 non-null object\n",
      "fonte_recurso                 100 non-null object\n",
      "especie_recurso               100 non-null object\n",
      "descricao                     100 non-null object\n",
      "cpf_cnpj_doador_originario    100 non-null object\n",
      "nome_doador_originario        100 non-null object\n",
      "tipo_doador_originario        100 non-null object\n",
      "uf_y                          100 non-null object\n",
      "cargo_y                       98 non-null object\n",
      "nome_completo_y               100 non-null object\n",
      "sequencial                    100 non-null object\n",
      "nome_urna                     100 non-null object\n",
      "partido_eleicao_y             100 non-null object\n",
      "situacao_urna                 100 non-null object\n",
      "condicao                      100 non-null object\n",
      "deputado_id                   100 non-null object\n",
      "legislatura                   100 non-null int64\n",
      "partido_atual                 100 non-null object\n",
      "situacao_mandato              100 non-null object\n",
      "uri                           100 non-null object\n",
      "bancada_ruralista             100 non-null object\n",
      "N_TAD                         100 non-null int64\n",
      "SERIE_TAD                     100 non-null object\n",
      "area_ha                       35 non-null float64\n",
      "N_AI                          84 non-null float64\n",
      "Nome_Razao_Social             100 non-null object\n",
      "CPF_CNPJ                      100 non-null object\n",
      "Localizacao_Imovel            79 non-null object\n",
      "UF_Embargo                    100 non-null object\n",
      "Municipio_Embargo             100 non-null object\n",
      "cod_IBGE_Municipio_Embargo    100 non-null int64\n",
      "Municipio                     100 non-null object\n",
      "Bairro                        99 non-null object\n",
      "Endereco                      99 non-null object\n",
      "Julgamento                    100 non-null object\n",
      "Infracao                      84 non-null object\n",
      "Data_insercao_Lista           100 non-null datetime64[ns]\n",
      "CPF_CNPJ_limpo                100 non-null object\n",
      "cnpj_raiz                     100 non-null object\n",
      "dtypes: datetime64[ns](1), float64(3), int64(3), object(40)\n",
      "memory usage: 37.5+ KB\n"
     ]
    }
   ],
   "source": [
    "ibama_doadores_diretos_cpf.info()"
   ]
  },
  {
   "cell_type": "code",
   "execution_count": 37,
   "metadata": {},
   "outputs": [],
   "source": [
    "ibama_doadores_diretos_cpf.to_csv('resultados/ibama_doadores_diretos_cpf.csv', index=False, decimal=',')"
   ]
  },
  {
   "cell_type": "code",
   "execution_count": 38,
   "metadata": {},
   "outputs": [],
   "source": [
    "ibama_doadores_diretos_cpf.to_excel('resultados/ibama_doadores_diretos_cpf.xlsx',sheet_name='Sheet1')"
   ]
  },
  {
   "cell_type": "code",
   "execution_count": null,
   "metadata": {},
   "outputs": [],
   "source": []
  },
  {
   "cell_type": "markdown",
   "metadata": {},
   "source": [
    "# Cruzamento 4 - de CPFs - candidatos eleitos e doacoes indiretas + nomes em embargos do Ibama"
   ]
  },
  {
   "cell_type": "code",
   "execution_count": 39,
   "metadata": {},
   "outputs": [],
   "source": [
    "ibama_doadores_indiretos_cpf = pd.merge(doacoes_d_2014PF, ibamaPF.drop_duplicates('CPF_CNPJ_limpo'), left_on='cpf_cnpj_doador_originario', right_on='CPF_CNPJ_limpo')"
   ]
  },
  {
   "cell_type": "code",
   "execution_count": 40,
   "metadata": {},
   "outputs": [
    {
     "name": "stdout",
     "output_type": "stream",
     "text": [
      "<class 'pandas.core.frame.DataFrame'>\n",
      "Index: 0 entries\n",
      "Data columns (total 47 columns):\n",
      "uf_x                          0 non-null object\n",
      "partido_eleicao_x             0 non-null object\n",
      "cargo_x                       0 non-null object\n",
      "nome_completo_x               0 non-null object\n",
      "cpf                           0 non-null object\n",
      "cpf_cnpj_doador               0 non-null object\n",
      "nome_doador                   0 non-null object\n",
      "valor                         0 non-null float64\n",
      "tipo_receita                  0 non-null object\n",
      "fonte_recurso                 0 non-null object\n",
      "especie_recurso               0 non-null object\n",
      "descricao                     0 non-null object\n",
      "cpf_cnpj_doador_originario    0 non-null object\n",
      "nome_doador_originario        0 non-null object\n",
      "tipo_doador_originario        0 non-null object\n",
      "uf_y                          0 non-null object\n",
      "cargo_y                       0 non-null object\n",
      "nome_completo_y               0 non-null object\n",
      "sequencial                    0 non-null object\n",
      "nome_urna                     0 non-null object\n",
      "partido_eleicao_y             0 non-null object\n",
      "situacao_urna                 0 non-null object\n",
      "condicao                      0 non-null object\n",
      "deputado_id                   0 non-null object\n",
      "legislatura                   0 non-null int64\n",
      "partido_atual                 0 non-null object\n",
      "situacao_mandato              0 non-null object\n",
      "uri                           0 non-null object\n",
      "bancada_ruralista             0 non-null object\n",
      "N_TAD                         0 non-null int64\n",
      "SERIE_TAD                     0 non-null object\n",
      "area_ha                       0 non-null float64\n",
      "N_AI                          0 non-null float64\n",
      "Nome_Razao_Social             0 non-null object\n",
      "CPF_CNPJ                      0 non-null object\n",
      "Localizacao_Imovel            0 non-null object\n",
      "UF_Embargo                    0 non-null object\n",
      "Municipio_Embargo             0 non-null object\n",
      "cod_IBGE_Municipio_Embargo    0 non-null int64\n",
      "Municipio                     0 non-null object\n",
      "Bairro                        0 non-null object\n",
      "Endereco                      0 non-null object\n",
      "Julgamento                    0 non-null object\n",
      "Infracao                      0 non-null object\n",
      "Data_insercao_Lista           0 non-null datetime64[ns]\n",
      "CPF_CNPJ_limpo                0 non-null object\n",
      "cnpj_raiz                     0 non-null object\n",
      "dtypes: datetime64[ns](1), float64(3), int64(3), object(40)\n",
      "memory usage: 0.0+ bytes\n"
     ]
    }
   ],
   "source": [
    "ibama_doadores_indiretos_cpf.info()"
   ]
  },
  {
   "cell_type": "code",
   "execution_count": null,
   "metadata": {},
   "outputs": [],
   "source": []
  },
  {
   "cell_type": "markdown",
   "metadata": {},
   "source": [
    "# Cruzamento 5 - candidatos eleitos que estão na lista de embargos do Ibama"
   ]
  },
  {
   "cell_type": "code",
   "execution_count": 41,
   "metadata": {},
   "outputs": [],
   "source": [
    "eleitos_d_ibama = pd.merge(ibamaPF, eleitos_d, left_on='CPF_CNPJ_limpo', right_on='cpf')"
   ]
  },
  {
   "cell_type": "code",
   "execution_count": 42,
   "metadata": {},
   "outputs": [
    {
     "name": "stdout",
     "output_type": "stream",
     "text": [
      "<class 'pandas.core.frame.DataFrame'>\n",
      "Int64Index: 9 entries, 0 to 8\n",
      "Data columns (total 33 columns):\n",
      "N_TAD                         9 non-null int64\n",
      "SERIE_TAD                     9 non-null object\n",
      "area_ha                       5 non-null float64\n",
      "N_AI                          9 non-null float64\n",
      "Nome_Razao_Social             9 non-null object\n",
      "CPF_CNPJ                      9 non-null object\n",
      "Localizacao_Imovel            9 non-null object\n",
      "UF_Embargo                    9 non-null object\n",
      "Municipio_Embargo             9 non-null object\n",
      "cod_IBGE_Municipio_Embargo    9 non-null int64\n",
      "Municipio                     9 non-null object\n",
      "Bairro                        9 non-null object\n",
      "Endereco                      9 non-null object\n",
      "Julgamento                    9 non-null object\n",
      "Infracao                      9 non-null object\n",
      "Data_insercao_Lista           9 non-null datetime64[ns]\n",
      "CPF_CNPJ_limpo                9 non-null object\n",
      "cnpj_raiz                     9 non-null object\n",
      "uf                            9 non-null object\n",
      "cargo                         9 non-null object\n",
      "nome_completo                 9 non-null object\n",
      "sequencial                    9 non-null object\n",
      "cpf                           9 non-null object\n",
      "nome_urna                     9 non-null object\n",
      "partido_eleicao               9 non-null object\n",
      "situacao_urna                 9 non-null object\n",
      "condicao                      9 non-null object\n",
      "deputado_id                   9 non-null object\n",
      "legislatura                   9 non-null int64\n",
      "partido_atual                 9 non-null object\n",
      "situacao_mandato              9 non-null object\n",
      "uri                           9 non-null object\n",
      "bancada_ruralista             9 non-null object\n",
      "dtypes: datetime64[ns](1), float64(2), int64(3), object(27)\n",
      "memory usage: 2.4+ KB\n"
     ]
    }
   ],
   "source": [
    "eleitos_d_ibama.info()"
   ]
  },
  {
   "cell_type": "code",
   "execution_count": 43,
   "metadata": {},
   "outputs": [],
   "source": [
    "eleitos_d_ibama.to_csv('resultados/ibama_politicos_eleitos.csv', index=False)"
   ]
  },
  {
   "cell_type": "code",
   "execution_count": 44,
   "metadata": {},
   "outputs": [],
   "source": [
    "eleitos_d_ibama.to_excel('resultados/ibama_politicos_eleitos.xlsx',sheet_name='Sheet1')"
   ]
  },
  {
   "cell_type": "code",
   "execution_count": null,
   "metadata": {},
   "outputs": [],
   "source": []
  },
  {
   "cell_type": "markdown",
   "metadata": {},
   "source": [
    "Lista de empresas e nomes que foram doadoras - isso vai trazer todos os municípios onde há irregularidades"
   ]
  },
  {
   "cell_type": "code",
   "execution_count": 46,
   "metadata": {},
   "outputs": [],
   "source": [
    "lista1 = pd.merge(ibama_doadores_diretos.drop_duplicates('cnpj_raiz'), ibama_doadores_indiretos.drop_duplicates('cnpj_raiz'), left_on='cnpj_raiz', right_on='cnpj_raiz', how='outer')"
   ]
  },
  {
   "cell_type": "code",
   "execution_count": 48,
   "metadata": {},
   "outputs": [
    {
     "data": {
      "text/html": [
       "<div>\n",
       "<style scoped>\n",
       "    .dataframe tbody tr th:only-of-type {\n",
       "        vertical-align: middle;\n",
       "    }\n",
       "\n",
       "    .dataframe tbody tr th {\n",
       "        vertical-align: top;\n",
       "    }\n",
       "\n",
       "    .dataframe thead th {\n",
       "        text-align: right;\n",
       "    }\n",
       "</style>\n",
       "<table border=\"1\" class=\"dataframe\">\n",
       "  <thead>\n",
       "    <tr style=\"text-align: right;\">\n",
       "      <th></th>\n",
       "      <th>index</th>\n",
       "      <th>cnpj_raiz</th>\n",
       "    </tr>\n",
       "  </thead>\n",
       "  <tbody>\n",
       "    <tr>\n",
       "      <th>0</th>\n",
       "      <td>0</td>\n",
       "      <td>87675518</td>\n",
       "    </tr>\n",
       "    <tr>\n",
       "      <th>1</th>\n",
       "      <td>1</td>\n",
       "      <td>78434982</td>\n",
       "    </tr>\n",
       "    <tr>\n",
       "      <th>2</th>\n",
       "      <td>2</td>\n",
       "      <td>91409698</td>\n",
       "    </tr>\n",
       "    <tr>\n",
       "      <th>3</th>\n",
       "      <td>3</td>\n",
       "      <td>08411277</td>\n",
       "    </tr>\n",
       "    <tr>\n",
       "      <th>4</th>\n",
       "      <td>4</td>\n",
       "      <td>60332319</td>\n",
       "    </tr>\n",
       "  </tbody>\n",
       "</table>\n",
       "</div>"
      ],
      "text/plain": [
       "   index cnpj_raiz\n",
       "0      0  87675518\n",
       "1      1  78434982\n",
       "2      2  91409698\n",
       "3      3  08411277\n",
       "4      4  60332319"
      ]
     },
     "execution_count": 48,
     "metadata": {},
     "output_type": "execute_result"
    }
   ],
   "source": [
    "lista1.cnpj_raiz.reset_index().head()"
   ]
  },
  {
   "cell_type": "markdown",
   "metadata": {},
   "source": [
    "Faz um merge dos dados de Ibama com a lista acima para pegar todas as linhas que têm os documentos"
   ]
  },
  {
   "cell_type": "code",
   "execution_count": 50,
   "metadata": {},
   "outputs": [],
   "source": [
    "lista_ibama_1 = pd.merge(ibama, lista1, left_on='cnpj_raiz', right_on='cnpj_raiz')"
   ]
  },
  {
   "cell_type": "code",
   "execution_count": 51,
   "metadata": {},
   "outputs": [
    {
     "name": "stdout",
     "output_type": "stream",
     "text": [
      "<class 'pandas.core.frame.DataFrame'>\n",
      "Int64Index: 197 entries, 0 to 196\n",
      "Columns: 114 entries, N_TAD to CPF_CNPJ_limpo_y\n",
      "dtypes: datetime64[ns](3), float64(14), int64(2), object(95)\n",
      "memory usage: 177.0+ KB\n"
     ]
    }
   ],
   "source": [
    "lista_ibama_1.info()"
   ]
  },
  {
   "cell_type": "code",
   "execution_count": 52,
   "metadata": {},
   "outputs": [],
   "source": [
    "lista_ibama_1.to_csv('resultados/entidades_ibama.csv', index=False)"
   ]
  },
  {
   "cell_type": "code",
   "execution_count": 53,
   "metadata": {},
   "outputs": [],
   "source": [
    "lista_ibama_1.to_excel('resultados/entidades_ibama.xlsx',sheet_name='Sheet1')"
   ]
  },
  {
   "cell_type": "code",
   "execution_count": null,
   "metadata": {},
   "outputs": [],
   "source": []
  },
  {
   "cell_type": "markdown",
   "metadata": {},
   "source": [
    "Lista apenas com os CPFs"
   ]
  },
  {
   "cell_type": "code",
   "execution_count": 56,
   "metadata": {},
   "outputs": [],
   "source": [
    "lista_ibama_2 = pd.merge(ibamaPF.drop_duplicates('CPF_CNPJ_limpo'), doacoes_d_2014PF.drop_duplicates('cpf_cnpj_doador'), left_on='CPF_CNPJ_limpo', right_on='cpf_cnpj_doador')"
   ]
  },
  {
   "cell_type": "code",
   "execution_count": 57,
   "metadata": {},
   "outputs": [
    {
     "name": "stdout",
     "output_type": "stream",
     "text": [
      "<class 'pandas.core.frame.DataFrame'>\n",
      "Int64Index: 42 entries, 0 to 41\n",
      "Data columns (total 47 columns):\n",
      "N_TAD                         42 non-null int64\n",
      "SERIE_TAD                     42 non-null object\n",
      "area_ha                       14 non-null float64\n",
      "N_AI                          38 non-null float64\n",
      "Nome_Razao_Social             42 non-null object\n",
      "CPF_CNPJ                      42 non-null object\n",
      "Localizacao_Imovel            34 non-null object\n",
      "UF_Embargo                    42 non-null object\n",
      "Municipio_Embargo             42 non-null object\n",
      "cod_IBGE_Municipio_Embargo    42 non-null int64\n",
      "Municipio                     42 non-null object\n",
      "Bairro                        41 non-null object\n",
      "Endereco                      41 non-null object\n",
      "Julgamento                    42 non-null object\n",
      "Infracao                      38 non-null object\n",
      "Data_insercao_Lista           42 non-null datetime64[ns]\n",
      "CPF_CNPJ_limpo                42 non-null object\n",
      "cnpj_raiz                     42 non-null object\n",
      "uf_x                          42 non-null object\n",
      "partido_eleicao_x             42 non-null object\n",
      "cargo_x                       42 non-null object\n",
      "nome_completo_x               42 non-null object\n",
      "cpf                           42 non-null object\n",
      "cpf_cnpj_doador               42 non-null object\n",
      "nome_doador                   42 non-null object\n",
      "valor                         42 non-null float64\n",
      "tipo_receita                  42 non-null object\n",
      "fonte_recurso                 42 non-null object\n",
      "especie_recurso               42 non-null object\n",
      "descricao                     42 non-null object\n",
      "cpf_cnpj_doador_originario    42 non-null object\n",
      "nome_doador_originario        42 non-null object\n",
      "tipo_doador_originario        42 non-null object\n",
      "uf_y                          42 non-null object\n",
      "cargo_y                       40 non-null object\n",
      "nome_completo_y               42 non-null object\n",
      "sequencial                    42 non-null object\n",
      "nome_urna                     42 non-null object\n",
      "partido_eleicao_y             42 non-null object\n",
      "situacao_urna                 42 non-null object\n",
      "condicao                      42 non-null object\n",
      "deputado_id                   42 non-null object\n",
      "legislatura                   42 non-null int64\n",
      "partido_atual                 42 non-null object\n",
      "situacao_mandato              42 non-null object\n",
      "uri                           42 non-null object\n",
      "bancada_ruralista             42 non-null object\n",
      "dtypes: datetime64[ns](1), float64(3), int64(3), object(40)\n",
      "memory usage: 15.8+ KB\n"
     ]
    }
   ],
   "source": [
    "lista_ibama_2.info()"
   ]
  },
  {
   "cell_type": "code",
   "execution_count": 59,
   "metadata": {},
   "outputs": [],
   "source": [
    "lista_ibama_3 = pd.merge(ibamaPF, lista_ibama_2, left_on='CPF_CNPJ_limpo', right_on='CPF_CNPJ_limpo')"
   ]
  },
  {
   "cell_type": "code",
   "execution_count": 60,
   "metadata": {},
   "outputs": [],
   "source": [
    "lista_ibama_3.to_excel('resultados/entidades_ibama_cpf.xlsx',sheet_name='Sheet1')"
   ]
  },
  {
   "cell_type": "code",
   "execution_count": null,
   "metadata": {},
   "outputs": [],
   "source": []
  }
 ],
 "metadata": {
  "kernelspec": {
   "display_name": "Python 3",
   "language": "python",
   "name": "python3"
  },
  "language_info": {
   "codemirror_mode": {
    "name": "ipython",
    "version": 3
   },
   "file_extension": ".py",
   "mimetype": "text/x-python",
   "name": "python",
   "nbconvert_exporter": "python",
   "pygments_lexer": "ipython3",
   "version": "3.6.2"
  }
 },
 "nbformat": 4,
 "nbformat_minor": 2
}
