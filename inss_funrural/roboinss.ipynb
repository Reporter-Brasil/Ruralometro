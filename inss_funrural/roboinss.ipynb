{
 "cells": [
  {
   "cell_type": "code",
   "execution_count": 1,
   "metadata": {},
   "outputs": [],
   "source": [
    "# -*- coding: utf-8\n",
    "# Repórter Brasil (http://ruralometro.reporterbrasil.org.br/)\n",
    "# Reinaldo Chaves (@paidatocandeira)\n",
    "# Cria base com dívidas de deputados federais na Previdência Social e quais delas são do Funrural, baseado em informações da Procuradoria-Geral da Fazenda Nacional via LAI:  http://www.acessoainformacao.gov.br/assuntos/busca-de-pedidos-e-respostas/busca-de-pedidos-e-respostas\n",
    "#"
   ]
  },
  {
   "cell_type": "code",
   "execution_count": null,
   "metadata": {},
   "outputs": [],
   "source": []
  },
  {
   "cell_type": "code",
   "execution_count": null,
   "metadata": {},
   "outputs": [],
   "source": [
    "import pandas as pd"
   ]
  },
  {
   "cell_type": "markdown",
   "metadata": {},
   "source": [
    "Formato float"
   ]
  },
  {
   "cell_type": "code",
   "execution_count": 2,
   "metadata": {},
   "outputs": [],
   "source": [
    "pd.options.display.float_format = '{:,.2f}'.format"
   ]
  },
  {
   "cell_type": "code",
   "execution_count": null,
   "metadata": {},
   "outputs": [],
   "source": []
  },
  {
   "cell_type": "markdown",
   "metadata": {},
   "source": [
    "Carrega candidatos de 2014"
   ]
  },
  {
   "cell_type": "code",
   "execution_count": 3,
   "metadata": {},
   "outputs": [],
   "source": [
    "eleitos_d = pd.read_excel('/home/reinaldo/Documentos/Code/RB2/candidatos/repo/resultados/eleitos_final_2014.xlsx',sheet_name='Sheet1', converters={'sequencial': lambda x: str(x),\n",
    "                                                                                                                                                   'cpf': lambda x: str(x),  \n",
    "                                                                                                                                                   'deputado_id': lambda x: str(x)})"
   ]
  },
  {
   "cell_type": "code",
   "execution_count": 4,
   "metadata": {},
   "outputs": [
    {
     "name": "stdout",
     "output_type": "stream",
     "text": [
      "<class 'pandas.core.frame.DataFrame'>\n",
      "RangeIndex: 513 entries, 0 to 512\n",
      "Data columns (total 15 columns):\n",
      "uf                   513 non-null object\n",
      "cargo                470 non-null object\n",
      "nome_completo        513 non-null object\n",
      "sequencial           513 non-null object\n",
      "cpf                  513 non-null object\n",
      "nome_urna            513 non-null object\n",
      "partido_eleicao      513 non-null object\n",
      "situacao_urna        513 non-null object\n",
      "condicao             513 non-null object\n",
      "deputado_id          513 non-null object\n",
      "legislatura          513 non-null int64\n",
      "partido_atual        513 non-null object\n",
      "situacao_mandato     513 non-null object\n",
      "uri                  513 non-null object\n",
      "bancada_ruralista    513 non-null object\n",
      "dtypes: int64(1), object(14)\n",
      "memory usage: 60.2+ KB\n"
     ]
    }
   ],
   "source": [
    "eleitos_d.info()"
   ]
  },
  {
   "cell_type": "code",
   "execution_count": null,
   "metadata": {},
   "outputs": [],
   "source": []
  },
  {
   "cell_type": "markdown",
   "metadata": {},
   "source": [
    "Carrega dívidas com o INSS de deputados"
   ]
  },
  {
   "cell_type": "code",
   "execution_count": 5,
   "metadata": {},
   "outputs": [],
   "source": [
    "inss = pd.read_excel('dados/deputados_devedores_inss_maio2018.xlsx',sheet_name='Plan1')"
   ]
  },
  {
   "cell_type": "code",
   "execution_count": 6,
   "metadata": {},
   "outputs": [
    {
     "name": "stdout",
     "output_type": "stream",
     "text": [
      "<class 'pandas.core.frame.DataFrame'>\n",
      "RangeIndex: 100 entries, 0 to 99\n",
      "Data columns (total 10 columns):\n",
      "CPF_socio                     100 non-null object\n",
      "Nome_socio                    100 non-null object\n",
      "Qualificacao_socio            100 non-null object\n",
      "CPF_CNPJ_Devedor_Detalhado    100 non-null object\n",
      "Nome_Devedor                  100 non-null object\n",
      "Divida_Previdenciaria         100 non-null object\n",
      "valor_irregular               100 non-null float64\n",
      "valor_regular                 100 non-null float64\n",
      "TOTAL                         100 non-null float64\n",
      "FUNRURAL                      100 non-null object\n",
      "dtypes: float64(3), object(7)\n",
      "memory usage: 7.9+ KB\n"
     ]
    }
   ],
   "source": [
    "inss.info()"
   ]
  },
  {
   "cell_type": "code",
   "execution_count": null,
   "metadata": {},
   "outputs": [],
   "source": []
  },
  {
   "cell_type": "markdown",
   "metadata": {},
   "source": [
    "Limpa CNPJ/CPF"
   ]
  },
  {
   "cell_type": "code",
   "execution_count": 7,
   "metadata": {},
   "outputs": [],
   "source": [
    "def limpeza1(linha):\n",
    "    documento = str(linha[\"CPF_socio\"])\n",
    "    documento = documento.strip()\n",
    "    documento = documento.replace('.', '')\n",
    "    documento = documento.replace('-', '')\n",
    "    documento = documento.replace('/', '')\n",
    "    return str(documento)\n",
    "\n",
    "def limpeza2(linha):\n",
    "    documento = str(linha[\"CPF_CNPJ_Devedor_Detalhado\"])\n",
    "    documento = documento.strip()\n",
    "    documento = documento.replace('.', '')\n",
    "    documento = documento.replace('-', '')\n",
    "    documento = documento.replace('/', '')\n",
    "    return str(documento)"
   ]
  },
  {
   "cell_type": "code",
   "execution_count": 8,
   "metadata": {},
   "outputs": [],
   "source": [
    "inss[\"cpf_limpo\"] = inss.apply(limpeza1, axis=1)\n",
    "inss['cnpj_limpo'] = inss.apply(limpeza2, axis=1)"
   ]
  },
  {
   "cell_type": "code",
   "execution_count": null,
   "metadata": {},
   "outputs": [],
   "source": []
  },
  {
   "cell_type": "markdown",
   "metadata": {},
   "source": [
    "Verifica quais devedores são candidatos 2014"
   ]
  },
  {
   "cell_type": "code",
   "execution_count": 9,
   "metadata": {},
   "outputs": [],
   "source": [
    "dividas_eleitos_2014 = pd.merge(inss, eleitos_d, left_on='cpf_limpo', right_on='cpf')"
   ]
  },
  {
   "cell_type": "code",
   "execution_count": 10,
   "metadata": {},
   "outputs": [
    {
     "name": "stdout",
     "output_type": "stream",
     "text": [
      "<class 'pandas.core.frame.DataFrame'>\n",
      "Int64Index: 92 entries, 0 to 91\n",
      "Data columns (total 27 columns):\n",
      "CPF_socio                     92 non-null object\n",
      "Nome_socio                    92 non-null object\n",
      "Qualificacao_socio            92 non-null object\n",
      "CPF_CNPJ_Devedor_Detalhado    92 non-null object\n",
      "Nome_Devedor                  92 non-null object\n",
      "Divida_Previdenciaria         92 non-null object\n",
      "valor_irregular               92 non-null float64\n",
      "valor_regular                 92 non-null float64\n",
      "TOTAL                         92 non-null float64\n",
      "FUNRURAL                      92 non-null object\n",
      "cpf_limpo                     92 non-null object\n",
      "cnpj_limpo                    92 non-null object\n",
      "uf                            92 non-null object\n",
      "cargo                         86 non-null object\n",
      "nome_completo                 92 non-null object\n",
      "sequencial                    92 non-null object\n",
      "cpf                           92 non-null object\n",
      "nome_urna                     92 non-null object\n",
      "partido_eleicao               92 non-null object\n",
      "situacao_urna                 92 non-null object\n",
      "condicao                      92 non-null object\n",
      "deputado_id                   92 non-null object\n",
      "legislatura                   92 non-null int64\n",
      "partido_atual                 92 non-null object\n",
      "situacao_mandato              92 non-null object\n",
      "uri                           92 non-null object\n",
      "bancada_ruralista             92 non-null object\n",
      "dtypes: float64(3), int64(1), object(23)\n",
      "memory usage: 20.1+ KB\n"
     ]
    }
   ],
   "source": [
    "dividas_eleitos_2014.info()"
   ]
  },
  {
   "cell_type": "code",
   "execution_count": 11,
   "metadata": {},
   "outputs": [
    {
     "data": {
      "text/html": [
       "<div>\n",
       "<style scoped>\n",
       "    .dataframe tbody tr th:only-of-type {\n",
       "        vertical-align: middle;\n",
       "    }\n",
       "\n",
       "    .dataframe tbody tr th {\n",
       "        vertical-align: top;\n",
       "    }\n",
       "\n",
       "    .dataframe thead th {\n",
       "        text-align: right;\n",
       "    }\n",
       "</style>\n",
       "<table border=\"1\" class=\"dataframe\">\n",
       "  <thead>\n",
       "    <tr style=\"text-align: right;\">\n",
       "      <th></th>\n",
       "      <th>index</th>\n",
       "      <th>CPF_socio</th>\n",
       "      <th>Nome_socio</th>\n",
       "      <th>Qualificacao_socio</th>\n",
       "      <th>CPF_CNPJ_Devedor_Detalhado</th>\n",
       "      <th>Nome_Devedor</th>\n",
       "      <th>Divida_Previdenciaria</th>\n",
       "      <th>valor_irregular</th>\n",
       "      <th>valor_regular</th>\n",
       "      <th>TOTAL</th>\n",
       "      <th>...</th>\n",
       "      <th>nome_urna</th>\n",
       "      <th>partido_eleicao</th>\n",
       "      <th>situacao_urna</th>\n",
       "      <th>condicao</th>\n",
       "      <th>deputado_id</th>\n",
       "      <th>legislatura</th>\n",
       "      <th>partido_atual</th>\n",
       "      <th>situacao_mandato</th>\n",
       "      <th>uri</th>\n",
       "      <th>bancada_ruralista</th>\n",
       "    </tr>\n",
       "  </thead>\n",
       "  <tbody>\n",
       "    <tr>\n",
       "      <th>0</th>\n",
       "      <td>0</td>\n",
       "      <td>055.282.278-79</td>\n",
       "      <td>IOLANDA KEIKO MIASHIRO OTA</td>\n",
       "      <td>SOCIO ADMINISTRADOR</td>\n",
       "      <td>00.002.874/0001-88</td>\n",
       "      <td>MAGAZINE FUR LTDA</td>\n",
       "      <td>Sim</td>\n",
       "      <td>154,205.71</td>\n",
       "      <td>0.00</td>\n",
       "      <td>154,205.71</td>\n",
       "      <td>...</td>\n",
       "      <td>OTA</td>\n",
       "      <td>PSB</td>\n",
       "      <td>ELEITO POR QP</td>\n",
       "      <td>Titular</td>\n",
       "      <td>160659</td>\n",
       "      <td>55</td>\n",
       "      <td>PSB</td>\n",
       "      <td>Exercício</td>\n",
       "      <td>https://dadosabertos.camara.leg.br/api/v2/depu...</td>\n",
       "      <td>não</td>\n",
       "    </tr>\n",
       "    <tr>\n",
       "      <th>1</th>\n",
       "      <td>1</td>\n",
       "      <td>019.609.704-53</td>\n",
       "      <td>LUIZ GONZAGA PATRIOTA</td>\n",
       "      <td>PRESIDENTE</td>\n",
       "      <td>00.044.180/0001-03</td>\n",
       "      <td>CLUBE DO CONGRESSO</td>\n",
       "      <td>Sim</td>\n",
       "      <td>0.00</td>\n",
       "      <td>1,344,120.95</td>\n",
       "      <td>1,344,120.95</td>\n",
       "      <td>...</td>\n",
       "      <td>GONZAGA PATRIOTA</td>\n",
       "      <td>PSB</td>\n",
       "      <td>ELEITO POR QP</td>\n",
       "      <td>Titular</td>\n",
       "      <td>74419</td>\n",
       "      <td>55</td>\n",
       "      <td>PSB</td>\n",
       "      <td>Exercício</td>\n",
       "      <td>https://dadosabertos.camara.leg.br/api/v2/depu...</td>\n",
       "      <td>sim</td>\n",
       "    </tr>\n",
       "    <tr>\n",
       "      <th>2</th>\n",
       "      <td>2</td>\n",
       "      <td>019.609.704-53</td>\n",
       "      <td>LUIZ GONZAGA PATRIOTA</td>\n",
       "      <td>SOCIO ADMINISTRADOR</td>\n",
       "      <td>70.065.941/0001-99</td>\n",
       "      <td>PERGRAN PERNAMBUCO GRANITOS INDUSTRIA COM E EX...</td>\n",
       "      <td>Sim</td>\n",
       "      <td>90,852.91</td>\n",
       "      <td>0.00</td>\n",
       "      <td>90,852.91</td>\n",
       "      <td>...</td>\n",
       "      <td>GONZAGA PATRIOTA</td>\n",
       "      <td>PSB</td>\n",
       "      <td>ELEITO POR QP</td>\n",
       "      <td>Titular</td>\n",
       "      <td>74419</td>\n",
       "      <td>55</td>\n",
       "      <td>PSB</td>\n",
       "      <td>Exercício</td>\n",
       "      <td>https://dadosabertos.camara.leg.br/api/v2/depu...</td>\n",
       "      <td>sim</td>\n",
       "    </tr>\n",
       "    <tr>\n",
       "      <th>3</th>\n",
       "      <td>3</td>\n",
       "      <td>077.324.548-04</td>\n",
       "      <td>RONALDO FONSECA DE SOUZA</td>\n",
       "      <td>PRESIDENTE</td>\n",
       "      <td>00.424.952/0001-32</td>\n",
       "      <td>IGREJA EVANGELICA ASSEMBLEIA DE DEUS DE TAGUAT...</td>\n",
       "      <td>Sim</td>\n",
       "      <td>0.00</td>\n",
       "      <td>29,046.19</td>\n",
       "      <td>29,046.19</td>\n",
       "      <td>...</td>\n",
       "      <td>RONALDO FONSECA</td>\n",
       "      <td>PROS</td>\n",
       "      <td>ELEITO POR QP</td>\n",
       "      <td>Titular</td>\n",
       "      <td>160637</td>\n",
       "      <td>55</td>\n",
       "      <td>PODE</td>\n",
       "      <td>Licença</td>\n",
       "      <td>https://dadosabertos.camara.leg.br/api/v2/depu...</td>\n",
       "      <td>não</td>\n",
       "    </tr>\n",
       "    <tr>\n",
       "      <th>4</th>\n",
       "      <td>4</td>\n",
       "      <td>189.313.672-87</td>\n",
       "      <td>LUIZ GIONILSON PINHEIRO BORGES</td>\n",
       "      <td>SOCIO</td>\n",
       "      <td>00.881.907/0001-07</td>\n",
       "      <td>BEIJA FLOR RADIODIFUSAO LTDA</td>\n",
       "      <td>Sim</td>\n",
       "      <td>132,772.94</td>\n",
       "      <td>0.00</td>\n",
       "      <td>132,772.94</td>\n",
       "      <td>...</td>\n",
       "      <td>CABUCU</td>\n",
       "      <td>PMDB</td>\n",
       "      <td>ELEITO POR MÉDIA</td>\n",
       "      <td>Titular</td>\n",
       "      <td>105112</td>\n",
       "      <td>55</td>\n",
       "      <td>MDB</td>\n",
       "      <td>Exercício</td>\n",
       "      <td>https://dadosabertos.camara.leg.br/api/v2/depu...</td>\n",
       "      <td>não</td>\n",
       "    </tr>\n",
       "  </tbody>\n",
       "</table>\n",
       "<p>5 rows × 28 columns</p>\n",
       "</div>"
      ],
      "text/plain": [
       "   index       CPF_socio                      Nome_socio   Qualificacao_socio  \\\n",
       "0      0  055.282.278-79      IOLANDA KEIKO MIASHIRO OTA  SOCIO ADMINISTRADOR   \n",
       "1      1  019.609.704-53           LUIZ GONZAGA PATRIOTA           PRESIDENTE   \n",
       "2      2  019.609.704-53           LUIZ GONZAGA PATRIOTA  SOCIO ADMINISTRADOR   \n",
       "3      3  077.324.548-04        RONALDO FONSECA DE SOUZA           PRESIDENTE   \n",
       "4      4  189.313.672-87  LUIZ GIONILSON PINHEIRO BORGES                SOCIO   \n",
       "\n",
       "  CPF_CNPJ_Devedor_Detalhado  \\\n",
       "0         00.002.874/0001-88   \n",
       "1         00.044.180/0001-03   \n",
       "2         70.065.941/0001-99   \n",
       "3         00.424.952/0001-32   \n",
       "4         00.881.907/0001-07   \n",
       "\n",
       "                                        Nome_Devedor Divida_Previdenciaria  \\\n",
       "0                                  MAGAZINE FUR LTDA                   Sim   \n",
       "1                                 CLUBE DO CONGRESSO                   Sim   \n",
       "2  PERGRAN PERNAMBUCO GRANITOS INDUSTRIA COM E EX...                   Sim   \n",
       "3  IGREJA EVANGELICA ASSEMBLEIA DE DEUS DE TAGUAT...                   Sim   \n",
       "4                       BEIJA FLOR RADIODIFUSAO LTDA                   Sim   \n",
       "\n",
       "   valor_irregular  valor_regular        TOTAL        ...         \\\n",
       "0       154,205.71           0.00   154,205.71        ...          \n",
       "1             0.00   1,344,120.95 1,344,120.95        ...          \n",
       "2        90,852.91           0.00    90,852.91        ...          \n",
       "3             0.00      29,046.19    29,046.19        ...          \n",
       "4       132,772.94           0.00   132,772.94        ...          \n",
       "\n",
       "          nome_urna partido_eleicao     situacao_urna condicao deputado_id  \\\n",
       "0               OTA             PSB     ELEITO POR QP  Titular      160659   \n",
       "1  GONZAGA PATRIOTA             PSB     ELEITO POR QP  Titular       74419   \n",
       "2  GONZAGA PATRIOTA             PSB     ELEITO POR QP  Titular       74419   \n",
       "3   RONALDO FONSECA            PROS     ELEITO POR QP  Titular      160637   \n",
       "4            CABUCU            PMDB  ELEITO POR MÉDIA  Titular      105112   \n",
       "\n",
       "  legislatura partido_atual situacao_mandato  \\\n",
       "0          55           PSB        Exercício   \n",
       "1          55           PSB        Exercício   \n",
       "2          55           PSB        Exercício   \n",
       "3          55          PODE          Licença   \n",
       "4          55           MDB        Exercício   \n",
       "\n",
       "                                                 uri bancada_ruralista  \n",
       "0  https://dadosabertos.camara.leg.br/api/v2/depu...               não  \n",
       "1  https://dadosabertos.camara.leg.br/api/v2/depu...               sim  \n",
       "2  https://dadosabertos.camara.leg.br/api/v2/depu...               sim  \n",
       "3  https://dadosabertos.camara.leg.br/api/v2/depu...               não  \n",
       "4  https://dadosabertos.camara.leg.br/api/v2/depu...               não  \n",
       "\n",
       "[5 rows x 28 columns]"
      ]
     },
     "execution_count": 11,
     "metadata": {},
     "output_type": "execute_result"
    }
   ],
   "source": [
    "dividas_eleitos_2014.reset_index().head()"
   ]
  },
  {
   "cell_type": "code",
   "execution_count": null,
   "metadata": {},
   "outputs": [],
   "source": []
  },
  {
   "cell_type": "markdown",
   "metadata": {},
   "source": [
    "Maiores dívidas"
   ]
  },
  {
   "cell_type": "code",
   "execution_count": 12,
   "metadata": {},
   "outputs": [
    {
     "data": {
      "text/html": [
       "<div>\n",
       "<style scoped>\n",
       "    .dataframe tbody tr th:only-of-type {\n",
       "        vertical-align: middle;\n",
       "    }\n",
       "\n",
       "    .dataframe tbody tr th {\n",
       "        vertical-align: top;\n",
       "    }\n",
       "\n",
       "    .dataframe thead th {\n",
       "        text-align: right;\n",
       "    }\n",
       "</style>\n",
       "<table border=\"1\" class=\"dataframe\">\n",
       "  <thead>\n",
       "    <tr style=\"text-align: right;\">\n",
       "      <th></th>\n",
       "      <th>nome_urna</th>\n",
       "      <th>TOTAL</th>\n",
       "    </tr>\n",
       "  </thead>\n",
       "  <tbody>\n",
       "    <tr>\n",
       "      <th>37</th>\n",
       "      <td>MARINALDO ROSENDO</td>\n",
       "      <td>114,264,293.83</td>\n",
       "    </tr>\n",
       "    <tr>\n",
       "      <th>16</th>\n",
       "      <td>ELCIONE</td>\n",
       "      <td>40,311,963.93</td>\n",
       "    </tr>\n",
       "    <tr>\n",
       "      <th>1</th>\n",
       "      <td>ALFREDO KAEFER</td>\n",
       "      <td>30,153,685.60</td>\n",
       "    </tr>\n",
       "    <tr>\n",
       "      <th>42</th>\n",
       "      <td>NEWTON CARDOSO JR</td>\n",
       "      <td>18,057,050.95</td>\n",
       "    </tr>\n",
       "    <tr>\n",
       "      <th>23</th>\n",
       "      <td>GIUSEPPE VECCI</td>\n",
       "      <td>10,881,554.36</td>\n",
       "    </tr>\n",
       "    <tr>\n",
       "      <th>11</th>\n",
       "      <td>CELSO RUSSOMANNO</td>\n",
       "      <td>2,207,515.93</td>\n",
       "    </tr>\n",
       "    <tr>\n",
       "      <th>28</th>\n",
       "      <td>JOAO GUALBERTO</td>\n",
       "      <td>1,697,012.98</td>\n",
       "    </tr>\n",
       "    <tr>\n",
       "      <th>22</th>\n",
       "      <td>FELIX JR</td>\n",
       "      <td>1,519,355.92</td>\n",
       "    </tr>\n",
       "    <tr>\n",
       "      <th>24</th>\n",
       "      <td>GONZAGA PATRIOTA</td>\n",
       "      <td>1,434,973.86</td>\n",
       "    </tr>\n",
       "    <tr>\n",
       "      <th>27</th>\n",
       "      <td>JHC</td>\n",
       "      <td>1,044,671.75</td>\n",
       "    </tr>\n",
       "  </tbody>\n",
       "</table>\n",
       "</div>"
      ],
      "text/plain": [
       "            nome_urna          TOTAL\n",
       "37  MARINALDO ROSENDO 114,264,293.83\n",
       "16            ELCIONE  40,311,963.93\n",
       "1      ALFREDO KAEFER  30,153,685.60\n",
       "42  NEWTON CARDOSO JR  18,057,050.95\n",
       "23     GIUSEPPE VECCI  10,881,554.36\n",
       "11   CELSO RUSSOMANNO   2,207,515.93\n",
       "28     JOAO GUALBERTO   1,697,012.98\n",
       "22           FELIX JR   1,519,355.92\n",
       "24   GONZAGA PATRIOTA   1,434,973.86\n",
       "27                JHC   1,044,671.75"
      ]
     },
     "execution_count": 12,
     "metadata": {},
     "output_type": "execute_result"
    }
   ],
   "source": [
    "dividas_eleitos_2014.groupby(\"nome_urna\").TOTAL.sum().reset_index().sort_values(\"TOTAL\", ascending=False).head(10)"
   ]
  },
  {
   "cell_type": "code",
   "execution_count": null,
   "metadata": {},
   "outputs": [],
   "source": []
  },
  {
   "cell_type": "code",
   "execution_count": 13,
   "metadata": {},
   "outputs": [],
   "source": [
    "dividas_eleitos_2014.to_excel('resultados/dividas_inss_apenas_eleitos_2014.xlsx',sheet_name='Sheet1')"
   ]
  },
  {
   "cell_type": "code",
   "execution_count": null,
   "metadata": {},
   "outputs": [],
   "source": []
  },
  {
   "cell_type": "markdown",
   "metadata": {},
   "source": [
    "Apenas as dívidas com Funrural"
   ]
  },
  {
   "cell_type": "code",
   "execution_count": 18,
   "metadata": {},
   "outputs": [],
   "source": [
    "funrural = dividas_eleitos_2014[(dividas_eleitos_2014['FUNRURAL'] == '744 - FUNRURAL')]"
   ]
  },
  {
   "cell_type": "code",
   "execution_count": 19,
   "metadata": {},
   "outputs": [
    {
     "data": {
      "text/html": [
       "<div>\n",
       "<style scoped>\n",
       "    .dataframe tbody tr th:only-of-type {\n",
       "        vertical-align: middle;\n",
       "    }\n",
       "\n",
       "    .dataframe tbody tr th {\n",
       "        vertical-align: top;\n",
       "    }\n",
       "\n",
       "    .dataframe thead th {\n",
       "        text-align: right;\n",
       "    }\n",
       "</style>\n",
       "<table border=\"1\" class=\"dataframe\">\n",
       "  <thead>\n",
       "    <tr style=\"text-align: right;\">\n",
       "      <th></th>\n",
       "      <th>nome_urna</th>\n",
       "      <th>TOTAL</th>\n",
       "    </tr>\n",
       "  </thead>\n",
       "  <tbody>\n",
       "    <tr>\n",
       "      <th>1</th>\n",
       "      <td>NEWTON CARDOSO JR</td>\n",
       "      <td>1,827,665.29</td>\n",
       "    </tr>\n",
       "    <tr>\n",
       "      <th>0</th>\n",
       "      <td>DILCEU SPERAFICO</td>\n",
       "      <td>68,845.88</td>\n",
       "    </tr>\n",
       "  </tbody>\n",
       "</table>\n",
       "</div>"
      ],
      "text/plain": [
       "           nome_urna        TOTAL\n",
       "1  NEWTON CARDOSO JR 1,827,665.29\n",
       "0   DILCEU SPERAFICO    68,845.88"
      ]
     },
     "execution_count": 19,
     "metadata": {},
     "output_type": "execute_result"
    }
   ],
   "source": [
    "funrural.groupby(\"nome_urna\").TOTAL.sum().reset_index().sort_values(\"TOTAL\", ascending=False)"
   ]
  },
  {
   "cell_type": "code",
   "execution_count": null,
   "metadata": {},
   "outputs": [],
   "source": []
  }
 ],
 "metadata": {
  "kernelspec": {
   "display_name": "Python 3",
   "language": "python",
   "name": "python3"
  },
  "language_info": {
   "codemirror_mode": {
    "name": "ipython",
    "version": 3
   },
   "file_extension": ".py",
   "mimetype": "text/x-python",
   "name": "python",
   "nbconvert_exporter": "python",
   "pygments_lexer": "ipython3",
   "version": "3.6.2"
  }
 },
 "nbformat": 4,
 "nbformat_minor": 2
}
