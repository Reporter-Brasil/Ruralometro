{
 "cells": [
  {
   "cell_type": "code",
   "execution_count": 1,
   "metadata": {},
   "outputs": [],
   "source": [
    "# -*- coding: utf-8\n",
    "# Repórter Brasil (http://ruralometro.reporterbrasil.org.br/)\n",
    "# Reinaldo Chaves (@paidatocandeira)\n",
    "# Programa para encontrar quais deputados federais eleitos em 2014 receberam doações de empresas ou pessoas físicas que figuram ou já apareceram na lista do trabalho escravo\n",
    "#"
   ]
  },
  {
   "cell_type": "code",
   "execution_count": null,
   "metadata": {},
   "outputs": [],
   "source": []
  },
  {
   "cell_type": "code",
   "execution_count": null,
   "metadata": {},
   "outputs": [],
   "source": [
    "import pandas as pd"
   ]
  },
  {
   "cell_type": "markdown",
   "metadata": {},
   "source": [
    "# Carrega e filtra doações"
   ]
  },
  {
   "cell_type": "code",
   "execution_count": 2,
   "metadata": {},
   "outputs": [],
   "source": [
    "doacoes_2014 = pd.read_csv(\"/home/reinaldo/Documentos/Code/RB2/candidatos/repo/resultados/doacoes_brasil_2014.csv\",sep=',',encoding = 'utf-8', converters={'CPF do candidato': lambda x: str(x), 'CPF/CNPJ do doador': lambda x: str(x), 'CPF/CNPJ do doador originário': lambda x: str(x)}, decimal = ',')"
   ]
  },
  {
   "cell_type": "code",
   "execution_count": 3,
   "metadata": {},
   "outputs": [],
   "source": [
    "doacoes_d_2014 = doacoes_2014[(doacoes_2014['Cargo'] == 'Deputado Federal')]"
   ]
  },
  {
   "cell_type": "code",
   "execution_count": 4,
   "metadata": {},
   "outputs": [],
   "source": [
    "doacoes_d_2014.columns = ['uf', 'partido_eleicao', 'cargo', 'nome_completo', 'cpf', 'cpf_cnpj_doador', 'nome_doador', 'valor', 'tipo_receita', 'fonte_recurso', 'especie_recurso', 'descricao', 'cpf_cnpj_doador_originario', 'nome_doador_originario', 'tipo_doador_originario']"
   ]
  },
  {
   "cell_type": "code",
   "execution_count": 5,
   "metadata": {},
   "outputs": [
    {
     "name": "stdout",
     "output_type": "stream",
     "text": [
      "<class 'pandas.core.frame.DataFrame'>\n",
      "Int64Index: 125082 entries, 1 to 427355\n",
      "Data columns (total 15 columns):\n",
      "uf                            125082 non-null object\n",
      "partido_eleicao               125082 non-null object\n",
      "cargo                         125082 non-null object\n",
      "nome_completo                 125082 non-null object\n",
      "cpf                           125082 non-null object\n",
      "cpf_cnpj_doador               125082 non-null object\n",
      "nome_doador                   125082 non-null object\n",
      "valor                         125082 non-null float64\n",
      "tipo_receita                  125082 non-null object\n",
      "fonte_recurso                 125082 non-null object\n",
      "especie_recurso               125082 non-null object\n",
      "descricao                     125082 non-null object\n",
      "cpf_cnpj_doador_originario    125082 non-null object\n",
      "nome_doador_originario        125082 non-null object\n",
      "tipo_doador_originario        125082 non-null object\n",
      "dtypes: float64(1), object(14)\n",
      "memory usage: 15.3+ MB\n"
     ]
    }
   ],
   "source": [
    "doacoes_d_2014.info()"
   ]
  },
  {
   "cell_type": "code",
   "execution_count": 6,
   "metadata": {},
   "outputs": [],
   "source": [
    "doacoes_d_2014.to_excel('resultados/doacoes_gerais_deputados_2014.xlsx',sheet_name='Sheet1')"
   ]
  },
  {
   "cell_type": "code",
   "execution_count": null,
   "metadata": {},
   "outputs": [],
   "source": []
  },
  {
   "cell_type": "markdown",
   "metadata": {},
   "source": [
    "# Carrega candidatos de 2014"
   ]
  },
  {
   "cell_type": "code",
   "execution_count": 6,
   "metadata": {},
   "outputs": [],
   "source": [
    "eleitos_d = pd.read_csv('/home/reinaldo/Documentos/Code/RB2/candidatos/repo/resultados/dep_eleitos_2014_final.csv',sep=',',encoding = 'utf-8', converters={'sequencial': lambda x: str(x), \n",
    "                                                                                                                  'cpf': lambda x: str(x),  \n",
    "                                                                                                                  'deputado_id': lambda x: str(x)})"
   ]
  },
  {
   "cell_type": "code",
   "execution_count": 7,
   "metadata": {},
   "outputs": [
    {
     "name": "stdout",
     "output_type": "stream",
     "text": [
      "<class 'pandas.core.frame.DataFrame'>\n",
      "RangeIndex: 513 entries, 0 to 512\n",
      "Data columns (total 15 columns):\n",
      "uf                   513 non-null object\n",
      "cargo                470 non-null object\n",
      "nome_completo        513 non-null object\n",
      "sequencial           513 non-null object\n",
      "cpf                  513 non-null object\n",
      "nome_urna            513 non-null object\n",
      "partido_eleicao      513 non-null object\n",
      "situacao_urna        513 non-null object\n",
      "condicao             513 non-null object\n",
      "deputado_id          513 non-null object\n",
      "legislatura          513 non-null int64\n",
      "partido_atual        513 non-null object\n",
      "situacao_mandato     513 non-null object\n",
      "uri                  513 non-null object\n",
      "bancada_ruralista    513 non-null object\n",
      "dtypes: int64(1), object(14)\n",
      "memory usage: 60.2+ KB\n"
     ]
    }
   ],
   "source": [
    "eleitos_d.info()"
   ]
  },
  {
   "cell_type": "code",
   "execution_count": null,
   "metadata": {},
   "outputs": [],
   "source": []
  },
  {
   "cell_type": "markdown",
   "metadata": {},
   "source": [
    "# Doações só para os deputados federais eleitos em 2014"
   ]
  },
  {
   "cell_type": "code",
   "execution_count": 8,
   "metadata": {},
   "outputs": [],
   "source": [
    "eleitos_d_doadores = pd.merge(doacoes_d_2014, eleitos_d, left_on='cpf', right_on='cpf')"
   ]
  },
  {
   "cell_type": "code",
   "execution_count": 9,
   "metadata": {},
   "outputs": [
    {
     "name": "stdout",
     "output_type": "stream",
     "text": [
      "<class 'pandas.core.frame.DataFrame'>\n",
      "Int64Index: 47491 entries, 0 to 47490\n",
      "Data columns (total 29 columns):\n",
      "uf_x                          47491 non-null object\n",
      "partido_eleicao_x             47491 non-null object\n",
      "cargo_x                       47491 non-null object\n",
      "nome_completo_x               47491 non-null object\n",
      "cpf                           47491 non-null object\n",
      "cpf_cnpj_doador               47491 non-null object\n",
      "nome_doador                   47491 non-null object\n",
      "valor                         47491 non-null float64\n",
      "tipo_receita                  47491 non-null object\n",
      "fonte_recurso                 47491 non-null object\n",
      "especie_recurso               47491 non-null object\n",
      "descricao                     47491 non-null object\n",
      "cpf_cnpj_doador_originario    47491 non-null object\n",
      "nome_doador_originario        47491 non-null object\n",
      "tipo_doador_originario        47491 non-null object\n",
      "uf_y                          47491 non-null object\n",
      "cargo_y                       44682 non-null object\n",
      "nome_completo_y               47491 non-null object\n",
      "sequencial                    47491 non-null object\n",
      "nome_urna                     47491 non-null object\n",
      "partido_eleicao_y             47491 non-null object\n",
      "situacao_urna                 47491 non-null object\n",
      "condicao                      47491 non-null object\n",
      "deputado_id                   47491 non-null object\n",
      "legislatura                   47491 non-null int64\n",
      "partido_atual                 47491 non-null object\n",
      "situacao_mandato              47491 non-null object\n",
      "uri                           47491 non-null object\n",
      "bancada_ruralista             47491 non-null object\n",
      "dtypes: float64(1), int64(1), object(27)\n",
      "memory usage: 10.9+ MB\n"
     ]
    }
   ],
   "source": [
    "eleitos_d_doadores.info()"
   ]
  },
  {
   "cell_type": "code",
   "execution_count": null,
   "metadata": {},
   "outputs": [],
   "source": []
  },
  {
   "cell_type": "markdown",
   "metadata": {},
   "source": [
    "# Só seleciona doações de empresas ou partidos"
   ]
  },
  {
   "cell_type": "code",
   "execution_count": 10,
   "metadata": {},
   "outputs": [],
   "source": [
    "doacoes_d_2014PJ = eleitos_d_doadores[(eleitos_d_doadores['tipo_receita'] != 'Recursos de pessoas físicas') & (eleitos_d_doadores['tipo_receita'] != 'Recursos próprios')]"
   ]
  },
  {
   "cell_type": "code",
   "execution_count": 11,
   "metadata": {},
   "outputs": [
    {
     "name": "stdout",
     "output_type": "stream",
     "text": [
      "<class 'pandas.core.frame.DataFrame'>\n",
      "Int64Index: 24450 entries, 0 to 47490\n",
      "Data columns (total 29 columns):\n",
      "uf_x                          24450 non-null object\n",
      "partido_eleicao_x             24450 non-null object\n",
      "cargo_x                       24450 non-null object\n",
      "nome_completo_x               24450 non-null object\n",
      "cpf                           24450 non-null object\n",
      "cpf_cnpj_doador               24450 non-null object\n",
      "nome_doador                   24450 non-null object\n",
      "valor                         24450 non-null float64\n",
      "tipo_receita                  24450 non-null object\n",
      "fonte_recurso                 24450 non-null object\n",
      "especie_recurso               24450 non-null object\n",
      "descricao                     24450 non-null object\n",
      "cpf_cnpj_doador_originario    24450 non-null object\n",
      "nome_doador_originario        24450 non-null object\n",
      "tipo_doador_originario        24450 non-null object\n",
      "uf_y                          24450 non-null object\n",
      "cargo_y                       23062 non-null object\n",
      "nome_completo_y               24450 non-null object\n",
      "sequencial                    24450 non-null object\n",
      "nome_urna                     24450 non-null object\n",
      "partido_eleicao_y             24450 non-null object\n",
      "situacao_urna                 24450 non-null object\n",
      "condicao                      24450 non-null object\n",
      "deputado_id                   24450 non-null object\n",
      "legislatura                   24450 non-null int64\n",
      "partido_atual                 24450 non-null object\n",
      "situacao_mandato              24450 non-null object\n",
      "uri                           24450 non-null object\n",
      "bancada_ruralista             24450 non-null object\n",
      "dtypes: float64(1), int64(1), object(27)\n",
      "memory usage: 5.6+ MB\n"
     ]
    }
   ],
   "source": [
    "doacoes_d_2014PJ.info()"
   ]
  },
  {
   "cell_type": "markdown",
   "metadata": {},
   "source": [
    "# Só seleciona doações de pessoas físicas"
   ]
  },
  {
   "cell_type": "code",
   "execution_count": 12,
   "metadata": {},
   "outputs": [],
   "source": [
    "doacoes_d_2014PF = eleitos_d_doadores[(eleitos_d_doadores['tipo_receita'] == 'Recursos de pessoas físicas') | (eleitos_d_doadores['tipo_receita'] == 'Recursos próprios')]"
   ]
  },
  {
   "cell_type": "code",
   "execution_count": 13,
   "metadata": {},
   "outputs": [
    {
     "name": "stdout",
     "output_type": "stream",
     "text": [
      "<class 'pandas.core.frame.DataFrame'>\n",
      "Int64Index: 23041 entries, 16 to 47479\n",
      "Data columns (total 29 columns):\n",
      "uf_x                          23041 non-null object\n",
      "partido_eleicao_x             23041 non-null object\n",
      "cargo_x                       23041 non-null object\n",
      "nome_completo_x               23041 non-null object\n",
      "cpf                           23041 non-null object\n",
      "cpf_cnpj_doador               23041 non-null object\n",
      "nome_doador                   23041 non-null object\n",
      "valor                         23041 non-null float64\n",
      "tipo_receita                  23041 non-null object\n",
      "fonte_recurso                 23041 non-null object\n",
      "especie_recurso               23041 non-null object\n",
      "descricao                     23041 non-null object\n",
      "cpf_cnpj_doador_originario    23041 non-null object\n",
      "nome_doador_originario        23041 non-null object\n",
      "tipo_doador_originario        23041 non-null object\n",
      "uf_y                          23041 non-null object\n",
      "cargo_y                       21620 non-null object\n",
      "nome_completo_y               23041 non-null object\n",
      "sequencial                    23041 non-null object\n",
      "nome_urna                     23041 non-null object\n",
      "partido_eleicao_y             23041 non-null object\n",
      "situacao_urna                 23041 non-null object\n",
      "condicao                      23041 non-null object\n",
      "deputado_id                   23041 non-null object\n",
      "legislatura                   23041 non-null int64\n",
      "partido_atual                 23041 non-null object\n",
      "situacao_mandato              23041 non-null object\n",
      "uri                           23041 non-null object\n",
      "bancada_ruralista             23041 non-null object\n",
      "dtypes: float64(1), int64(1), object(27)\n",
      "memory usage: 5.3+ MB\n"
     ]
    }
   ],
   "source": [
    "doacoes_d_2014PF.info()"
   ]
  },
  {
   "cell_type": "markdown",
   "metadata": {},
   "source": [
    "# Cria campos com CNPJ raiz - os oito primeiros digítos"
   ]
  },
  {
   "cell_type": "code",
   "execution_count": 14,
   "metadata": {},
   "outputs": [
    {
     "name": "stderr",
     "output_type": "stream",
     "text": [
      "/home/reinaldo/Documentos/Code/RB2/te/lib/python3.6/site-packages/ipykernel_launcher.py:1: SettingWithCopyWarning: \n",
      "A value is trying to be set on a copy of a slice from a DataFrame.\n",
      "Try using .loc[row_indexer,col_indexer] = value instead\n",
      "\n",
      "See the caveats in the documentation: http://pandas.pydata.org/pandas-docs/stable/indexing.html#indexing-view-versus-copy\n",
      "  \"\"\"Entry point for launching an IPython kernel.\n",
      "/home/reinaldo/Documentos/Code/RB2/te/lib/python3.6/site-packages/ipykernel_launcher.py:2: SettingWithCopyWarning: \n",
      "A value is trying to be set on a copy of a slice from a DataFrame.\n",
      "Try using .loc[row_indexer,col_indexer] = value instead\n",
      "\n",
      "See the caveats in the documentation: http://pandas.pydata.org/pandas-docs/stable/indexing.html#indexing-view-versus-copy\n",
      "  \n"
     ]
    }
   ],
   "source": [
    "doacoes_d_2014PJ['cnpj_doador_raiz'] = doacoes_d_2014PJ.cpf_cnpj_doador.str[:8]\n",
    "doacoes_d_2014PJ['cnpj_doador_originario_raiz'] = doacoes_d_2014PJ.cpf_cnpj_doador_originario.str[:8]"
   ]
  },
  {
   "cell_type": "code",
   "execution_count": null,
   "metadata": {},
   "outputs": [],
   "source": []
  },
  {
   "cell_type": "markdown",
   "metadata": {},
   "source": [
    "# Carrega TE"
   ]
  },
  {
   "cell_type": "code",
   "execution_count": 20,
   "metadata": {},
   "outputs": [],
   "source": [
    "te = pd.read_csv(\"dados/lista_te_consolidada_junho_2018.csv\",sep=';',encoding = 'latin_1', converters={'CNPJ_CPF_CEI_limpo': lambda x: str(x)})"
   ]
  },
  {
   "cell_type": "code",
   "execution_count": 21,
   "metadata": {},
   "outputs": [],
   "source": [
    "te = te[pd.notnull(te['CNPJ_CPF_CEI'])]"
   ]
  },
  {
   "cell_type": "code",
   "execution_count": 22,
   "metadata": {},
   "outputs": [
    {
     "data": {
      "text/html": [
       "<div>\n",
       "<style scoped>\n",
       "    .dataframe tbody tr th:only-of-type {\n",
       "        vertical-align: middle;\n",
       "    }\n",
       "\n",
       "    .dataframe tbody tr th {\n",
       "        vertical-align: top;\n",
       "    }\n",
       "\n",
       "    .dataframe thead th {\n",
       "        text-align: right;\n",
       "    }\n",
       "</style>\n",
       "<table border=\"1\" class=\"dataframe\">\n",
       "  <thead>\n",
       "    <tr style=\"text-align: right;\">\n",
       "      <th></th>\n",
       "      <th>index</th>\n",
       "      <th>Data_lista</th>\n",
       "      <th>DATA_INCLUS</th>\n",
       "      <th>Proprietario</th>\n",
       "      <th>Nome_propriedade</th>\n",
       "      <th>Municipio</th>\n",
       "      <th>Estado</th>\n",
       "      <th>CNPJ_CPF_CEI</th>\n",
       "      <th>CNPJ_CPF_CEI_limpo</th>\n",
       "      <th>Trab_Envolv</th>\n",
       "      <th>Ramo_atividade</th>\n",
       "      <th>Localizacao</th>\n",
       "      <th>Cod_ativ</th>\n",
       "      <th>Tipo_lista</th>\n",
       "      <th>Unnamed: 13</th>\n",
       "      <th>Unnamed: 14</th>\n",
       "      <th>Unnamed: 15</th>\n",
       "    </tr>\n",
       "  </thead>\n",
       "  <tbody>\n",
       "    <tr>\n",
       "      <th>0</th>\n",
       "      <td>0</td>\n",
       "      <td>15/07/12</td>\n",
       "      <td>jul/12</td>\n",
       "      <td>A B de Carvalho</td>\n",
       "      <td>Fazenda Nativa III, Povoado Centro do Flor, zo...</td>\n",
       "      <td>Santa Luzia</td>\n",
       "      <td>MA</td>\n",
       "      <td>07.048.374/0001-26</td>\n",
       "      <td>7048374000126</td>\n",
       "      <td>10.0</td>\n",
       "      <td>roço e veneno</td>\n",
       "      <td>inserido no nome da empresa</td>\n",
       "      <td>PEC</td>\n",
       "      <td>Lista suja antiga - 1</td>\n",
       "      <td>NaN</td>\n",
       "      <td>NaN</td>\n",
       "      <td>NaN</td>\n",
       "    </tr>\n",
       "    <tr>\n",
       "      <th>1</th>\n",
       "      <td>1</td>\n",
       "      <td>15/12/06</td>\n",
       "      <td>NaN</td>\n",
       "      <td>A. S. Carvão e Logística Ltda</td>\n",
       "      <td>Fazenda Santa Terezinha</td>\n",
       "      <td>Novo Mato Grosso  Nova Ubiratã</td>\n",
       "      <td>MT</td>\n",
       "      <td>6,15896E+12</td>\n",
       "      <td>6158959000136</td>\n",
       "      <td>9.0</td>\n",
       "      <td>Produção de carvão vegetal</td>\n",
       "      <td>Rod. MT 242, km 138  Novo Mato Grosso  Nova ...</td>\n",
       "      <td>CARV</td>\n",
       "      <td>Lista suja antiga - 1</td>\n",
       "      <td>NaN</td>\n",
       "      <td>NaN</td>\n",
       "      <td>NaN</td>\n",
       "    </tr>\n",
       "    <tr>\n",
       "      <th>2</th>\n",
       "      <td>2</td>\n",
       "      <td>15/07/07</td>\n",
       "      <td>NaN</td>\n",
       "      <td>A. S. Carvão e Logística Ltda</td>\n",
       "      <td>Fazenda Santa Terezinha</td>\n",
       "      <td>Novo Mato Grosso  Nova Ubiratã</td>\n",
       "      <td>MT</td>\n",
       "      <td>6,15896E+12</td>\n",
       "      <td>6158959000136</td>\n",
       "      <td>9.0</td>\n",
       "      <td>Produção de carvão vegetal</td>\n",
       "      <td>Rod. MT 242, km 138  Novo Mato Grosso  Nova ...</td>\n",
       "      <td>CARV</td>\n",
       "      <td>Lista suja antiga - 1</td>\n",
       "      <td>NaN</td>\n",
       "      <td>NaN</td>\n",
       "      <td>NaN</td>\n",
       "    </tr>\n",
       "    <tr>\n",
       "      <th>3</th>\n",
       "      <td>3</td>\n",
       "      <td>01/07/08</td>\n",
       "      <td>NaN</td>\n",
       "      <td>A. S. Carvão e Logística Ltda</td>\n",
       "      <td>Fazenda Santa Terezinha</td>\n",
       "      <td>Nova Ubiratã</td>\n",
       "      <td>MT</td>\n",
       "      <td>6,15896E+12</td>\n",
       "      <td>6158959000136</td>\n",
       "      <td>9.0</td>\n",
       "      <td>Produção de carvão vegetal</td>\n",
       "      <td>Rod. MT 242, km 138  Novo Mato Grosso  Nova ...</td>\n",
       "      <td>CARV</td>\n",
       "      <td>Lista suja antiga - 1</td>\n",
       "      <td>NaN</td>\n",
       "      <td>NaN</td>\n",
       "      <td>NaN</td>\n",
       "    </tr>\n",
       "    <tr>\n",
       "      <th>4</th>\n",
       "      <td>4</td>\n",
       "      <td>01/12/04</td>\n",
       "      <td>NaN</td>\n",
       "      <td>Abdon Lustosa Neto</td>\n",
       "      <td>Fazenda Sossego</td>\n",
       "      <td>Novo Repartimento</td>\n",
       "      <td>PA</td>\n",
       "      <td>19160801115</td>\n",
       "      <td>19160801115</td>\n",
       "      <td>26.0</td>\n",
       "      <td>Criação de bovinos para corte, criação de suín...</td>\n",
       "      <td>Zona Rural, Vicinal Tuerê</td>\n",
       "      <td>PEC</td>\n",
       "      <td>Lista suja antiga - 1</td>\n",
       "      <td>NaN</td>\n",
       "      <td>NaN</td>\n",
       "      <td>NaN</td>\n",
       "    </tr>\n",
       "  </tbody>\n",
       "</table>\n",
       "</div>"
      ],
      "text/plain": [
       "   index Data_lista DATA_INCLUS                   Proprietario  \\\n",
       "0      0   15/07/12      jul/12                A B de Carvalho   \n",
       "1      1   15/12/06         NaN  A. S. Carvão e Logística Ltda   \n",
       "2      2   15/07/07         NaN  A. S. Carvão e Logística Ltda   \n",
       "3      3   01/07/08         NaN  A. S. Carvão e Logística Ltda   \n",
       "4      4   01/12/04         NaN             Abdon Lustosa Neto   \n",
       "\n",
       "                                    Nome_propriedade  \\\n",
       "0  Fazenda Nativa III, Povoado Centro do Flor, zo...   \n",
       "1                            Fazenda Santa Terezinha   \n",
       "2                            Fazenda Santa Terezinha   \n",
       "3                            Fazenda Santa Terezinha   \n",
       "4                                    Fazenda Sossego   \n",
       "\n",
       "                         Municipio Estado        CNPJ_CPF_CEI  \\\n",
       "0                      Santa Luzia     MA  07.048.374/0001-26   \n",
       "1  Novo Mato Grosso  Nova Ubiratã     MT         6,15896E+12   \n",
       "2  Novo Mato Grosso  Nova Ubiratã     MT         6,15896E+12   \n",
       "3                     Nova Ubiratã     MT         6,15896E+12   \n",
       "4                Novo Repartimento     PA         19160801115   \n",
       "\n",
       "  CNPJ_CPF_CEI_limpo  Trab_Envolv  \\\n",
       "0      7048374000126         10.0   \n",
       "1      6158959000136          9.0   \n",
       "2      6158959000136          9.0   \n",
       "3      6158959000136          9.0   \n",
       "4        19160801115         26.0   \n",
       "\n",
       "                                      Ramo_atividade  \\\n",
       "0                                      roço e veneno   \n",
       "1                         Produção de carvão vegetal   \n",
       "2                         Produção de carvão vegetal   \n",
       "3                         Produção de carvão vegetal   \n",
       "4  Criação de bovinos para corte, criação de suín...   \n",
       "\n",
       "                                         Localizacao Cod_ativ  \\\n",
       "0                        inserido no nome da empresa      PEC   \n",
       "1  Rod. MT 242, km 138  Novo Mato Grosso  Nova ...     CARV   \n",
       "2  Rod. MT 242, km 138  Novo Mato Grosso  Nova ...     CARV   \n",
       "3  Rod. MT 242, km 138  Novo Mato Grosso  Nova ...     CARV   \n",
       "4                          Zona Rural, Vicinal Tuerê      PEC   \n",
       "\n",
       "              Tipo_lista  Unnamed: 13  Unnamed: 14  Unnamed: 15  \n",
       "0  Lista suja antiga - 1          NaN          NaN          NaN  \n",
       "1  Lista suja antiga - 1          NaN          NaN          NaN  \n",
       "2  Lista suja antiga - 1          NaN          NaN          NaN  \n",
       "3  Lista suja antiga - 1          NaN          NaN          NaN  \n",
       "4  Lista suja antiga - 1          NaN          NaN          NaN  "
      ]
     },
     "execution_count": 22,
     "metadata": {},
     "output_type": "execute_result"
    }
   ],
   "source": [
    "te.reset_index().head()"
   ]
  },
  {
   "cell_type": "code",
   "execution_count": null,
   "metadata": {},
   "outputs": [],
   "source": []
  },
  {
   "cell_type": "code",
   "execution_count": 23,
   "metadata": {},
   "outputs": [],
   "source": [
    "# Preenche zeros a esquerda nos documentos\n",
    "def compara1(linha):\n",
    "    if len(linha['CNPJ_CPF_CEI_limpo']) < 14 and len(linha['CNPJ_CPF_CEI_limpo']) >= 12:\n",
    "        conta = 14 - (len(linha['CNPJ_CPF_CEI_limpo']))\n",
    "        zero = '0'\n",
    "        zeros = zero * conta\n",
    "        alterado = zeros + linha['CNPJ_CPF_CEI_limpo']\n",
    "    elif len(linha['CNPJ_CPF_CEI_limpo']) == 14:\n",
    "        alterado = linha['CNPJ_CPF_CEI_limpo']\n",
    "    elif len(linha['CNPJ_CPF_CEI_limpo']) < 11:\n",
    "        conta = 11 - (len(linha['CNPJ_CPF_CEI_limpo']))\n",
    "        zero = '0'\n",
    "        zeros = zero * conta\n",
    "        alterado = zeros + linha['CNPJ_CPF_CEI_limpo']\n",
    "    elif len(linha['CNPJ_CPF_CEI_limpo']) == 11:\n",
    "        alterado = linha['CNPJ_CPF_CEI_limpo']\n",
    "    \n",
    "    return alterado"
   ]
  },
  {
   "cell_type": "code",
   "execution_count": 24,
   "metadata": {},
   "outputs": [],
   "source": [
    "nova = te.apply(compara1, axis=1) #lê dataframe e chama a função\n",
    "\n",
    "te['documento_inteiro'] = nova "
   ]
  },
  {
   "cell_type": "code",
   "execution_count": 25,
   "metadata": {},
   "outputs": [
    {
     "data": {
      "text/html": [
       "<div>\n",
       "<style scoped>\n",
       "    .dataframe tbody tr th:only-of-type {\n",
       "        vertical-align: middle;\n",
       "    }\n",
       "\n",
       "    .dataframe tbody tr th {\n",
       "        vertical-align: top;\n",
       "    }\n",
       "\n",
       "    .dataframe thead th {\n",
       "        text-align: right;\n",
       "    }\n",
       "</style>\n",
       "<table border=\"1\" class=\"dataframe\">\n",
       "  <thead>\n",
       "    <tr style=\"text-align: right;\">\n",
       "      <th></th>\n",
       "      <th>index</th>\n",
       "      <th>Data_lista</th>\n",
       "      <th>DATA_INCLUS</th>\n",
       "      <th>Proprietario</th>\n",
       "      <th>Nome_propriedade</th>\n",
       "      <th>Municipio</th>\n",
       "      <th>Estado</th>\n",
       "      <th>CNPJ_CPF_CEI</th>\n",
       "      <th>CNPJ_CPF_CEI_limpo</th>\n",
       "      <th>Trab_Envolv</th>\n",
       "      <th>Ramo_atividade</th>\n",
       "      <th>Localizacao</th>\n",
       "      <th>Cod_ativ</th>\n",
       "      <th>Tipo_lista</th>\n",
       "      <th>Unnamed: 13</th>\n",
       "      <th>Unnamed: 14</th>\n",
       "      <th>Unnamed: 15</th>\n",
       "      <th>documento_inteiro</th>\n",
       "    </tr>\n",
       "  </thead>\n",
       "  <tbody>\n",
       "    <tr>\n",
       "      <th>0</th>\n",
       "      <td>0</td>\n",
       "      <td>15/07/12</td>\n",
       "      <td>jul/12</td>\n",
       "      <td>A B de Carvalho</td>\n",
       "      <td>Fazenda Nativa III, Povoado Centro do Flor, zo...</td>\n",
       "      <td>Santa Luzia</td>\n",
       "      <td>MA</td>\n",
       "      <td>07.048.374/0001-26</td>\n",
       "      <td>7048374000126</td>\n",
       "      <td>10.0</td>\n",
       "      <td>roço e veneno</td>\n",
       "      <td>inserido no nome da empresa</td>\n",
       "      <td>PEC</td>\n",
       "      <td>Lista suja antiga - 1</td>\n",
       "      <td>NaN</td>\n",
       "      <td>NaN</td>\n",
       "      <td>NaN</td>\n",
       "      <td>07048374000126</td>\n",
       "    </tr>\n",
       "    <tr>\n",
       "      <th>1</th>\n",
       "      <td>1</td>\n",
       "      <td>15/12/06</td>\n",
       "      <td>NaN</td>\n",
       "      <td>A. S. Carvão e Logística Ltda</td>\n",
       "      <td>Fazenda Santa Terezinha</td>\n",
       "      <td>Novo Mato Grosso  Nova Ubiratã</td>\n",
       "      <td>MT</td>\n",
       "      <td>6,15896E+12</td>\n",
       "      <td>6158959000136</td>\n",
       "      <td>9.0</td>\n",
       "      <td>Produção de carvão vegetal</td>\n",
       "      <td>Rod. MT 242, km 138  Novo Mato Grosso  Nova ...</td>\n",
       "      <td>CARV</td>\n",
       "      <td>Lista suja antiga - 1</td>\n",
       "      <td>NaN</td>\n",
       "      <td>NaN</td>\n",
       "      <td>NaN</td>\n",
       "      <td>06158959000136</td>\n",
       "    </tr>\n",
       "    <tr>\n",
       "      <th>2</th>\n",
       "      <td>2</td>\n",
       "      <td>15/07/07</td>\n",
       "      <td>NaN</td>\n",
       "      <td>A. S. Carvão e Logística Ltda</td>\n",
       "      <td>Fazenda Santa Terezinha</td>\n",
       "      <td>Novo Mato Grosso  Nova Ubiratã</td>\n",
       "      <td>MT</td>\n",
       "      <td>6,15896E+12</td>\n",
       "      <td>6158959000136</td>\n",
       "      <td>9.0</td>\n",
       "      <td>Produção de carvão vegetal</td>\n",
       "      <td>Rod. MT 242, km 138  Novo Mato Grosso  Nova ...</td>\n",
       "      <td>CARV</td>\n",
       "      <td>Lista suja antiga - 1</td>\n",
       "      <td>NaN</td>\n",
       "      <td>NaN</td>\n",
       "      <td>NaN</td>\n",
       "      <td>06158959000136</td>\n",
       "    </tr>\n",
       "    <tr>\n",
       "      <th>3</th>\n",
       "      <td>3</td>\n",
       "      <td>01/07/08</td>\n",
       "      <td>NaN</td>\n",
       "      <td>A. S. Carvão e Logística Ltda</td>\n",
       "      <td>Fazenda Santa Terezinha</td>\n",
       "      <td>Nova Ubiratã</td>\n",
       "      <td>MT</td>\n",
       "      <td>6,15896E+12</td>\n",
       "      <td>6158959000136</td>\n",
       "      <td>9.0</td>\n",
       "      <td>Produção de carvão vegetal</td>\n",
       "      <td>Rod. MT 242, km 138  Novo Mato Grosso  Nova ...</td>\n",
       "      <td>CARV</td>\n",
       "      <td>Lista suja antiga - 1</td>\n",
       "      <td>NaN</td>\n",
       "      <td>NaN</td>\n",
       "      <td>NaN</td>\n",
       "      <td>06158959000136</td>\n",
       "    </tr>\n",
       "    <tr>\n",
       "      <th>4</th>\n",
       "      <td>4</td>\n",
       "      <td>01/12/04</td>\n",
       "      <td>NaN</td>\n",
       "      <td>Abdon Lustosa Neto</td>\n",
       "      <td>Fazenda Sossego</td>\n",
       "      <td>Novo Repartimento</td>\n",
       "      <td>PA</td>\n",
       "      <td>19160801115</td>\n",
       "      <td>19160801115</td>\n",
       "      <td>26.0</td>\n",
       "      <td>Criação de bovinos para corte, criação de suín...</td>\n",
       "      <td>Zona Rural, Vicinal Tuerê</td>\n",
       "      <td>PEC</td>\n",
       "      <td>Lista suja antiga - 1</td>\n",
       "      <td>NaN</td>\n",
       "      <td>NaN</td>\n",
       "      <td>NaN</td>\n",
       "      <td>19160801115</td>\n",
       "    </tr>\n",
       "  </tbody>\n",
       "</table>\n",
       "</div>"
      ],
      "text/plain": [
       "   index Data_lista DATA_INCLUS                   Proprietario  \\\n",
       "0      0   15/07/12      jul/12                A B de Carvalho   \n",
       "1      1   15/12/06         NaN  A. S. Carvão e Logística Ltda   \n",
       "2      2   15/07/07         NaN  A. S. Carvão e Logística Ltda   \n",
       "3      3   01/07/08         NaN  A. S. Carvão e Logística Ltda   \n",
       "4      4   01/12/04         NaN             Abdon Lustosa Neto   \n",
       "\n",
       "                                    Nome_propriedade  \\\n",
       "0  Fazenda Nativa III, Povoado Centro do Flor, zo...   \n",
       "1                            Fazenda Santa Terezinha   \n",
       "2                            Fazenda Santa Terezinha   \n",
       "3                            Fazenda Santa Terezinha   \n",
       "4                                    Fazenda Sossego   \n",
       "\n",
       "                         Municipio Estado        CNPJ_CPF_CEI  \\\n",
       "0                      Santa Luzia     MA  07.048.374/0001-26   \n",
       "1  Novo Mato Grosso  Nova Ubiratã     MT         6,15896E+12   \n",
       "2  Novo Mato Grosso  Nova Ubiratã     MT         6,15896E+12   \n",
       "3                     Nova Ubiratã     MT         6,15896E+12   \n",
       "4                Novo Repartimento     PA         19160801115   \n",
       "\n",
       "  CNPJ_CPF_CEI_limpo  Trab_Envolv  \\\n",
       "0      7048374000126         10.0   \n",
       "1      6158959000136          9.0   \n",
       "2      6158959000136          9.0   \n",
       "3      6158959000136          9.0   \n",
       "4        19160801115         26.0   \n",
       "\n",
       "                                      Ramo_atividade  \\\n",
       "0                                      roço e veneno   \n",
       "1                         Produção de carvão vegetal   \n",
       "2                         Produção de carvão vegetal   \n",
       "3                         Produção de carvão vegetal   \n",
       "4  Criação de bovinos para corte, criação de suín...   \n",
       "\n",
       "                                         Localizacao Cod_ativ  \\\n",
       "0                        inserido no nome da empresa      PEC   \n",
       "1  Rod. MT 242, km 138  Novo Mato Grosso  Nova ...     CARV   \n",
       "2  Rod. MT 242, km 138  Novo Mato Grosso  Nova ...     CARV   \n",
       "3  Rod. MT 242, km 138  Novo Mato Grosso  Nova ...     CARV   \n",
       "4                          Zona Rural, Vicinal Tuerê      PEC   \n",
       "\n",
       "              Tipo_lista  Unnamed: 13  Unnamed: 14  Unnamed: 15  \\\n",
       "0  Lista suja antiga - 1          NaN          NaN          NaN   \n",
       "1  Lista suja antiga - 1          NaN          NaN          NaN   \n",
       "2  Lista suja antiga - 1          NaN          NaN          NaN   \n",
       "3  Lista suja antiga - 1          NaN          NaN          NaN   \n",
       "4  Lista suja antiga - 1          NaN          NaN          NaN   \n",
       "\n",
       "  documento_inteiro  \n",
       "0    07048374000126  \n",
       "1    06158959000136  \n",
       "2    06158959000136  \n",
       "3    06158959000136  \n",
       "4       19160801115  "
      ]
     },
     "execution_count": 25,
     "metadata": {},
     "output_type": "execute_result"
    }
   ],
   "source": [
    "te.reset_index().head()"
   ]
  },
  {
   "cell_type": "code",
   "execution_count": 26,
   "metadata": {},
   "outputs": [],
   "source": [
    "# te.to_excel('dados/listate_documentointeiro.xlsx',sheet_name='Sheet1')"
   ]
  },
  {
   "cell_type": "code",
   "execution_count": null,
   "metadata": {},
   "outputs": [],
   "source": []
  },
  {
   "cell_type": "markdown",
   "metadata": {},
   "source": [
    "Cria CNPJ raiz"
   ]
  },
  {
   "cell_type": "code",
   "execution_count": 27,
   "metadata": {},
   "outputs": [],
   "source": [
    "def compara2(linha):\n",
    "    documento = str(linha[\"documento_inteiro\"])\n",
    "    if len(documento) > 11:\n",
    "        return documento[:8]\n",
    "    else:\n",
    "        return \"documento_cpf\""
   ]
  },
  {
   "cell_type": "code",
   "execution_count": 28,
   "metadata": {},
   "outputs": [],
   "source": [
    "te['cnpj_raiz'] = te.apply(compara2, axis=1)"
   ]
  },
  {
   "cell_type": "code",
   "execution_count": 29,
   "metadata": {},
   "outputs": [
    {
     "name": "stdout",
     "output_type": "stream",
     "text": [
      "<class 'pandas.core.frame.DataFrame'>\n",
      "Int64Index: 5707 entries, 0 to 5830\n",
      "Data columns (total 18 columns):\n",
      "Data_lista            5707 non-null object\n",
      "DATA_INCLUS           3123 non-null object\n",
      "Proprietario          5707 non-null object\n",
      "Nome_propriedade      5707 non-null object\n",
      "Municipio             5691 non-null object\n",
      "Estado                5699 non-null object\n",
      "CNPJ_CPF_CEI          5707 non-null object\n",
      "CNPJ_CPF_CEI_limpo    5707 non-null object\n",
      "Trab_Envolv           4695 non-null float64\n",
      "Ramo_atividade        2840 non-null object\n",
      "Localizacao           2734 non-null object\n",
      "Cod_ativ              3141 non-null object\n",
      "Tipo_lista            5707 non-null object\n",
      "Unnamed: 13           0 non-null float64\n",
      "Unnamed: 14           0 non-null float64\n",
      "Unnamed: 15           0 non-null float64\n",
      "documento_inteiro     5707 non-null object\n",
      "cnpj_raiz             5707 non-null object\n",
      "dtypes: float64(4), object(14)\n",
      "memory usage: 847.1+ KB\n"
     ]
    }
   ],
   "source": [
    "te.info()"
   ]
  },
  {
   "cell_type": "code",
   "execution_count": null,
   "metadata": {},
   "outputs": [],
   "source": []
  },
  {
   "cell_type": "markdown",
   "metadata": {},
   "source": [
    "PF"
   ]
  },
  {
   "cell_type": "code",
   "execution_count": 30,
   "metadata": {},
   "outputs": [],
   "source": [
    "tePF = te[(te['cnpj_raiz'] == 'documento_cpf')]"
   ]
  },
  {
   "cell_type": "code",
   "execution_count": 31,
   "metadata": {},
   "outputs": [
    {
     "name": "stdout",
     "output_type": "stream",
     "text": [
      "<class 'pandas.core.frame.DataFrame'>\n",
      "Int64Index: 4334 entries, 4 to 5830\n",
      "Data columns (total 18 columns):\n",
      "Data_lista            4334 non-null object\n",
      "DATA_INCLUS           2251 non-null object\n",
      "Proprietario          4334 non-null object\n",
      "Nome_propriedade      4334 non-null object\n",
      "Municipio             4320 non-null object\n",
      "Estado                4328 non-null object\n",
      "CNPJ_CPF_CEI          4334 non-null object\n",
      "CNPJ_CPF_CEI_limpo    4334 non-null object\n",
      "Trab_Envolv           3595 non-null float64\n",
      "Ramo_atividade        2268 non-null object\n",
      "Localizacao           2182 non-null object\n",
      "Cod_ativ              2483 non-null object\n",
      "Tipo_lista            4334 non-null object\n",
      "Unnamed: 13           0 non-null float64\n",
      "Unnamed: 14           0 non-null float64\n",
      "Unnamed: 15           0 non-null float64\n",
      "documento_inteiro     4334 non-null object\n",
      "cnpj_raiz             4334 non-null object\n",
      "dtypes: float64(4), object(14)\n",
      "memory usage: 643.3+ KB\n"
     ]
    }
   ],
   "source": [
    "tePF.info()"
   ]
  },
  {
   "cell_type": "code",
   "execution_count": null,
   "metadata": {},
   "outputs": [],
   "source": []
  },
  {
   "cell_type": "markdown",
   "metadata": {},
   "source": [
    "PJ"
   ]
  },
  {
   "cell_type": "code",
   "execution_count": 32,
   "metadata": {},
   "outputs": [],
   "source": [
    "tePJ = te[(te['cnpj_raiz'] != 'documento_cpf')]"
   ]
  },
  {
   "cell_type": "code",
   "execution_count": 33,
   "metadata": {},
   "outputs": [
    {
     "name": "stdout",
     "output_type": "stream",
     "text": [
      "<class 'pandas.core.frame.DataFrame'>\n",
      "Int64Index: 1373 entries, 0 to 5829\n",
      "Data columns (total 18 columns):\n",
      "Data_lista            1373 non-null object\n",
      "DATA_INCLUS           872 non-null object\n",
      "Proprietario          1373 non-null object\n",
      "Nome_propriedade      1373 non-null object\n",
      "Municipio             1371 non-null object\n",
      "Estado                1371 non-null object\n",
      "CNPJ_CPF_CEI          1373 non-null object\n",
      "CNPJ_CPF_CEI_limpo    1373 non-null object\n",
      "Trab_Envolv           1100 non-null float64\n",
      "Ramo_atividade        572 non-null object\n",
      "Localizacao           552 non-null object\n",
      "Cod_ativ              658 non-null object\n",
      "Tipo_lista            1373 non-null object\n",
      "Unnamed: 13           0 non-null float64\n",
      "Unnamed: 14           0 non-null float64\n",
      "Unnamed: 15           0 non-null float64\n",
      "documento_inteiro     1373 non-null object\n",
      "cnpj_raiz             1373 non-null object\n",
      "dtypes: float64(4), object(14)\n",
      "memory usage: 203.8+ KB\n"
     ]
    }
   ],
   "source": [
    "tePJ.info()"
   ]
  },
  {
   "cell_type": "code",
   "execution_count": null,
   "metadata": {},
   "outputs": [],
   "source": []
  },
  {
   "cell_type": "markdown",
   "metadata": {},
   "source": [
    "# Cruzamento 1 - de CNPJs - candidatos eleitos e doacoes diretas + nomes na lista TE"
   ]
  },
  {
   "cell_type": "code",
   "execution_count": 34,
   "metadata": {},
   "outputs": [],
   "source": [
    "te_doadores_diretos = pd.merge(doacoes_d_2014PJ, tePJ.drop_duplicates('cnpj_raiz'), left_on='cnpj_doador_raiz', right_on='cnpj_raiz')"
   ]
  },
  {
   "cell_type": "code",
   "execution_count": 35,
   "metadata": {},
   "outputs": [
    {
     "name": "stdout",
     "output_type": "stream",
     "text": [
      "<class 'pandas.core.frame.DataFrame'>\n",
      "Int64Index: 38 entries, 0 to 37\n",
      "Data columns (total 49 columns):\n",
      "uf_x                           38 non-null object\n",
      "partido_eleicao_x              38 non-null object\n",
      "cargo_x                        38 non-null object\n",
      "nome_completo_x                38 non-null object\n",
      "cpf                            38 non-null object\n",
      "cpf_cnpj_doador                38 non-null object\n",
      "nome_doador                    38 non-null object\n",
      "valor                          38 non-null float64\n",
      "tipo_receita                   38 non-null object\n",
      "fonte_recurso                  38 non-null object\n",
      "especie_recurso                38 non-null object\n",
      "descricao                      38 non-null object\n",
      "cpf_cnpj_doador_originario     38 non-null object\n",
      "nome_doador_originario         38 non-null object\n",
      "tipo_doador_originario         38 non-null object\n",
      "uf_y                           38 non-null object\n",
      "cargo_y                        36 non-null object\n",
      "nome_completo_y                38 non-null object\n",
      "sequencial                     38 non-null object\n",
      "nome_urna                      38 non-null object\n",
      "partido_eleicao_y              38 non-null object\n",
      "situacao_urna                  38 non-null object\n",
      "condicao                       38 non-null object\n",
      "deputado_id                    38 non-null object\n",
      "legislatura                    38 non-null int64\n",
      "partido_atual                  38 non-null object\n",
      "situacao_mandato               38 non-null object\n",
      "uri                            38 non-null object\n",
      "bancada_ruralista              38 non-null object\n",
      "cnpj_doador_raiz               38 non-null object\n",
      "cnpj_doador_originario_raiz    38 non-null object\n",
      "Data_lista                     38 non-null object\n",
      "DATA_INCLUS                    31 non-null object\n",
      "Proprietario                   38 non-null object\n",
      "Nome_propriedade               38 non-null object\n",
      "Municipio                      38 non-null object\n",
      "Estado                         38 non-null object\n",
      "CNPJ_CPF_CEI                   38 non-null object\n",
      "CNPJ_CPF_CEI_limpo             38 non-null object\n",
      "Trab_Envolv                    33 non-null float64\n",
      "Ramo_atividade                 7 non-null object\n",
      "Localizacao                    12 non-null object\n",
      "Cod_ativ                       17 non-null object\n",
      "Tipo_lista                     38 non-null object\n",
      "Unnamed: 13                    0 non-null float64\n",
      "Unnamed: 14                    0 non-null float64\n",
      "Unnamed: 15                    0 non-null float64\n",
      "documento_inteiro              38 non-null object\n",
      "cnpj_raiz                      38 non-null object\n",
      "dtypes: float64(5), int64(1), object(43)\n",
      "memory usage: 14.8+ KB\n"
     ]
    }
   ],
   "source": [
    "te_doadores_diretos.info()"
   ]
  },
  {
   "cell_type": "code",
   "execution_count": 36,
   "metadata": {},
   "outputs": [],
   "source": [
    "te_doadores_diretos.to_csv('resultados/te_doadores_diretos.csv', index=False, decimal=',')"
   ]
  },
  {
   "cell_type": "code",
   "execution_count": 37,
   "metadata": {},
   "outputs": [],
   "source": [
    "te_doadores_diretos.to_excel('resultados/te_doadores_diretos.xlsx',sheet_name='Sheet1')"
   ]
  },
  {
   "cell_type": "code",
   "execution_count": null,
   "metadata": {},
   "outputs": [],
   "source": []
  },
  {
   "cell_type": "markdown",
   "metadata": {},
   "source": [
    "# Cruzamento 2 - de CNPJs - candidatos eleitos e doacoes indiretas + nomes na lista TE"
   ]
  },
  {
   "cell_type": "code",
   "execution_count": 38,
   "metadata": {},
   "outputs": [],
   "source": [
    "te_doadores_indiretos = pd.merge(doacoes_d_2014PJ, tePJ.drop_duplicates('cnpj_raiz'), left_on='cnpj_doador_originario_raiz', right_on='cnpj_raiz')"
   ]
  },
  {
   "cell_type": "code",
   "execution_count": 39,
   "metadata": {},
   "outputs": [
    {
     "name": "stdout",
     "output_type": "stream",
     "text": [
      "<class 'pandas.core.frame.DataFrame'>\n",
      "Int64Index: 67 entries, 0 to 66\n",
      "Data columns (total 49 columns):\n",
      "uf_x                           67 non-null object\n",
      "partido_eleicao_x              67 non-null object\n",
      "cargo_x                        67 non-null object\n",
      "nome_completo_x                67 non-null object\n",
      "cpf                            67 non-null object\n",
      "cpf_cnpj_doador                67 non-null object\n",
      "nome_doador                    67 non-null object\n",
      "valor                          67 non-null float64\n",
      "tipo_receita                   67 non-null object\n",
      "fonte_recurso                  67 non-null object\n",
      "especie_recurso                67 non-null object\n",
      "descricao                      67 non-null object\n",
      "cpf_cnpj_doador_originario     67 non-null object\n",
      "nome_doador_originario         67 non-null object\n",
      "tipo_doador_originario         67 non-null object\n",
      "uf_y                           67 non-null object\n",
      "cargo_y                        62 non-null object\n",
      "nome_completo_y                67 non-null object\n",
      "sequencial                     67 non-null object\n",
      "nome_urna                      67 non-null object\n",
      "partido_eleicao_y              67 non-null object\n",
      "situacao_urna                  67 non-null object\n",
      "condicao                       67 non-null object\n",
      "deputado_id                    67 non-null object\n",
      "legislatura                    67 non-null int64\n",
      "partido_atual                  67 non-null object\n",
      "situacao_mandato               67 non-null object\n",
      "uri                            67 non-null object\n",
      "bancada_ruralista              67 non-null object\n",
      "cnpj_doador_raiz               67 non-null object\n",
      "cnpj_doador_originario_raiz    67 non-null object\n",
      "Data_lista                     67 non-null object\n",
      "DATA_INCLUS                    67 non-null object\n",
      "Proprietario                   67 non-null object\n",
      "Nome_propriedade               67 non-null object\n",
      "Municipio                      67 non-null object\n",
      "Estado                         67 non-null object\n",
      "CNPJ_CPF_CEI                   67 non-null object\n",
      "CNPJ_CPF_CEI_limpo             67 non-null object\n",
      "Trab_Envolv                    49 non-null float64\n",
      "Ramo_atividade                 17 non-null object\n",
      "Localizacao                    17 non-null object\n",
      "Cod_ativ                       17 non-null object\n",
      "Tipo_lista                     67 non-null object\n",
      "Unnamed: 13                    0 non-null float64\n",
      "Unnamed: 14                    0 non-null float64\n",
      "Unnamed: 15                    0 non-null float64\n",
      "documento_inteiro              67 non-null object\n",
      "cnpj_raiz                      67 non-null object\n",
      "dtypes: float64(5), int64(1), object(43)\n",
      "memory usage: 26.2+ KB\n"
     ]
    }
   ],
   "source": [
    "te_doadores_indiretos.info()"
   ]
  },
  {
   "cell_type": "code",
   "execution_count": 40,
   "metadata": {},
   "outputs": [],
   "source": [
    "te_doadores_indiretos.to_csv('resultados/te_doadores_indiretos.csv', index=False, decimal=',')"
   ]
  },
  {
   "cell_type": "code",
   "execution_count": 41,
   "metadata": {},
   "outputs": [],
   "source": [
    "te_doadores_indiretos.to_excel('resultados/te_doadores_indiretos.xlsx',sheet_name='Sheet1')"
   ]
  },
  {
   "cell_type": "code",
   "execution_count": null,
   "metadata": {},
   "outputs": [],
   "source": []
  },
  {
   "cell_type": "markdown",
   "metadata": {},
   "source": [
    "# Cruzamento 3 - de CPFs - candidatos eleitos e doacoes diretas + nomes na lista do TE"
   ]
  },
  {
   "cell_type": "code",
   "execution_count": 42,
   "metadata": {},
   "outputs": [],
   "source": [
    "te_doadores_diretos_cpf = pd.merge(doacoes_d_2014PF, tePF.drop_duplicates('documento_inteiro'), \n",
    "                                      left_on='cpf_cnpj_doador', right_on='documento_inteiro')"
   ]
  },
  {
   "cell_type": "code",
   "execution_count": 43,
   "metadata": {},
   "outputs": [
    {
     "name": "stdout",
     "output_type": "stream",
     "text": [
      "<class 'pandas.core.frame.DataFrame'>\n",
      "Int64Index: 4 entries, 0 to 3\n",
      "Data columns (total 47 columns):\n",
      "uf_x                          4 non-null object\n",
      "partido_eleicao_x             4 non-null object\n",
      "cargo_x                       4 non-null object\n",
      "nome_completo_x               4 non-null object\n",
      "cpf                           4 non-null object\n",
      "cpf_cnpj_doador               4 non-null object\n",
      "nome_doador                   4 non-null object\n",
      "valor                         4 non-null float64\n",
      "tipo_receita                  4 non-null object\n",
      "fonte_recurso                 4 non-null object\n",
      "especie_recurso               4 non-null object\n",
      "descricao                     4 non-null object\n",
      "cpf_cnpj_doador_originario    4 non-null object\n",
      "nome_doador_originario        4 non-null object\n",
      "tipo_doador_originario        4 non-null object\n",
      "uf_y                          4 non-null object\n",
      "cargo_y                       3 non-null object\n",
      "nome_completo_y               4 non-null object\n",
      "sequencial                    4 non-null object\n",
      "nome_urna                     4 non-null object\n",
      "partido_eleicao_y             4 non-null object\n",
      "situacao_urna                 4 non-null object\n",
      "condicao                      4 non-null object\n",
      "deputado_id                   4 non-null object\n",
      "legislatura                   4 non-null int64\n",
      "partido_atual                 4 non-null object\n",
      "situacao_mandato              4 non-null object\n",
      "uri                           4 non-null object\n",
      "bancada_ruralista             4 non-null object\n",
      "Data_lista                    4 non-null object\n",
      "DATA_INCLUS                   2 non-null object\n",
      "Proprietario                  4 non-null object\n",
      "Nome_propriedade              4 non-null object\n",
      "Municipio                     4 non-null object\n",
      "Estado                        4 non-null object\n",
      "CNPJ_CPF_CEI                  4 non-null object\n",
      "CNPJ_CPF_CEI_limpo            4 non-null object\n",
      "Trab_Envolv                   4 non-null float64\n",
      "Ramo_atividade                3 non-null object\n",
      "Localizacao                   3 non-null object\n",
      "Cod_ativ                      3 non-null object\n",
      "Tipo_lista                    4 non-null object\n",
      "Unnamed: 13                   0 non-null float64\n",
      "Unnamed: 14                   0 non-null float64\n",
      "Unnamed: 15                   0 non-null float64\n",
      "documento_inteiro             4 non-null object\n",
      "cnpj_raiz                     4 non-null object\n",
      "dtypes: float64(5), int64(1), object(41)\n",
      "memory usage: 1.5+ KB\n"
     ]
    }
   ],
   "source": [
    "te_doadores_diretos_cpf.info()"
   ]
  },
  {
   "cell_type": "code",
   "execution_count": 44,
   "metadata": {},
   "outputs": [],
   "source": [
    "te_doadores_diretos_cpf.to_csv('resultados/te_doadores_diretos_cpf.csv', index=False, decimal=',')"
   ]
  },
  {
   "cell_type": "code",
   "execution_count": 45,
   "metadata": {},
   "outputs": [],
   "source": [
    "te_doadores_diretos_cpf.to_excel('resultados/te_doadores_diretos_cpf.xlsx',sheet_name='Sheet1')"
   ]
  },
  {
   "cell_type": "code",
   "execution_count": null,
   "metadata": {},
   "outputs": [],
   "source": []
  },
  {
   "cell_type": "markdown",
   "metadata": {},
   "source": [
    "# Cruzamento 4 - de CPFs - candidatos eleitos e doacoes indiretas + nomes na lista de TE"
   ]
  },
  {
   "cell_type": "code",
   "execution_count": 46,
   "metadata": {},
   "outputs": [],
   "source": [
    "te_doadores_indiretos_cpf = pd.merge(doacoes_d_2014PF, tePF.drop_duplicates('documento_inteiro'), left_on='cpf_cnpj_doador_originario', right_on='documento_inteiro')"
   ]
  },
  {
   "cell_type": "code",
   "execution_count": 47,
   "metadata": {},
   "outputs": [
    {
     "name": "stdout",
     "output_type": "stream",
     "text": [
      "<class 'pandas.core.frame.DataFrame'>\n",
      "Index: 0 entries\n",
      "Data columns (total 47 columns):\n",
      "uf_x                          0 non-null object\n",
      "partido_eleicao_x             0 non-null object\n",
      "cargo_x                       0 non-null object\n",
      "nome_completo_x               0 non-null object\n",
      "cpf                           0 non-null object\n",
      "cpf_cnpj_doador               0 non-null object\n",
      "nome_doador                   0 non-null object\n",
      "valor                         0 non-null float64\n",
      "tipo_receita                  0 non-null object\n",
      "fonte_recurso                 0 non-null object\n",
      "especie_recurso               0 non-null object\n",
      "descricao                     0 non-null object\n",
      "cpf_cnpj_doador_originario    0 non-null object\n",
      "nome_doador_originario        0 non-null object\n",
      "tipo_doador_originario        0 non-null object\n",
      "uf_y                          0 non-null object\n",
      "cargo_y                       0 non-null object\n",
      "nome_completo_y               0 non-null object\n",
      "sequencial                    0 non-null object\n",
      "nome_urna                     0 non-null object\n",
      "partido_eleicao_y             0 non-null object\n",
      "situacao_urna                 0 non-null object\n",
      "condicao                      0 non-null object\n",
      "deputado_id                   0 non-null object\n",
      "legislatura                   0 non-null int64\n",
      "partido_atual                 0 non-null object\n",
      "situacao_mandato              0 non-null object\n",
      "uri                           0 non-null object\n",
      "bancada_ruralista             0 non-null object\n",
      "Data_lista                    0 non-null object\n",
      "DATA_INCLUS                   0 non-null object\n",
      "Proprietario                  0 non-null object\n",
      "Nome_propriedade              0 non-null object\n",
      "Municipio                     0 non-null object\n",
      "Estado                        0 non-null object\n",
      "CNPJ_CPF_CEI                  0 non-null object\n",
      "CNPJ_CPF_CEI_limpo            0 non-null object\n",
      "Trab_Envolv                   0 non-null float64\n",
      "Ramo_atividade                0 non-null object\n",
      "Localizacao                   0 non-null object\n",
      "Cod_ativ                      0 non-null object\n",
      "Tipo_lista                    0 non-null object\n",
      "Unnamed: 13                   0 non-null float64\n",
      "Unnamed: 14                   0 non-null float64\n",
      "Unnamed: 15                   0 non-null float64\n",
      "documento_inteiro             0 non-null object\n",
      "cnpj_raiz                     0 non-null object\n",
      "dtypes: float64(5), int64(1), object(41)\n",
      "memory usage: 0.0+ bytes\n"
     ]
    }
   ],
   "source": [
    "te_doadores_indiretos_cpf.info()"
   ]
  },
  {
   "cell_type": "code",
   "execution_count": null,
   "metadata": {},
   "outputs": [],
   "source": []
  },
  {
   "cell_type": "markdown",
   "metadata": {},
   "source": [
    "# Cruzamento 5 - candidatos eleitos que estão na lista de TE"
   ]
  },
  {
   "cell_type": "code",
   "execution_count": 48,
   "metadata": {},
   "outputs": [],
   "source": [
    "eleitos_d_te = pd.merge(tePF, eleitos_d, left_on='documento_inteiro', right_on='cpf')"
   ]
  },
  {
   "cell_type": "code",
   "execution_count": 49,
   "metadata": {},
   "outputs": [
    {
     "name": "stdout",
     "output_type": "stream",
     "text": [
      "<class 'pandas.core.frame.DataFrame'>\n",
      "Index: 0 entries\n",
      "Data columns (total 33 columns):\n",
      "Data_lista            0 non-null object\n",
      "DATA_INCLUS           0 non-null object\n",
      "Proprietario          0 non-null object\n",
      "Nome_propriedade      0 non-null object\n",
      "Municipio             0 non-null object\n",
      "Estado                0 non-null object\n",
      "CNPJ_CPF_CEI          0 non-null object\n",
      "CNPJ_CPF_CEI_limpo    0 non-null object\n",
      "Trab_Envolv           0 non-null float64\n",
      "Ramo_atividade        0 non-null object\n",
      "Localizacao           0 non-null object\n",
      "Cod_ativ              0 non-null object\n",
      "Tipo_lista            0 non-null object\n",
      "Unnamed: 13           0 non-null float64\n",
      "Unnamed: 14           0 non-null float64\n",
      "Unnamed: 15           0 non-null float64\n",
      "documento_inteiro     0 non-null object\n",
      "cnpj_raiz             0 non-null object\n",
      "uf                    0 non-null object\n",
      "cargo                 0 non-null object\n",
      "nome_completo         0 non-null object\n",
      "sequencial            0 non-null object\n",
      "cpf                   0 non-null object\n",
      "nome_urna             0 non-null object\n",
      "partido_eleicao       0 non-null object\n",
      "situacao_urna         0 non-null object\n",
      "condicao              0 non-null object\n",
      "deputado_id           0 non-null object\n",
      "legislatura           0 non-null int64\n",
      "partido_atual         0 non-null object\n",
      "situacao_mandato      0 non-null object\n",
      "uri                   0 non-null object\n",
      "bancada_ruralista     0 non-null object\n",
      "dtypes: float64(4), int64(1), object(28)\n",
      "memory usage: 0.0+ bytes\n"
     ]
    }
   ],
   "source": [
    "eleitos_d_te.info()"
   ]
  },
  {
   "cell_type": "code",
   "execution_count": null,
   "metadata": {},
   "outputs": [],
   "source": []
  },
  {
   "cell_type": "markdown",
   "metadata": {},
   "source": [
    "# Lista de empresas e nomes"
   ]
  },
  {
   "cell_type": "markdown",
   "metadata": {},
   "source": [
    "Pega lista de CNPJs raiz"
   ]
  },
  {
   "cell_type": "code",
   "execution_count": 50,
   "metadata": {},
   "outputs": [],
   "source": [
    "lista1 = pd.merge(te_doadores_diretos.drop_duplicates('cnpj_raiz'), te_doadores_indiretos.drop_duplicates('cnpj_raiz'), left_on='cnpj_raiz', right_on='cnpj_raiz', how='outer')"
   ]
  },
  {
   "cell_type": "code",
   "execution_count": 51,
   "metadata": {},
   "outputs": [
    {
     "data": {
      "text/html": [
       "<div>\n",
       "<style scoped>\n",
       "    .dataframe tbody tr th:only-of-type {\n",
       "        vertical-align: middle;\n",
       "    }\n",
       "\n",
       "    .dataframe tbody tr th {\n",
       "        vertical-align: top;\n",
       "    }\n",
       "\n",
       "    .dataframe thead th {\n",
       "        text-align: right;\n",
       "    }\n",
       "</style>\n",
       "<table border=\"1\" class=\"dataframe\">\n",
       "  <thead>\n",
       "    <tr style=\"text-align: right;\">\n",
       "      <th></th>\n",
       "      <th>index</th>\n",
       "      <th>cnpj_raiz</th>\n",
       "    </tr>\n",
       "  </thead>\n",
       "  <tbody>\n",
       "    <tr>\n",
       "      <th>0</th>\n",
       "      <td>0</td>\n",
       "      <td>23998438</td>\n",
       "    </tr>\n",
       "    <tr>\n",
       "      <th>1</th>\n",
       "      <td>1</td>\n",
       "      <td>16365025</td>\n",
       "    </tr>\n",
       "    <tr>\n",
       "      <th>2</th>\n",
       "      <td>2</td>\n",
       "      <td>13959986</td>\n",
       "    </tr>\n",
       "    <tr>\n",
       "      <th>3</th>\n",
       "      <td>3</td>\n",
       "      <td>08199996</td>\n",
       "    </tr>\n",
       "    <tr>\n",
       "      <th>4</th>\n",
       "      <td>4</td>\n",
       "      <td>08343492</td>\n",
       "    </tr>\n",
       "  </tbody>\n",
       "</table>\n",
       "</div>"
      ],
      "text/plain": [
       "   index cnpj_raiz\n",
       "0      0  23998438\n",
       "1      1  16365025\n",
       "2      2  13959986\n",
       "3      3  08199996\n",
       "4      4  08343492"
      ]
     },
     "execution_count": 51,
     "metadata": {},
     "output_type": "execute_result"
    }
   ],
   "source": [
    "lista1.cnpj_raiz.reset_index().head()"
   ]
  },
  {
   "cell_type": "code",
   "execution_count": 52,
   "metadata": {},
   "outputs": [],
   "source": [
    "lista_te_1 = pd.merge(tePJ, lista1, left_on='cnpj_raiz', right_on='cnpj_raiz')"
   ]
  },
  {
   "cell_type": "code",
   "execution_count": 53,
   "metadata": {},
   "outputs": [
    {
     "name": "stdout",
     "output_type": "stream",
     "text": [
      "<class 'pandas.core.frame.DataFrame'>\n",
      "Int64Index: 44 entries, 0 to 43\n",
      "Columns: 114 entries, Data_lista to documento_inteiro_y\n",
      "dtypes: float64(16), object(98)\n",
      "memory usage: 39.5+ KB\n"
     ]
    }
   ],
   "source": [
    "lista_te_1.info()"
   ]
  },
  {
   "cell_type": "code",
   "execution_count": 54,
   "metadata": {},
   "outputs": [],
   "source": [
    "lista_te_1.to_excel('resultados/entidades_te_cnpj.xlsx',sheet_name='Sheet1')"
   ]
  },
  {
   "cell_type": "code",
   "execution_count": null,
   "metadata": {},
   "outputs": [],
   "source": []
  },
  {
   "cell_type": "markdown",
   "metadata": {},
   "source": [
    "Lista apenas com os CPF"
   ]
  },
  {
   "cell_type": "code",
   "execution_count": 55,
   "metadata": {},
   "outputs": [],
   "source": [
    "lista_te_2 = pd.merge(te_doadores_diretos_cpf.drop_duplicates('documento_inteiro'), doacoes_d_2014PF.drop_duplicates('cpf_cnpj_doador'), left_on='documento_inteiro', right_on='cpf_cnpj_doador')"
   ]
  },
  {
   "cell_type": "code",
   "execution_count": 56,
   "metadata": {},
   "outputs": [
    {
     "name": "stdout",
     "output_type": "stream",
     "text": [
      "<class 'pandas.core.frame.DataFrame'>\n",
      "Int64Index: 4 entries, 0 to 3\n",
      "Data columns (total 76 columns):\n",
      "uf_x_x                          4 non-null object\n",
      "partido_eleicao_x_x             4 non-null object\n",
      "cargo_x_x                       4 non-null object\n",
      "nome_completo_x_x               4 non-null object\n",
      "cpf_x                           4 non-null object\n",
      "cpf_cnpj_doador_x               4 non-null object\n",
      "nome_doador_x                   4 non-null object\n",
      "valor_x                         4 non-null float64\n",
      "tipo_receita_x                  4 non-null object\n",
      "fonte_recurso_x                 4 non-null object\n",
      "especie_recurso_x               4 non-null object\n",
      "descricao_x                     4 non-null object\n",
      "cpf_cnpj_doador_originario_x    4 non-null object\n",
      "nome_doador_originario_x        4 non-null object\n",
      "tipo_doador_originario_x        4 non-null object\n",
      "uf_y_x                          4 non-null object\n",
      "cargo_y_x                       3 non-null object\n",
      "nome_completo_y_x               4 non-null object\n",
      "sequencial_x                    4 non-null object\n",
      "nome_urna_x                     4 non-null object\n",
      "partido_eleicao_y_x             4 non-null object\n",
      "situacao_urna_x                 4 non-null object\n",
      "condicao_x                      4 non-null object\n",
      "deputado_id_x                   4 non-null object\n",
      "legislatura_x                   4 non-null int64\n",
      "partido_atual_x                 4 non-null object\n",
      "situacao_mandato_x              4 non-null object\n",
      "uri_x                           4 non-null object\n",
      "bancada_ruralista_x             4 non-null object\n",
      "Data_lista                      4 non-null object\n",
      "DATA_INCLUS                     2 non-null object\n",
      "Proprietario                    4 non-null object\n",
      "Nome_propriedade                4 non-null object\n",
      "Municipio                       4 non-null object\n",
      "Estado                          4 non-null object\n",
      "CNPJ_CPF_CEI                    4 non-null object\n",
      "CNPJ_CPF_CEI_limpo              4 non-null object\n",
      "Trab_Envolv                     4 non-null float64\n",
      "Ramo_atividade                  3 non-null object\n",
      "Localizacao                     3 non-null object\n",
      "Cod_ativ                        3 non-null object\n",
      "Tipo_lista                      4 non-null object\n",
      "Unnamed: 13                     0 non-null float64\n",
      "Unnamed: 14                     0 non-null float64\n",
      "Unnamed: 15                     0 non-null float64\n",
      "documento_inteiro               4 non-null object\n",
      "cnpj_raiz                       4 non-null object\n",
      "uf_x_y                          4 non-null object\n",
      "partido_eleicao_x_y             4 non-null object\n",
      "cargo_x_y                       4 non-null object\n",
      "nome_completo_x_y               4 non-null object\n",
      "cpf_y                           4 non-null object\n",
      "cpf_cnpj_doador_y               4 non-null object\n",
      "nome_doador_y                   4 non-null object\n",
      "valor_y                         4 non-null float64\n",
      "tipo_receita_y                  4 non-null object\n",
      "fonte_recurso_y                 4 non-null object\n",
      "especie_recurso_y               4 non-null object\n",
      "descricao_y                     4 non-null object\n",
      "cpf_cnpj_doador_originario_y    4 non-null object\n",
      "nome_doador_originario_y        4 non-null object\n",
      "tipo_doador_originario_y        4 non-null object\n",
      "uf_y_y                          4 non-null object\n",
      "cargo_y_y                       3 non-null object\n",
      "nome_completo_y_y               4 non-null object\n",
      "sequencial_y                    4 non-null object\n",
      "nome_urna_y                     4 non-null object\n",
      "partido_eleicao_y_y             4 non-null object\n",
      "situacao_urna_y                 4 non-null object\n",
      "condicao_y                      4 non-null object\n",
      "deputado_id_y                   4 non-null object\n",
      "legislatura_y                   4 non-null int64\n",
      "partido_atual_y                 4 non-null object\n",
      "situacao_mandato_y              4 non-null object\n",
      "uri_y                           4 non-null object\n",
      "bancada_ruralista_y             4 non-null object\n",
      "dtypes: float64(6), int64(2), object(68)\n",
      "memory usage: 2.4+ KB\n"
     ]
    }
   ],
   "source": [
    "lista_te_2.info()"
   ]
  },
  {
   "cell_type": "code",
   "execution_count": 57,
   "metadata": {},
   "outputs": [],
   "source": [
    "lista_te_2.to_excel('resultados/entidades_te_cpf.xlsx',sheet_name='Sheet1')"
   ]
  },
  {
   "cell_type": "code",
   "execution_count": null,
   "metadata": {},
   "outputs": [],
   "source": []
  }
 ],
 "metadata": {
  "kernelspec": {
   "display_name": "Python 3",
   "language": "python",
   "name": "python3"
  },
  "language_info": {
   "codemirror_mode": {
    "name": "ipython",
    "version": 3
   },
   "file_extension": ".py",
   "mimetype": "text/x-python",
   "name": "python",
   "nbconvert_exporter": "python",
   "pygments_lexer": "ipython3",
   "version": "3.6.2"
  }
 },
 "nbformat": 4,
 "nbformat_minor": 2
}
